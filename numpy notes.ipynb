{
 "cells": [
  {
   "cell_type": "markdown",
   "id": "9225385d-d756-4571-ae9d-8dcc9192755d",
   "metadata": {},
   "source": [
    "**SO I AM GOING TO START NUMPY FROM NOW STARTING DATE 15-06-25**"
   ]
  },
  {
   "cell_type": "markdown",
   "id": "5d3e1629-f146-4664-8775-03444742a0d8",
   "metadata": {},
   "source": [
    "# WHAT IS NUMPY?\n",
    "\n",
    "In AI/ML, data is just numbers. And NumPy lets you handle them faster, cleaner, and in matrix form—which is exactly what ML models need.\n",
    "Pandas, TensorFlow, PyTorch—all rely on NumPy at the core."
   ]
  },
  {
   "cell_type": "code",
   "execution_count": 2,
   "id": "032ac055-65a0-4786-b783-e8c6dd1e47a2",
   "metadata": {},
   "outputs": [
    {
     "name": "stdout",
     "output_type": "stream",
     "text": [
      "[1 2 4]\n",
      "<class 'numpy.ndarray'>\n",
      "[[1 2 3]\n",
      " [4 5 6]]\n"
     ]
    }
   ],
   "source": [
    "# CREATING FIRST ARRAY\n",
    "import numpy as np\n",
    "\n",
    "a=np.array([1,2,4]) #1D ARRAY\n",
    "print(a)\n",
    "print(type(a))\n",
    "\n",
    "b = np.array([[1, 2, 3], [4, 5, 6]]) #2D ARRAY\n",
    "print(b)\n",
    "\n",
    "#cx=np.array([[1,34,4], [14,97]]) \n",
    "# IF WE TRIES TO PRINT C IT WILL GIVE ERROR CAUSE IN FIRST ROW THERE IS 3 ELEMENT \n",
    "#WHERE IN 2ND ROW THERE IS ONLY 2 ELEMENT.\n",
    "#ACTUALLY ARRAYS ARE LIKE MATRIX IN MATHS THEY FOLLOW ORDER LIKE IN MATRIX 2X3 2X2 ETC.\n"
   ]
  },
  {
   "cell_type": "markdown",
   "id": "6c2870e3-bf5c-43e4-a9ba-09cd1dc5b5bc",
   "metadata": {},
   "source": [
    "**KEY PROPERITIES OF ARRAY .**"
   ]
  },
  {
   "cell_type": "code",
   "execution_count": 2,
   "id": "ec7da997-e85d-470e-be56-6f03b48f8dc4",
   "metadata": {},
   "outputs": [
    {
     "name": "stdout",
     "output_type": "stream",
     "text": [
      "ORDER LIKE IN MATRIX OR SHAPE: (2, 3)\n",
      "Dimension:, 2\n",
      "DATATYPE:  int32\n",
      "SIZE: 6\n",
      "ITEM SIZE:  4\n"
     ]
    }
   ],
   "source": [
    "print(\"ORDER LIKE IN MATRIX OR SHAPE:\",b.shape )\n",
    "print(\"Dimension:,\",b.ndim) # LIKE 2D OR 3D \n",
    "print(\"DATATYPE: \",b.dtype) # WHICH DATA TYPE ARRAY IT IS INT , FLOAT ETC.\n",
    "print(\"SIZE:\",b.size) # FOR PRINTING NO OF ELEMENTS\n",
    "print(\"ITEM SIZE: \",b.itemsize) # 8(bytes per element) \n",
    "\n"
   ]
  },
  {
   "cell_type": "markdown",
   "id": "8781028d",
   "metadata": {},
   "source": [
    "ON PASSING MULTIPLE DATATYPES TO ARRAY IT WILL CONVERT THEM TO SAME DATA TYPE.\n",
    "#### ALSO WE CAN PASS LIST TO ARRAYS AND IF THERE ARE MULTIPLE DATA TYPES IT WILL COVNERT OT SAME DATATYPE.\n",
    "(JUST PASS THE LIST IN PLACE OF ARRAY)\n",
    "#### LISTS ARE GENERALLY 1D BUT ARRAYS ARE 1D,2D, AND ABOVE 2D ARRAY THEY ARE CALLED TENSORS."
   ]
  },
  {
   "cell_type": "code",
   "execution_count": 2,
   "id": "a93e350f",
   "metadata": {},
   "outputs": [
    {
     "name": "stdout",
     "output_type": "stream",
     "text": [
      "['9' '8' '4' 'hell0']\n",
      "<U11\n"
     ]
    }
   ],
   "source": [
    "A=[9,8,4,'hell0']\n",
    "a=np.array(A)\n",
    "print(a)\n",
    "print(a.dtype) # <U21 WHICH REFERS TO THE FACT THAT ALL DATA ARE CONVERTED TO STRING DATATYPE"
   ]
  },
  {
   "cell_type": "markdown",
   "id": "a407dc3c",
   "metadata": {},
   "source": [
    "HOW TO GENERATE 1D ARRAYS"
   ]
  },
  {
   "cell_type": "markdown",
   "id": "a89c71f9",
   "metadata": {},
   "source": [
    "TO GENERATE ARRAYS WE USE **np.arange(start,end,steps)** OR **np.linspace(start,end,no of elements we want to generate)** SIMILAR TO RANGE FUNCTION IN FOR"
   ]
  },
  {
   "cell_type": "code",
   "execution_count": 3,
   "id": "0c4669a8",
   "metadata": {},
   "outputs": [
    {
     "name": "stdout",
     "output_type": "stream",
     "text": [
      "[1 3 5 7 9]\n",
      "[ 1.   5.5 10. ]\n"
     ]
    }
   ],
   "source": [
    "arr=np.arange(1,11,2)\n",
    "print(arr)\n",
    "\n",
    "arr=np.linspace(1,10,3) # np.linspace CHECKS INTERVAL GAP AND THEN GENERATES TOTAL ELEMENTS WITH SAME INTERVAL SO THAT IT WILL REACH THE END WITH SAME INTERVAL\n",
    "print(arr)"
   ]
  },
  {
   "cell_type": "markdown",
   "id": "83b81dca",
   "metadata": {},
   "source": [
    "HOW TO GENERATE MATRIX MEANS ARRAYS WITH MORE THAN 1D."
   ]
  },
  {
   "cell_type": "markdown",
   "id": "18f7e180",
   "metadata": {},
   "source": [
    "WE CAN USE **np.zeroes((no. of rows , no. of columns))** OR **np.ones((no. of rows , no. of columns))** TO GENERATE 2D ARRAYS WITH ZEROES OR ONES AS ELEMENTS."
   ]
  },
  {
   "cell_type": "markdown",
   "id": "a05d9633",
   "metadata": {},
   "source": [
    "NOTE: a=np.arange(12).reshape(3,4) # IN THIS METHOD YOU CAN CREATE ANY 2D MATRIX OF ANY ORDER"
   ]
  },
  {
   "cell_type": "code",
   "execution_count": 6,
   "id": "20a02a5c",
   "metadata": {},
   "outputs": [
    {
     "name": "stdout",
     "output_type": "stream",
     "text": [
      "[[0. 0.]\n",
      " [0. 0.]]\n",
      "[[1. 1. 1. 1. 1. 1. 1. 1. 1.]\n",
      " [1. 1. 1. 1. 1. 1. 1. 1. 1.]\n",
      " [1. 1. 1. 1. 1. 1. 1. 1. 1.]\n",
      " [1. 1. 1. 1. 1. 1. 1. 1. 1.]\n",
      " [1. 1. 1. 1. 1. 1. 1. 1. 1.]\n",
      " [1. 1. 1. 1. 1. 1. 1. 1. 1.]\n",
      " [1. 1. 1. 1. 1. 1. 1. 1. 1.]\n",
      " [1. 1. 1. 1. 1. 1. 1. 1. 1.]]\n"
     ]
    }
   ],
   "source": [
    "arr=np.zeros((2,2))\n",
    "print(arr)\n",
    "\n",
    "arr=np.ones((8,9))\n",
    "print(arr)"
   ]
  },
  {
   "cell_type": "code",
   "execution_count": 3,
   "id": "8dbb67d5",
   "metadata": {},
   "outputs": [
    {
     "name": "stdout",
     "output_type": "stream",
     "text": [
      "[8 7 0 0 3]\n",
      "[[0.24410884 0.70416082 0.47773142 0.79834503]\n",
      " [0.82121469 0.10189957 0.85745746 0.14540036]\n",
      " [0.604719   0.13232837 0.75483013 0.03383525]]\n"
     ]
    }
   ],
   "source": [
    "arr4 = np.random.randint(0, 10, 5)\n",
    "print(arr4)\n",
    "arr4 = np.random.rand(3, 4)\n",
    "print(arr4)"
   ]
  },
  {
   "cell_type": "markdown",
   "id": "d514dd03",
   "metadata": {},
   "source": [
    "RANDOM GENERATION ARRAYS "
   ]
  },
  {
   "cell_type": "markdown",
   "id": "790a6d19",
   "metadata": {},
   "source": [
    "TO RANDOMLY GENERATE ARRAYS WE CAN USE **np.random.rand(no. of rows, no. of columns, no. of elements)** IT WILL GENERATE ALL THE ELEMENTS B/W 0 TO 1 DUE TO CONCEPT OF NORMALIZATION AND IF YOU DON'T PROVIDE NO OF ROWS AND NO OF COLUMNS IT WILL BY DEFAULT TREAT BOTH OF THEM AS 1,1"
   ]
  },
  {
   "cell_type": "code",
   "execution_count": 5,
   "id": "ed4d5310",
   "metadata": {},
   "outputs": [
    {
     "name": "stdout",
     "output_type": "stream",
     "text": [
      "[[[0.70462634 0.85565692]]\n",
      "\n",
      " [[0.93099546 0.21342304]]]\n"
     ]
    }
   ],
   "source": [
    "arr=np.random.rand(2,1,2)\n",
    "print(arr)"
   ]
  },
  {
   "cell_type": "markdown",
   "id": "24e00763",
   "metadata": {},
   "source": [
    "## EXERCISE OF FIRST PART"
   ]
  },
  {
   "cell_type": "markdown",
   "id": "18a96d53",
   "metadata": {},
   "source": [
    " 1.Print their .shape and .ndim — what do you notice?"
   ]
  },
  {
   "cell_type": "code",
   "execution_count": null,
   "id": "882a5367",
   "metadata": {},
   "outputs": [
    {
     "name": "stdout",
     "output_type": "stream",
     "text": [
      "(3,)\n",
      "1\n",
      "(1, 3)\n",
      "2\n",
      "(1, 1, 3)\n",
      "3\n",
      "1\n",
      "3\n"
     ]
    }
   ],
   "source": [
    "x = np.array([1, 2, 3])\n",
    "y = np.array([[1, 2, 3]])\n",
    "z = np.array([[[1, 2, 3]]])\n",
    "\n",
    "print(x.shape)\n",
    "print(x.ndim)\n",
    "\n",
    "print(y.shape)\n",
    "print(y.ndim)\n",
    "\n",
    "print(z.shape)\n",
    "print(z.ndim)\n",
    "\n",
    "# TO PRINT NO OF ROWS OR COLUMNS U CAN USE AXIS FOR EX-\n",
    "print(y.shape[0]) #prints no of rows\n",
    "print(y.shape[1]) #prints no of columns\n",
    "\n"
   ]
  },
  {
   "cell_type": "markdown",
   "id": "a79cf39b",
   "metadata": {},
   "source": [
    "2.  Create Specific Arrays"
   ]
  },
  {
   "cell_type": "code",
   "execution_count": null,
   "id": "f75c5fd0",
   "metadata": {},
   "outputs": [
    {
     "name": "stdout",
     "output_type": "stream",
     "text": [
      "[[1. 0. 0. 0.]\n",
      " [0. 1. 0. 0.]\n",
      " [0. 0. 1. 0.]\n",
      " [0. 0. 0. 1.]]\n"
     ]
    },
    {
     "data": {
      "text/plain": [
       "array([0.  , 0.25, 0.5 , 0.75, 1.  ])"
      ]
     },
     "execution_count": 18,
     "metadata": {},
     "output_type": "execute_result"
    }
   ],
   "source": [
    "np.zeros((3, 4))       # 3x4 array of 0s\n",
    "np.ones((2, 2))        # 2x2 array of 1s\n",
    "np.full((3, 3), 7)     # 3x3 array filled with 7\n",
    "np.eye(4)             # Identity matrix\n",
    "np.arange(0, 10, 2)    # Like range() but as an array\n",
    "np.linspace(0, 1, 5)   # 5 evenly spaced numbers from 0 to 1\n"
   ]
  },
  {
   "cell_type": "markdown",
   "id": "c72c9c1e",
   "metadata": {},
   "source": [
    "NOTE: FOR COUNTING THE SHPAE(ORDER) OF ARRAYS COUNT LIKE THIS \n",
    "EX:z = np.array([[[1, 2, 3]]])\n",
    "\n",
    "*  Outermost list → 1 element → shape starts with 1\n",
    "\n",
    "*  Inside it: another list with 1 element → second 1\n",
    "\n",
    "*  Inside that: actual array [1, 2, 3] → that’s length 3 → third dimension\n",
    "\n",
    "`[\n",
    "  [           # axis 0 → 1 item\n",
    "    [1, 2, 3] # axis 1 → 1 item → axis 2 → length 3\n",
    "  ]\n",
    "]\n",
    "`\n",
    " \n",
    " 3D arrays = (depth, rows, columns) → often used for images, time series, or tensors.\n",
    "\n"
   ]
  },
  {
   "cell_type": "markdown",
   "id": "2317f2bf",
   "metadata": {},
   "source": [
    "Q3. Write a function that creates a 3x3 identity matrix, then multiplies it by 5 and converts the result into float32."
   ]
  },
  {
   "cell_type": "code",
   "execution_count": null,
   "id": "d386c5fa",
   "metadata": {},
   "outputs": [
    {
     "name": "stdout",
     "output_type": "stream",
     "text": [
      "[[5. 0. 0.]\n",
      " [0. 5. 0.]\n",
      " [0. 0. 5.]]\n"
     ]
    },
    {
     "data": {
      "text/plain": [
       "'def custom_matrix():\\n    a = np.eye(3, dtype=np.float32) * 5\\n    return a\\n\\nprint(custom_matrix())\\n'"
      ]
     },
     "execution_count": 6,
     "metadata": {},
     "output_type": "execute_result"
    }
   ],
   "source": [
    "def custom_matrix():\n",
    "    a=np.eye(3)\n",
    "    a=a*5\n",
    "    print(a)\n",
    "custom_matrix()  \n",
    "\n",
    "\n",
    "#pro level\n",
    "\n",
    "\"\"\"def custom_matrix():\n",
    "    a = np.eye(3, dtype=np.float32) * 5\n",
    "    return a\n",
    "\n",
    "print(custom_matrix())\n",
    "\"\"\"\n"
   ]
  },
  {
   "cell_type": "markdown",
   "id": "21ec2800",
   "metadata": {},
   "source": [
    "# MODULE 2: INDEXING & SLICING (Data Ninja Training 🥷)\n",
    "\n",
    "Goal: Master selecting and manipulating parts of data in NumPy arrays\n",
    "You’ll need this skill in every ML model, every data pipeline."
   ]
  },
  {
   "cell_type": "markdown",
   "id": "d9d2a77c",
   "metadata": {},
   "source": [
    "####  Step 1: Indexing Like a List (1D Arrays)"
   ]
  },
  {
   "cell_type": "code",
   "execution_count": null,
   "id": "f27cc94c",
   "metadata": {},
   "outputs": [],
   "source": [
    "arr = np.array([10, 20, 30, 40])\n",
    "print(arr[0])     # 10\n",
    "print(arr[-1])    # 40\n"
   ]
  },
  {
   "cell_type": "markdown",
   "id": "c8266122",
   "metadata": {},
   "source": [
    "####  Step 2: 2D Indexing"
   ]
  },
  {
   "cell_type": "markdown",
   "id": "5f78fc78",
   "metadata": {},
   "source": [
    "Format: array[row, column]\n",
    "* The indexing of row as well as column starts from 0 and goes to n-1"
   ]
  },
  {
   "cell_type": "code",
   "execution_count": 26,
   "id": "b0c913bf",
   "metadata": {},
   "outputs": [
    {
     "name": "stdout",
     "output_type": "stream",
     "text": [
      "2\n",
      "6\n"
     ]
    }
   ],
   "source": [
    "arr2d = np.array([[1, 2, 3], [4, 5, 6]])\n",
    "\n",
    "print(arr2d[0, 1])  # 2\n",
    "print(arr2d[1][2])  # 6\n"
   ]
  },
  {
   "cell_type": "markdown",
   "id": "e7462840",
   "metadata": {},
   "source": [
    "####  Step 3: Slicing (Core Skill)\n",
    "* format array_name[starting_row:ending_row:steps , starting_column:ending_column:steps]\n",
    "\n",
    "* The ending index is not included it goes from starting_index to ending_index-1"
   ]
  },
  {
   "cell_type": "code",
   "execution_count": null,
   "id": "5aa5afbd",
   "metadata": {},
   "outputs": [],
   "source": [
    "import numpy as np\n",
    "\n",
    "a1D=np.array([1,2,4,9,0])\n",
    "print(a1D[1:4:2])\n",
    "\n",
    "a2D=np.array([[1,2,4],[5,8,9],[2,6,3]])\n",
    "a2D_np = np.array(a2D)\n",
    "print(a2D_np[1:2, 1:2])\n",
    "\n",
    "#REVERSING THE ARRAY IN SLICING\n",
    "print(a1D[::-1])\n",
    "print(a2D[::-1])   # REVERSE ROWS\n",
    "print(a2D[:,::-1]) # REVERSE COLUMNS\n",
    "\n"
   ]
  },
  {
   "cell_type": "markdown",
   "id": "dff06dc6",
   "metadata": {},
   "source": [
    "---"
   ]
  },
  {
   "cell_type": "markdown",
   "id": "97530891",
   "metadata": {},
   "source": [
    "### FOR A 3D ARRAY\n",
    "#### Explanation:\n",
    "####  For a 3D array with shape (3, 4, 5):\n",
    "#### It means that there are 3 matrices with order 4x5\n",
    "### IF IT IS 4D ARRAY LIKE (4,3,2,5)\n",
    "#### Means that there are 4 matrices with every matrices consist of 3 more matrices with order 2x5 \n",
    "#### Also here axis = 0 means first 4 matrices , axis=1 means 3 matrices inside those 4 matrices, axis=2 means rows of 2x5 matrices and axis=1 means colums of 2x5 matrices\n",
    "---\n"
   ]
  },
  {
   "cell_type": "markdown",
   "id": "ff663cba",
   "metadata": {},
   "source": [
    "### QUESTIONS\n",
    "### 🟢 **Basic Level**\n",
    "\n",
    "1. Given a 3D array `arr` of shape `(4, 3, 5)`, how do you select the first matrix (i.e., first 2D slice along axis 0)?\n",
    "\n",
    "2. From the same array `arr`, how do you extract all rows from the second matrix?\n",
    "\n",
    "3. How do you get all elements of the last row from each matrix?\n",
    "\n",
    "---\n",
    "\n",
    "### 🟠 **Intermediate Level**\n",
    "\n",
    "4. Given `arr` of shape `(5, 4, 6)`, slice and return the last two matrices.\n",
    "\n",
    "5. Extract columns 1 to 3 (inclusive) from all matrices.\n",
    "\n",
    "6. Extract elements at indices `[0, 1, 2]` of the last axis for all matrices.\n",
    "\n",
    "7. How do you reverse the order of matrices in the first dimension?\n",
    "\n",
    "---\n",
    "\n",
    "### 🔴 **Advanced Level**\n",
    "\n",
    "8. For `arr` of shape `(6, 5, 4)`, write a slice that extracts:\n",
    "\n",
    "   * The first 3 matrices\n",
    "   * The last 2 rows\n",
    "   * The first 2 columns\n",
    "\n",
    "9. Given `arr` of shape `(3, 4, 5)`, how would you extract every second column in all matrices?\n",
    "\n",
    "10. Write a slice to get all matrices, all rows, but only columns with even indices.\n",
    "\n",
    "11. Given `arr`, how would you slice it so that:\n",
    "\n",
    "    * The first axis is reversed\n",
    "    * The second axis is taken as every second row\n",
    "    * The third axis is left as is\n",
    "\n"
   ]
  },
  {
   "cell_type": "code",
   "execution_count": null,
   "id": "d98d370d",
   "metadata": {},
   "outputs": [],
   "source": [
    "a=np.arange(60).reshape(4,3,5)\n",
    "print(a)\n",
    "print(a[:1,:,:])\n",
    "print(a[1:2,:,:])\n",
    "print(a[:,:,4])\n",
    "\n",
    "a=np.arange(120).reshape(5,4,6)\n",
    "print(a)\n",
    "print(a[3:,:,:])\n",
    "print(a[:,:,0:3])\n",
    "print(a[:,:1,1:2])\n",
    "print(a[4::-1,:,:])\n",
    "\n",
    "a=np.arange(120).reshape(6,5,4)\n",
    "print(a)\n",
    "print(a[:3,:,:])\n",
    "print(a[4:,:2,:])\n",
    "print(a[:,:,:2])\n",
    "\n",
    "\n",
    "a=np.arange(60).reshape(3,4,5)\n",
    "print(a[:,:,:2])\n",
    "print(a[:,:,0::2])\n",
    "\n"
   ]
  },
  {
   "cell_type": "markdown",
   "id": "a858708c",
   "metadata": {},
   "source": [
    "### EXERCISE 2"
   ]
  },
  {
   "cell_type": "markdown",
   "id": "c7cf8558",
   "metadata": {},
   "source": [
    "\n",
    "Q1. Create a 3x4 matrix using np.arange(12).reshape(3,4)\n",
    "\n",
    "Extract the second row\n",
    "\n",
    "Extract the last column\n",
    "\n",
    "Extract the top-left 2x2 submatrix"
   ]
  },
  {
   "cell_type": "code",
   "execution_count": null,
   "id": "bc871de5",
   "metadata": {},
   "outputs": [],
   "source": [
    "a=np.arange(12).reshape(3,4) # IN THIS METHOD YOU CAN CREATE ANY 2D MATRIX OF ANY ORDER\n",
    "print(a)\n",
    "print(a[1:2])\n",
    "print(a[:,3:])\n",
    "print(a[0:2,0:2])"
   ]
  },
  {
   "cell_type": "markdown",
   "id": "3f240c55",
   "metadata": {},
   "source": [
    " Exercise 2:\n",
    "Create a 5x5 matrix of random ints from 1–100\n",
    "\n",
    "Extract all even numbers using boolean indexing\n",
    "\n",
    "Replace all values > 50 with -1\n"
   ]
  },
  {
   "cell_type": "code",
   "execution_count": null,
   "id": "ccb1a012",
   "metadata": {},
   "outputs": [],
   "source": [
    "a = np.random.randint(1, 101, size=(5, 5))\n",
    "print(a)\n",
    "print(a[:100, :-1])\n",
    "\n",
    "# Extract all even numbers using boolean indexing\n",
    "even_numbers = a[a % 2 == 0]\n",
    "print(\"Even numbers:\\n\", even_numbers)\n",
    "\n",
    "# Replace all values > 50 with -1\n",
    "a[a > 50] = -1\n",
    "print(\"After replacing values > 50 with -1:\\n\", a)\n",
    "\n"
   ]
  },
  {
   "cell_type": "markdown",
   "id": "83587b15",
   "metadata": {},
   "source": [
    "### NOTE: Boolean indexing \n",
    "It is a technique in Python (especially with NumPy arrays and Pandas DataFrames) where you use a boolean array (an array of `True` and `False` values) to select elements from another array.\n",
    "\n",
    "**How it works:**\n",
    "- You create a boolean condition that returns a boolean array.\n",
    "- Use this boolean array to index/select elements from the original array.\n",
    "\n",
    "**Example with NumPy:**\n",
    "````python\n",
    "import numpy as np\n",
    "\n",
    "arr = np.array([1, 2, 3, 4, 5])\n",
    "mask = arr > 3           # [False, False, False, True, True]\n",
    "result = arr[mask]       # [4, 5]\n",
    "# Or directly: arr[arr > 3]\n",
    "````\n",
    "\n",
    "**Use cases:**\n",
    "- Filtering data based on conditions\n",
    "- Selecting or modifying elements that meet certain criteria\n",
    "\n",
    "**Summary:**  \n",
    "Boolean indexing allows you to filter or select elements from arrays using conditions, making data manipulation concise and efficient."
   ]
  },
  {
   "cell_type": "markdown",
   "id": "34542882",
   "metadata": {},
   "source": [
    "Mini Challenge:\n",
    "Given a 4x4 matrix from 0–15, write code to extract the center 2x2 submatrix."
   ]
  },
  {
   "cell_type": "markdown",
   "id": "315199c3",
   "metadata": {},
   "source": [
    "print(a[:100, :-1]) WHAT IS THIS ?\n",
    "\n",
    "This is a very common pattern in ML datasets, especially tabular ones:\n",
    "\n",
    "a[:100] → First 100 samples (rows)\n",
    "\n",
    "a[:, :-1] → All columns except the last one\n",
    "\n",
    "Why?\n",
    "\n",
    "👉 In datasets, usually:\n",
    "\n",
    "Last column = label/output (like \"cat\", \"spam\", \"price\")\n",
    "\n",
    "Rest = features (age, pixels, words, etc.)\n"
   ]
  },
  {
   "cell_type": "code",
   "execution_count": 7,
   "id": "91abac58",
   "metadata": {},
   "outputs": [
    {
     "name": "stdout",
     "output_type": "stream",
     "text": [
      "[[ 5  6]\n",
      " [ 9 10]]\n"
     ]
    }
   ],
   "source": [
    "a = np.arange(16).reshape(4, 4)\n",
    "# Now extract [[5,6],[9,10]]\n",
    "print(a[1:3,1:3])\n"
   ]
  },
  {
   "cell_type": "markdown",
   "id": "e7130de6",
   "metadata": {},
   "source": [
    "# MODULE 3: MATH OPERATIONS & BROADCASTING"
   ]
  },
  {
   "cell_type": "markdown",
   "id": "4c7082b5",
   "metadata": {},
   "source": [
    "### Step 1: Element-wise Operations"
   ]
  },
  {
   "cell_type": "code",
   "execution_count": null,
   "id": "bf940188",
   "metadata": {},
   "outputs": [],
   "source": [
    "a = np.array([1, 2, 3])\n",
    "b = np.array([4, 5, 6])\n",
    "\n",
    "print(a + b)   # [5 7 9]\n",
    "print(a * b)   # [4 10 18]\n",
    "print(a / b)   # [0.25 0.4 0.5]\n",
    "print(a ** 2)  # [1 4 9]\n"
   ]
  },
  {
   "cell_type": "markdown",
   "id": "2a744874",
   "metadata": {},
   "source": [
    "### Step 2: Broadcasting (The Cheat Code)"
   ]
  },
  {
   "cell_type": "markdown",
   "id": "d3314317",
   "metadata": {},
   "source": [
    "Broadcasting lets NumPy apply operations on arrays of different shapes, without explicitly reshaping them."
   ]
  },
  {
   "cell_type": "code",
   "execution_count": null,
   "id": "4f745375",
   "metadata": {},
   "outputs": [],
   "source": [
    "a = np.array([1, 2, 3])\n",
    "b = 2\n",
    "\n",
    "print(a + b)  # [3 4 5] — scalar broadcasted to match shape\n"
   ]
  },
  {
   "cell_type": "code",
   "execution_count": null,
   "id": "b6012705",
   "metadata": {},
   "outputs": [],
   "source": [
    "a = np.array([[1, 2, 3], [4, 5, 6]])  # shape (2,3)\n",
    "b = np.array([1, 0, 1])               # shape (3,)\n",
    "\n",
    "print(a + b)\n",
    "# Output:\n",
    "# [[2 2 4]\n",
    "#  [5 5 7]]\n",
    "# It adds b to every row of a."
   ]
  },
  {
   "cell_type": "markdown",
   "id": "80a2bca5",
   "metadata": {},
   "source": [
    "### ⚔️ Rules of Broadcasting:\n",
    "\n",
    "1. Match shapes from the right (like aligning text right) means if one is 2d or 3d and another is 1d then no of columns of both the matrix should match.\n",
    "\n",
    "2. Dimensions must be equal, or one of them must be 1\n",
    "\n",
    "3. If not compatible → error\n",
    "\n",
    "EXPLANATION: LIKE YOU CAN ADD MULTIPLY , SUBTRACT AND DIVIDE ANY SCALAR TO ANY DIMENSION MATRIX BUT FOR MATRIX MATRIX OPERATION EITHER THEIR DIMENSION SHOULD MATCH OR ATLEAST ONE DIMENSION MATCHES AND THERE SHOULD BE 1 IN DIMENSION OF MATRIX SO THAT IT CAN STRETCH TO THAT DIMENSION.\n",
    "\n",
    "EXAMPLE WHICH WORKS OR WHICH NOT\n",
    "\n",
    "a.shape = (3, 4)\n",
    "b.shape = (4,)  # will be treated as (1, 4)\n",
    "\n",
    "a + b → broadcast b to all rows of a → works\n",
    "\n",
    "INCOMPATIBLE\n",
    "\n",
    "a.shape = (3, 4)\n",
    "b.shape = (5,)\n",
    "\n",
    "a + b → ERROR\n",
    "\n",
    "\n"
   ]
  },
  {
   "cell_type": "code",
   "execution_count": 17,
   "id": "63ef0b9a",
   "metadata": {},
   "outputs": [
    {
     "name": "stdout",
     "output_type": "stream",
     "text": [
      "(3,)\n"
     ]
    }
   ],
   "source": [
    "a=np.array([3,3,5])\n",
    "print(a.shape)"
   ]
  },
  {
   "cell_type": "markdown",
   "id": "bd7ef55f",
   "metadata": {},
   "source": [
    "###  Practice Exercises:"
   ]
  },
  {
   "cell_type": "markdown",
   "id": "54a266ec",
   "metadata": {},
   "source": [
    "🔸 Exercise 1:"
   ]
  },
  {
   "cell_type": "code",
   "execution_count": 25,
   "id": "47f0d961",
   "metadata": {},
   "outputs": [
    {
     "name": "stdout",
     "output_type": "stream",
     "text": [
      "[[11 12 13]\n",
      " [21 22 23]\n",
      " [31 32 33]]\n"
     ]
    }
   ],
   "source": [
    "a = np.array([[10], [20], [30]])   # shape (3,1)\n",
    "b = np.array([1, 2, 3])            # shape (3)\n",
    "print(a+b)\n",
    "# Predict the output of a + b\n",
    "# Then print it\n",
    "\n",
    "\n"
   ]
  },
  {
   "cell_type": "markdown",
   "id": "3d321d98",
   "metadata": {},
   "source": [
    "🔸 Exercise 2: NORMALIZATION"
   ]
  },
  {
   "cell_type": "code",
   "execution_count": null,
   "id": "72ec881e",
   "metadata": {},
   "outputs": [],
   "source": [
    "x=np.random.randint(1,100,size=(3,3))\n",
    "print(x)\n",
    "print((x - x.mean()) / x.std())"
   ]
  },
  {
   "cell_type": "markdown",
   "id": "ded45fda",
   "metadata": {},
   "source": [
    "1️⃣ x.mean()\n",
    "This gives the average of all elements in x.\n",
    "\n",
    "2️⃣ x - x.mean()\n",
    "Subtract the mean from every element.\n",
    "\n",
    "Result: now the new array has \"zero-centered\" data — the average of elements will be close to 0.\n",
    "\n",
    "3️⃣ x.std()\n",
    "Standard deviation → measures spread of data.\n",
    "\n",
    "Higher std → values are more spread out\n",
    "\n"
   ]
  },
  {
   "cell_type": "markdown",
   "id": "5bc0fbfb",
   "metadata": {},
   "source": [
    "### ⚔️ Mini Challenge:\n",
    "Create a function that accepts a 2D NumPy array and:\n",
    "\n",
    "Adds 10 to every even number\n",
    "\n",
    "Replaces all odd numbers with -1\n",
    "(Use vectorized operations, no loops)"
   ]
  },
  {
   "cell_type": "code",
   "execution_count": 14,
   "id": "61584feb",
   "metadata": {},
   "outputs": [
    {
     "name": "stdout",
     "output_type": "stream",
     "text": [
      "[[94  5 34]\n",
      " [71 50 78]\n",
      " [55 47 89]]\n",
      "[[104  -1  44]\n",
      " [ -1  60  88]\n",
      " [ -1  -1  -1]]\n"
     ]
    }
   ],
   "source": [
    "def accept_2d(arr2d):\n",
    "    arr2d[arr2d%2==0]+=10\n",
    "    arr2d[arr2d%2!=0]=-1\n",
    "    return arr2d\n",
    "\n",
    "x=np.random.randint(1,100,size=(3,3))\n",
    "print(x)\n",
    "print(accept_2d(x))\n",
    "    "
   ]
  },
  {
   "cell_type": "markdown",
   "id": "0bcb9df7",
   "metadata": {},
   "source": [
    "Q. Add, Subtract, Multiply, Divide \"b\" to \"a\"\n",
    "   Print all 4 results"
   ]
  },
  {
   "cell_type": "code",
   "execution_count": 18,
   "id": "60d6d6e4",
   "metadata": {},
   "outputs": [
    {
     "name": "stdout",
     "output_type": "stream",
     "text": [
      "[1. 2. 3. 4. 5.]\n",
      "[ 25  50  75 100 125]\n",
      "[10 15 20 25 30]\n",
      "[ 0  5 10 15 20]\n"
     ]
    }
   ],
   "source": [
    "a = np.array([5, 10, 15, 20, 25])\n",
    "b = 5\n",
    "\n",
    "print(a/b)\n",
    "print(a*b)\n",
    "print(a+b)\n",
    "print(a-b)\n"
   ]
  },
  {
   "cell_type": "markdown",
   "id": "ca75fe0b",
   "metadata": {},
   "source": [
    " Q.Perform a + b\n",
    " Predict the shape and output before running the code\n",
    " Then run and check"
   ]
  },
  {
   "cell_type": "code",
   "execution_count": 20,
   "id": "b22e6096",
   "metadata": {},
   "outputs": [
    {
     "name": "stdout",
     "output_type": "stream",
     "text": [
      "[[ 0  1  2  3]\n",
      " [ 4  5  6  7]\n",
      " [ 8  9 10 11]]\n",
      "\n",
      "[[ 1  1  1  5]\n",
      " [ 5  5  5  9]\n",
      " [ 9  9  9 13]]\n"
     ]
    }
   ],
   "source": [
    "a = np.arange(12).reshape(3, 4)\n",
    "b = np.array([1, 0, -1, 2])\n",
    "print(a)\n",
    "print()\n",
    "print(a+b)"
   ]
  },
  {
   "cell_type": "markdown",
   "id": "d0fb7495",
   "metadata": {},
   "source": [
    "Q3️⃣ Normalize a 3x3 array:"
   ]
  },
  {
   "cell_type": "code",
   "execution_count": 23,
   "id": "098a732b",
   "metadata": {},
   "outputs": [
    {
     "name": "stdout",
     "output_type": "stream",
     "text": [
      "original: [[28 23 77]\n",
      " [26 18 45]\n",
      " [95 76 34]]\n",
      "normalized [[-0.70630074 -0.8932627   1.12592647]\n",
      " [-0.78108552 -1.08022466 -0.07063007]\n",
      " [ 1.79898953  1.08853408 -0.48194639]]\n"
     ]
    }
   ],
   "source": [
    "x = np.random.randint(1, 100, size=(3, 3))\n",
    "print(\"original:\",x)\n",
    "print(\"normalized\",(x-x.mean())/x.std())\n",
    "\n"
   ]
  },
  {
   "cell_type": "markdown",
   "id": "ecc54a8d",
   "metadata": {},
   "source": [
    "\n",
    "Q. Multiply each COLUMN of a by corresponding element of b\n",
    " Predict output first"
   ]
  },
  {
   "cell_type": "code",
   "execution_count": 24,
   "id": "06cb31ed",
   "metadata": {},
   "outputs": [
    {
     "name": "stdout",
     "output_type": "stream",
     "text": [
      "[[ 10  40  90]\n",
      " [ 40 100 180]]\n"
     ]
    }
   ],
   "source": [
    "a = np.array([[1, 2, 3],\n",
    "              [4, 5, 6]])\n",
    "\n",
    "b = np.array([10, 20, 30])\n",
    "\n",
    "print(a*b)"
   ]
  },
  {
   "cell_type": "markdown",
   "id": "304013aa",
   "metadata": {},
   "source": [
    "Q5️⃣ Mini ML Simulation:\n",
    "You have a 100x5 dataset:\n",
    "\n",
    "Subtract the mean and divide by std — for each column (feature-wise normalization)\n",
    "\n",
    "\n",
    "Hint: Use `axis=0` to perform operations column-wise (feature-wise).  \n",
    "For example, to normalize each column of X:  \n",
    "(X - X.mean(axis=0)) / X.std(axis=0)\n",
    "\n",
    "---\n",
    "\n",
    "### What is \"axis\" in NumPy?\n",
    "\n",
    "- **Axis** refers to the direction along which an operation is performed on an array.\n",
    "- Think of axes as dimensions:\n",
    "    - **axis=0** → down the rows (operate column-wise)\n",
    "    - **axis=1** → across the columns (operate row-wise)\n",
    "\n",
    "#### Visual Example\n",
    "\n",
    "Suppose you have a 2D array:\n",
    "\n",
    "|      | Col0 | Col1 | Col2 |\n",
    "|------|------|------|------|\n",
    "| Row0 |  1   |  2   |  3   |\n",
    "| Row1 |  4   |  5   |  6   |\n",
    "\n",
    "- `array.mean(axis=0)` → mean of each column: `[ (1+4)/2, (2+5)/2, (3+6)/2 ]`\n",
    "- `array.mean(axis=1)` → mean of each row: `[ (1+2+3)/3, (4+5+6)/3 ]`\n",
    "\n",
    "#### Why is this useful?\n",
    "\n",
    "- **axis=0**: Useful when you want to normalize or aggregate features (columns).\n",
    "- **axis=1**: Useful when you want to process each sample (row) individually.\n",
    "\n",
    "#### Summary Table\n",
    "\n",
    "| Operation         | axis=0 (columns) | axis=1 (rows)   |\n",
    "|-------------------|------------------|-----------------|\n",
    "| `sum(axis=0)`     | Sums each column | Sums each row   |\n",
    "| `mean(axis=1)`    | Means per row    | Means per row   |\n",
    "| `std(axis=0)`     | Std per column   | Std per row     |\n",
    "\n",
    "**In ML, axis=0 is often used for feature-wise operations (normalize each feature/column).**\n"
   ]
  },
  {
   "cell_type": "code",
   "execution_count": null,
   "id": "60deea70",
   "metadata": {},
   "outputs": [],
   "source": [
    "x = np.random.randn(100, 5) * 10 + 50\n",
    "print((x-x.mean(axis=0))/x.std(axis=0))"
   ]
  },
  {
   "cell_type": "markdown",
   "id": "05a3e03e",
   "metadata": {},
   "source": [
    "Q6️⃣ Mini Challenge:\n",
    "Write a function:  \n",
    "softmax(x) = exp(x) / sum(exp(x))\n",
    "\n",
    "---\n",
    "\n",
    "**What is Softmax?**\n",
    "\n",
    "Softmax is a mathematical function that converts a vector of numbers into probabilities. Each output value will be between 0 and 1, and all outputs will sum to 1. It is commonly used in machine learning, especially for the output layer of classification models (like neural networks), to represent the probability distribution over classes.\n",
    "\n",
    "**When to Use Softmax?**\n",
    "\n",
    "- When you want to interpret the outputs of your model as probabilities.\n",
    "- In multi-class classification problems, to get the probability of each class.\n",
    "- As the final activation function in the output layer of neural networks for classification.\n",
    "\n",
    "**Softmax Formula Explained**\n",
    "\n",
    "Given a vector **x** = [x₁, x₂, ..., xₙ], the softmax of the i-th element is:\n",
    "\n",
    "softmax(xᵢ) = exp(xᵢ) / Σⱼ exp(xⱼ)\n",
    "\n",
    "Where:\n",
    "- exp(xᵢ) is the exponential of xᵢ.\n",
    "- Σⱼ exp(xⱼ) is the sum of exponentials of all elements in the vector.\n",
    "\n",
    "**Intuition:**\n",
    "- Exponentiating makes larger values even larger, and smaller values relatively smaller.\n",
    "- Dividing by the sum ensures all outputs add up to 1 (like probabilities).\n",
    "- The largest input gets the highest probability.\n",
    "\n",
    "**Example:**\n",
    "\n",
    "Suppose x = [2.0, 1.0, 0.1]\n",
    "\n",
    "1. Compute exponentials:  \n",
    "    exp(2.0) ≈ 7.39  \n",
    "    exp(1.0) ≈ 2.72  \n",
    "    exp(0.1) ≈ 1.11\n",
    "\n",
    "2. Sum:  \n",
    "    7.39 + 2.72 + 1.11 ≈ 11.22\n",
    "\n",
    "3. Divide each by the sum:  \n",
    "    [7.39/11.22, 2.72/11.22, 1.11/11.22] ≈ [0.66, 0.24, 0.10]\n",
    "\n",
    "So, softmax([2.0, 1.0, 0.1]) ≈ [0.66, 0.24, 0.10]\n",
    "\n",
    "**Summary Table:**\n",
    "\n",
    "| Input xᵢ | exp(xᵢ) | softmax(xᵢ) |\n",
    "|----------|---------|-------------|\n",
    "|   2.0    |  7.39   |    0.66     |\n",
    "|   1.0    |  2.72   |    0.24     |\n",
    "|   0.1    |  1.11   |    0.10     |\n",
    "\n",
    "**Key Points:**\n",
    "- Softmax \"squashes\" numbers into probabilities.\n",
    "- Useful for multi-class classification.\n",
    "- The formula ensures all probabilities sum to 1."
   ]
  },
  {
   "cell_type": "code",
   "execution_count": null,
   "id": "35a63daf",
   "metadata": {},
   "outputs": [
    {
     "name": "stdout",
     "output_type": "stream",
     "text": [
      "[[8.90198067e-05 1.67315292e-16 1.32117107e-02]\n",
      " [2.26436624e-17 2.06483474e-20 2.06483474e-20]\n",
      " [7.21334965e-01 2.65364304e-01 5.46956596e-10]]\n"
     ]
    }
   ],
   "source": [
    "import math\n",
    "def softmax(arr_nD):\n",
    "    # Use np.exp and np.sum for vectorized operations\n",
    "    exp_arr = np.exp(arr_nD)\n",
    "    return exp_arr / np.sum(exp_arr)\n",
    "#pro version\n",
    "\"\"\" def softmax(arr_nD, axis=None):\n",
    "    exp_arr = np.exp(arr_nD - np.max(arr_nD, axis=axis, keepdims=True))\n",
    "    return exp_arr / np.sum(exp_arr, axis=axis, keepdims=True)\"\"\"\n",
    "\n",
    "\n",
    "a=np.random.randint(1,100,size=(3,3))\n",
    "print(softmax(a))"
   ]
  },
  {
   "cell_type": "markdown",
   "id": "ca90e574",
   "metadata": {},
   "source": [
    "# MODULE 4 :  Aggregations & Axis Mastery 🚀"
   ]
  },
  {
   "cell_type": "markdown",
   "id": "e4391e39",
   "metadata": {},
   "source": []
  },
  {
   "cell_type": "markdown",
   "id": "1d0ac6b3",
   "metadata": {},
   "source": [
    "WHY learn this?\n",
    "When you're working with:\n",
    "✅ Datasets\n",
    "✅ Model outputs\n",
    "✅ Features\n",
    "✅ Gradients\n",
    "\n",
    "... you'll always need to summarize data:\n",
    "\n",
    "* Mean accuracy per batch\n",
    "\n",
    "* Total loss\n",
    "\n",
    "* Which feature has biggest impact?\n",
    "\n",
    "* Per-column stats\n",
    "\n",
    "* Row-wise stats"
   ]
  },
  {
   "cell_type": "markdown",
   "id": "abba01dd",
   "metadata": {},
   "source": []
  },
  {
   "cell_type": "markdown",
   "id": "80666b75",
   "metadata": {},
   "source": [
    "### BASIC AGGREGATION FUNCTIONS:\n",
    "\n",
    "| Function    | Description        |\n",
    "| ----------- | ------------------ |\n",
    "| `.sum()`    | Sum of elements    |\n",
    "| `.mean()`   | Mean (average)     |\n",
    "| `.std()`    | Standard deviation |\n",
    "| `.var()`    | Variance           |\n",
    "| `.min()`    | Minimum value      |\n",
    "| `.max()`    | Maximum value      |\n",
    "| `.argmin()` | Index of minimum   |\n",
    "| `.argmax()` | Index of maximum   |\n",
    "\n",
    "#### Function Signatures & Common Parameters\n",
    "\n",
    "- **`.sum(axis=None, dtype=None, keepdims=False)`**\n",
    "    - `axis`: Axis or axes along which to sum. Default sums all elements.\n",
    "    - `dtype`: Data type of the returned array.\n",
    "    - `keepdims`: If True, retains reduced dimensions.\n",
    "\n",
    "- **`.mean(axis=None, dtype=None, keepdims=False)`**\n",
    "    - Same parameters as `.sum()`.\n",
    "\n",
    "- **`.std(axis=None, dtype=None, keepdims=False, ddof=0)`**\n",
    "    - `ddof`: Delta degrees of freedom (default 0).\n",
    "\n",
    "- **`.var(axis=None, dtype=None, keepdims=False, ddof=0)`**\n",
    "    - Same as `.std()`.\n",
    "\n",
    "- **`.min(axis=None, keepdims=False)`**\n",
    "    - `axis`: Axis or axes along which to find the minimum.\n",
    "\n",
    "- **`.max(axis=None, keepdims=False)`**\n",
    "    - Same as `.min()`.\n",
    "\n",
    "- **`.argmin(axis=None)`**\n",
    "    - Returns index of minimum value along axis.\n",
    "\n",
    "- **`.argmax(axis=None)`**\n",
    "    - Returns index of maximum value along axis.\n",
    "\n",
    "**Tip:**\n",
    "- `axis=0` → operate column-wise\n",
    "- `axis=1` → operate row-wise\n",
    "- `keepdims=True` → output keeps the same number of dimensions as input\n",
    "\n",
    "\n",
    "### CUMULATIVE:\n",
    "* .cumsum() → running sum\n",
    "\n",
    "* .cumprod() → running produc\n",
    "\n",
    "### Logical Aggregations (important for AI):\n",
    "\n",
    "np.any(cond)    # Is any True?\n",
    "np.all(cond)    # Are all True?\n",
    "\n",
    "EXAMPLE:\n",
    "\n",
    "a = np.array([1, 2, 3, 4, 5])\n",
    "print((a > 3).any())   # True\n",
    "print((a > 3).all())   # False\n",
    "\n",
    "### ADVANCED: \n",
    "USEFULE IN ML:\n",
    "*  Which sample gives highest loss?\n",
    "\n",
    "* Which feature has highest weight?\n",
    "\n",
    "a = np.random.randint(1, 100, size=(3, 3))\n",
    "print(a)\n",
    "print(\"argmax:\", a.argmax())\n",
    "print(\"argmin:\", a.argmin())\n"
   ]
  },
  {
   "cell_type": "markdown",
   "id": "71462062",
   "metadata": {},
   "source": [
    "## 🚀 PRACTICE QUESTIONS:"
   ]
  },
  {
   "cell_type": "markdown",
   "id": "df7ea49f",
   "metadata": {},
   "source": [
    " Find:\n",
    " 1. Total sum of all elements\n",
    " 2. Sum column-wise (axis=0)\n",
    " 3. Sum row-wise (axis=1)\n",
    " 4. Mean row-wise"
   ]
  },
  {
   "cell_type": "code",
   "execution_count": 3,
   "id": "6597bf77",
   "metadata": {},
   "outputs": [
    {
     "name": "stdout",
     "output_type": "stream",
     "text": [
      "78\n",
      "[[15 18 21 24]]\n",
      "[[10]\n",
      " [26]\n",
      " [42]]\n",
      "[[ 2.5]\n",
      " [ 6.5]\n",
      " [10.5]]\n"
     ]
    }
   ],
   "source": [
    "a = np.arange(1, 13).reshape(3, 4)\n",
    "\n",
    "print(a.sum())\n",
    "print(a.sum(axis=0,keepdims=True))\n",
    "print(a.sum(axis=1,keepdims=True))\n",
    "print(a.mean(axis=1,keepdims=True))\n"
   ]
  },
  {
   "cell_type": "markdown",
   "id": "f951dbdd",
   "metadata": {},
   "source": [
    "\n",
    " Find min, max for each row\n",
    " Find std for each column"
   ]
  },
  {
   "cell_type": "code",
   "execution_count": null,
   "id": "3922d2f2",
   "metadata": {},
   "outputs": [
    {
     "name": "stdout",
     "output_type": "stream",
     "text": [
      "2 \n",
      "\n",
      "99 \n",
      "\n",
      "[36 22  3  3  2] \n",
      "\n",
      "[ 3  2 10  3  8] \n",
      "\n",
      "[62 85 99 94 81] \n",
      "\n",
      "[99 85 85 81 94] \n",
      "\n"
     ]
    }
   ],
   "source": [
    "a = np.random.randint(1, 101, size=(5, 5))\n",
    "\n",
    "print(a.min(),\"\\n\")\n",
    "print(a.max(),\"\\n\")\n",
    "print(a.min(axis=0),\"\\n\")\n",
    "print(a.min(axis=1),\"\\n\")\n",
    "print(a.max(axis=0),\"\\n\")\n",
    "print(a.max(axis=1),\"\\n\")\n"
   ]
  },
  {
   "cell_type": "markdown",
   "id": "4176472f",
   "metadata": {},
   "source": [
    " Find index of highest score"
   ]
  },
  {
   "cell_type": "code",
   "execution_count": 11,
   "id": "ad165af2",
   "metadata": {},
   "outputs": [
    {
     "name": "stdout",
     "output_type": "stream",
     "text": [
      "2\n"
     ]
    }
   ],
   "source": [
    "scores = np.array([0.1, 0.5, 0.8, 0.3])\n",
    "\n",
    "print(a.argmax())\n"
   ]
  },
  {
   "cell_type": "markdown",
   "id": "a8fd0eb1",
   "metadata": {},
   "source": [
    "Q4. MINI ML SIMULATION\n",
    "\n",
    "What percent are True?\n",
    "What percent are False?"
   ]
  },
  {
   "cell_type": "code",
   "execution_count": 34,
   "id": "1b447d85",
   "metadata": {},
   "outputs": [
    {
     "name": "stdout",
     "output_type": "stream",
     "text": [
      "[ True  True  True False False  True False False False False  True False\n",
      "  True False  True  True  True False False False False False  True False\n",
      " False False  True False  True  True False  True  True  True False False\n",
      "  True  True  True  True False  True False False  True False False  True\n",
      " False  True False False  True False  True False False False  True False\n",
      "  True  True  True False False  True False False False False  True  True\n",
      "  True  True False  True  True False False False False False False False\n",
      "  True  True  True  True  True False False False  True  True False  True\n",
      "  True False  True False]\n",
      "Percent True: 47.00%\n",
      "Percent False: 53.00%\n"
     ]
    }
   ],
   "source": [
    "predictions = np.random.randn(100) > 0  # Returns True or False matrix\n",
    "print(predictions)\n",
    "true_sum=predictions.sum() # Because True=1, False=0\n",
    "false_sum=predictions.size-true_sum\n",
    "\n",
    "# Percentages:\n",
    "percent_true = (true_sum / predictions.size) * 100\n",
    "percent_false = (false_sum /predictions.size) * 100\n",
    "\n",
    "print(f\"Percent True: {percent_true:.2f}%\")\n",
    "print(f\"Percent False: {percent_false:.2f}%\")\n",
    "\n"
   ]
  },
  {
   "cell_type": "markdown",
   "id": "b0bc0491",
   "metadata": {},
   "source": [
    "Why is this useful?\n",
    "ML classification outputs often give probabilities (logits), which we threshold to get True/False predictions."
   ]
  },
  {
   "cell_type": "markdown",
   "id": "45f57e59",
   "metadata": {},
   "source": []
  },
  {
   "cell_type": "markdown",
   "id": "0c4035e4",
   "metadata": {},
   "source": [
    "You're referring to `keepdims` as seen in NumPy's aggregation functions (like `sum`, `mean`, `max`, etc.). It's a very important parameter, especially when you start working with broadcasting in NumPy for AI/ML.\n",
    "\n",
    "Let's break down `keepdims` with a clear explanation and use cases.\n",
    "\n",
    "### What `keepdims` Does\n",
    "\n",
    "When you perform an aggregation operation (like `sum()`, `mean()`, `max()`) on a NumPy array and specify an `axis`, that `axis` usually disappears from the resulting array's shape.\n",
    "\n",
    "The `keepdims=True` parameter tells NumPy to **keep the reduced dimension(s) as dimensions of size 1**, instead of completely removing them. This means the number of dimensions (or `ndim`) of the resulting array will be the same as the original array, but the dimensions that were aggregated over will have a size of 1.\n",
    "\n",
    "**Analogy:**\n",
    "\n",
    "Imagine you have a stack of papers (a 2D array).\n",
    "* **`sum(axis=0)` (without `keepdims`):** You sum up all the values *down* each stack. The result is just a single row of totals. The \"stack\" dimension (axis 0) is gone.\n",
    "* **`sum(axis=0, keepdims=True)`:** You still sum up all the values down each stack, but you *keep* the \"stack\" dimension, just making it a stack of **one** paper (a 1D \"stack\"). The result is a row of totals, but it's still conceptually a \"stack\" even though each stack is only one deep. This might sound subtle, but it's crucial for how NumPy performs operations later.\n",
    "\n",
    "### Example to Illustrate `keepdims`\n",
    "\n",
    "Let's use a 2D array:\n",
    "\n",
    "```python\n",
    "import numpy as np\n",
    "\n",
    "matrix = np.array([[1, 2, 3],\n",
    "                   [4, 5, 6],\n",
    "                   [7, 8, 9]])\n",
    "\n",
    "print(\"Original Matrix:\\n\", matrix)\n",
    "print(\"Original Shape:\", matrix.shape) # Output: (3, 3)\n",
    "\n",
    "# --- Case 1: Without keepdims (default behavior) ---\n",
    "sum_axis0_no_keepdims = np.sum(matrix, axis=0)\n",
    "print(\"\\nSum along axis=0 (no keepdims):\\n\", sum_axis0_no_keepdims)\n",
    "print(\"Shape:\", sum_axis0_no_keepdims.shape) # Output: (3,) -> The first dimension (rows) is collapsed\n",
    "\n",
    "sum_axis1_no_keepdims = np.sum(matrix, axis=1)\n",
    "print(\"\\nSum along axis=1 (no keepdims):\\n\", sum_axis1_no_keepdims)\n",
    "print(\"Shape:\", sum_axis1_no_keepdims.shape) # Output: (3,) -> The second dimension (columns) is collapsed\n",
    "\n",
    "# --- Case 2: With keepdims=True ---\n",
    "sum_axis0_keepdims = np.sum(matrix, axis=0, keepdims=True)\n",
    "print(\"\\nSum along axis=0 (keepdims=True):\\n\", sum_axis0_keepdims)\n",
    "print(\"Shape:\", sum_axis0_keepdims.shape) # Output: (1, 3) -> First dim kept as 1\n",
    "\n",
    "sum_axis1_keepdims = np.sum(matrix, axis=1, keepdims=True)\n",
    "print(\"\\nSum along axis=1 (keepdims=True):\\n\", sum_axis1_keepdims)\n",
    "print(\"Shape:\", sum_axis1_keepdims.shape) # Output: (3, 1) -> Second dim kept as 1\n",
    "```\n",
    "\n",
    "**Notice the shapes:**\n",
    "* `(3, 3)` original\n",
    "* `(3,)` when `axis=0` is collapsed\n",
    "* `(1, 3)` when `axis=0` is summed **but kept**\n",
    "* `(3,)` when `axis=1` is collapsed\n",
    "* `(3, 1)` when `axis=1` is summed **but kept**\n",
    "\n",
    "### Use Cases for `keepdims=True` (Why It Matters)\n",
    "\n",
    "The most significant use case for `keepdims=True` is to facilitate **broadcasting**.\n",
    "\n",
    "#### 1. Broadcasting (Most Important Use Case)\n",
    "\n",
    "Broadcasting is how NumPy handles operations between arrays of different shapes. For broadcasting to work, the dimensions must either be equal, or one of them must be 1.\n",
    "\n",
    "**Scenario:** You want to normalize your data by subtracting the mean of each feature (column) from all values in that column.\n",
    "\n",
    "```python\n",
    "import numpy as np\n",
    "\n",
    "data = np.array([[10, 20, 30],\n",
    "                 [11, 21, 31],\n",
    "                 [12, 22, 32]])\n",
    "\n",
    "print(\"Original Data:\\n\", data)\n",
    "\n",
    "# Calculate mean of each column\n",
    "# If we don't use keepdims, the shape will be (3,) -> [11. 21. 31.]\n",
    "column_means_no_keepdims = np.mean(data, axis=0)\n",
    "print(\"\\nColumn Means (no keepdims):\\n\", column_means_no_keepdims)\n",
    "print(\"Shape:\", column_means_no_keepdims.shape)\n",
    "\n",
    "# Trying to subtract directly: This will cause a ValueError or unexpected behavior\n",
    "# try:\n",
    "#     normalized_data_bad = data - column_means_no_keepdims\n",
    "# except ValueError as e:\n",
    "#     print(f\"\\nError when subtracting without keepdims: {e}\")\n",
    "# (3,3) - (3,) will broadcast in a way you likely don't want, or error depending on exact sizes\n",
    "\n",
    "# Calculate mean of each column with keepdims=True\n",
    "column_means_keepdims = np.mean(data, axis=0, keepdims=True)\n",
    "print(\"\\nColumn Means (with keepdims=True):\\n\", column_means_keepdims)\n",
    "print(\"Shape:\", column_means_keepdims.shape) # Output: (1, 3)\n",
    "\n",
    "# Now, subtract with broadcasting!\n",
    "normalized_data = data - column_means_keepdims\n",
    "print(\"\\nNormalized Data (data - column_means_keepdims):\\n\", normalized_data)\n",
    "# How broadcasting works here:\n",
    "# Original data shape: (3, 3)\n",
    "# Mean shape:          (1, 3)\n",
    "# NumPy sees that the last dimension (3) matches.\n",
    "# It then \"stretches\" the (1,) dimension of the mean to match the (3,) dimension of the data.\n",
    "# So, effectively, [[11, 21, 31]] is broadcast to:\n",
    "# [[11, 21, 31],\n",
    "#  [11, 21, 31],\n",
    "#  [11, 21, 31]]\n",
    "# Before subtraction. This is exactly what we want for column-wise subtraction.\n",
    "\n",
    "# Another example: Subtracting row means\n",
    "row_means_keepdims = np.mean(data, axis=1, keepdims=True)\n",
    "print(\"\\nRow Means (with keepdims=True):\\n\", row_means_keepdims)\n",
    "print(\"Shape:\", row_means_keepdims.shape) # Output: (3, 1)\n",
    "\n",
    "normalized_data_rows = data - row_means_keepdims\n",
    "print(\"\\nNormalized Data (data - row_means_keepdims):\\n\", normalized_data_rows)\n",
    "# How broadcasting works here:\n",
    "# Original data shape: (3, 3)\n",
    "# Mean shape:          (3, 1)\n",
    "# NumPy sees that the first dimension (3) matches.\n",
    "# It then \"stretches\" the (1,) dimension of the mean to match the (3,) dimension of the data.\n",
    "# Effectively, [[10], [11], [12]] is broadcast to:\n",
    "# [[10, 10, 10],\n",
    "#  [11, 11, 11],\n",
    "#  [12, 12, 12]]\n",
    "# Before subtraction. This is exactly what we want for row-wise subtraction.\n",
    "```\n",
    "\n",
    "#### 2. Maintaining Dimensionality in Complex Computations\n",
    "\n",
    "In deep learning, you often deal with 3D, 4D, or even higher-dimensional tensors. Maintaining the original number of dimensions (even if some are 1) can simplify subsequent operations, especially when passing data through different layers or functions that expect a specific number of dimensions. It helps in maintaining a consistent \"flow\" of dimensionality.\n",
    "\n",
    "#### 3. Readability and Consistency\n",
    "\n",
    "Sometimes, explicitly stating `keepdims=True` makes the code clearer about the intended shape of the output, even if you could achieve the same result with `reshape` later. It signals that you want to preserve the rank of the array.\n",
    "\n",
    "In summary, `keepdims=True` is your friend when you need to perform an aggregation along an axis but then want to use the result in a way that requires its dimensionality to be compatible with other arrays, especially through NumPy's powerful broadcasting rules."
   ]
  },
  {
   "cell_type": "markdown",
   "id": "259a866b",
   "metadata": {},
   "source": []
  },
  {
   "cell_type": "markdown",
   "id": "1c6765ae",
   "metadata": {},
   "source": [
    "# 🚀 MODULE 5: Masking & Fancy Indexing\n",
    "\n",
    "(Purpose: This is what allows AI/ML code to select \"only certain\" data — without loops — which is critical for large datasets + real models.)\n",
    "\n"
   ]
  },
  {
   "cell_type": "markdown",
   "id": "d3259174",
   "metadata": {},
   "source": [
    "### WHY Learn This?\n",
    "👉 In real ML pipelines, you constantly do:\n",
    "\n",
    "* Select rows where label == \"dog\"\n",
    "\n",
    "* Pick only samples where loss > threshold\n",
    "\n",
    "* Filter features with high correlation\n",
    "\n",
    "* Apply logic-based transformations\n",
    "\n",
    "You CANNOT do this with plain slicing — this is where masking + fancy indexing comes in 🔥"
   ]
  },
  {
   "cell_type": "markdown",
   "id": "c44892d9",
   "metadata": {},
   "source": [
    "#### 1️⃣ Boolean Masking"
   ]
  },
  {
   "cell_type": "code",
   "execution_count": null,
   "id": "7030e2bd",
   "metadata": {},
   "outputs": [],
   "source": [
    "a = np.array([10, 15, 20, 25, 30])\n",
    "mask = a > 20\n",
    "print(mask)\n",
    "# [False False False  True  True]\n",
    "\n",
    "selected = a[mask]\n",
    "print(selected)\n",
    "# [25 30]\n"
   ]
  },
  {
   "cell_type": "markdown",
   "id": "76bdba0e",
   "metadata": {},
   "source": [
    "#### 2️⃣ One-liner Masking:"
   ]
  },
  {
   "cell_type": "code",
   "execution_count": 17,
   "id": "f3f7d3fa",
   "metadata": {},
   "outputs": [
    {
     "name": "stdout",
     "output_type": "stream",
     "text": [
      "[40 78 34 70]\n"
     ]
    }
   ],
   "source": [
    "A=np.array([1,2,40,78,34,12,70])\n",
    "selected=A[A>20]\n",
    "print(selected)"
   ]
  },
  {
   "cell_type": "markdown",
   "id": "82106b7b",
   "metadata": {},
   "source": [
    "#### 3️⃣ Setting Values with Mask:"
   ]
  },
  {
   "cell_type": "code",
   "execution_count": 18,
   "id": "f933d09f",
   "metadata": {},
   "outputs": [
    {
     "name": "stdout",
     "output_type": "stream",
     "text": [
      "[10 15 20 -1 -1]\n"
     ]
    }
   ],
   "source": [
    "a = np.array([10, 15, 20, 25, 30])\n",
    "a[a > 20] = -1\n",
    "print(a)  # [10 15 20 -1 -1]\n"
   ]
  },
  {
   "cell_type": "markdown",
   "id": "7c196b4d",
   "metadata": {},
   "source": [
    "#### 4️⃣ Masking on 2D Arrays:"
   ]
  },
  {
   "cell_type": "code",
   "execution_count": null,
   "id": "1c767503",
   "metadata": {},
   "outputs": [],
   "source": [
    "a = np.arange(16).reshape(4, 4)\n",
    "print(a)\n",
    "\n",
    "# Select elements > 5\n",
    "print(a[a > 5])\n"
   ]
  },
  {
   "cell_type": "markdown",
   "id": "6ba695df",
   "metadata": {},
   "source": [
    "### 5️⃣ Fancy Indexing: VVI\n",
    "\n",
    "Instead of mask, pass specific indices: SHORTER AND SMART\n",
    "* very useful when you have to acces only some elements with specific indexing then it is very cocise for writing code"
   ]
  },
  {
   "cell_type": "code",
   "execution_count": 20,
   "id": "fc3879f0",
   "metadata": {},
   "outputs": [
    {
     "name": "stdout",
     "output_type": "stream",
     "text": [
      "[10 20 30]\n"
     ]
    }
   ],
   "source": [
    "a = np.array([10, 15, 20, 25, 30])\n",
    "idx = [0, 2, 4]\n",
    "print(a[idx])  # [10 20 30]\n"
   ]
  },
  {
   "cell_type": "markdown",
   "id": "d1365f6e",
   "metadata": {},
   "source": [
    "#### 6️⃣ Fancy indexing on 2D: important concept"
   ]
  },
  {
   "cell_type": "code",
   "execution_count": 21,
   "id": "344d7686",
   "metadata": {},
   "outputs": [
    {
     "name": "stdout",
     "output_type": "stream",
     "text": [
      "[ 2  5 12]\n"
     ]
    }
   ],
   "source": [
    "a = np.arange(16).reshape(4, 4)\n",
    "\n",
    "rows = [0, 1, 3]\n",
    "cols = [2, 1, 0]\n",
    "\n",
    "print(a[rows, cols])  # Selects (0,2), (1,1), (3,0)\n"
   ]
  },
  {
   "cell_type": "markdown",
   "id": "af190037",
   "metadata": {},
   "source": []
  },
  {
   "cell_type": "markdown",
   "id": "d583f56a",
   "metadata": {},
   "source": [
    "### 🧠 Where used in ML:\n",
    "\n",
    "* Filter \"good samples\" (confidence > 0.9)\n",
    "\n",
    "* Get indices of top-k predictions\n",
    "\n",
    "* Replace \"bad samples\" with NaN\n",
    "\n",
    "* Create \"mini-batches\" with certain criteria"
   ]
  },
  {
   "cell_type": "markdown",
   "id": "c49888d6",
   "metadata": {},
   "source": [
    "## 🚀 PRACTICE QUESTIONS:"
   ]
  },
  {
   "cell_type": "markdown",
   "id": "c75d8f0d",
   "metadata": {},
   "source": [
    "\n",
    "Q. Select elements divisible by 5"
   ]
  },
  {
   "cell_type": "code",
   "execution_count": 24,
   "id": "00260e7a",
   "metadata": {},
   "outputs": [
    {
     "name": "stdout",
     "output_type": "stream",
     "text": [
      "[ 56  96  44  64  67  57  15  58 100  99] \n",
      "\n",
      "[ 15 100]\n"
     ]
    }
   ],
   "source": [
    "a = np.random.randint(1, 101, size=10)\n",
    "\n",
    "\n",
    "print(a,\"\\n\")\n",
    "divide_by_5=a[a%5==0]\n",
    "print(divide_by_5)"
   ]
  },
  {
   "cell_type": "markdown",
   "id": "b8ddaf4a",
   "metadata": {},
   "source": [
    "Q.Set all elements < 50 to 0"
   ]
  },
  {
   "cell_type": "code",
   "execution_count": 27,
   "id": "68da744e",
   "metadata": {},
   "outputs": [
    {
     "name": "stdout",
     "output_type": "stream",
     "text": [
      "[[30 58 23 68  9]\n",
      " [22 24 76  8 46]\n",
      " [46 49 50  9 88]\n",
      " [67 38 97  1 72]\n",
      " [20 58  6 39 57]] \n",
      "\n",
      "[[ 0 58  0 68  0]\n",
      " [ 0  0 76  0  0]\n",
      " [ 0  0 50  0 88]\n",
      " [67  0 97  0 72]\n",
      " [ 0 58  0  0 57]]\n"
     ]
    }
   ],
   "source": [
    "a = np.random.randint(1, 100, size=(5, 5))\n",
    "\n",
    "print(a,\"\\n\")\n",
    "a[a<50]=0\n",
    "print(a)\n"
   ]
  },
  {
   "cell_type": "code",
   "execution_count": 29,
   "id": "131d7f99",
   "metadata": {},
   "outputs": [
    {
     "name": "stdout",
     "output_type": "stream",
     "text": [
      "[ 10  20  30  40  50  60  70  80  90 100] \n",
      "\n",
      "[ 10  40  70 100]\n"
     ]
    }
   ],
   "source": [
    "a = np.arange(10, 110, 10)\n",
    "print(a,\"\\n\")\n",
    "\n",
    "idx = [0, 3, 6, 9]\n",
    "\n",
    "print(a[idx])\n",
    "\n",
    "# Select those indices\n"
   ]
  },
  {
   "cell_type": "markdown",
   "id": "57b8e0f1",
   "metadata": {},
   "source": [
    "Q4️⃣ Mini ML simulation:"
   ]
  },
  {
   "cell_type": "code",
   "execution_count": 3,
   "id": "d3fc6ba9",
   "metadata": {},
   "outputs": [
    {
     "name": "stdout",
     "output_type": "stream",
     "text": [
      "[ 4.86437729  5.93014815  4.70434213  7.10757232  5.97044084  3.81806012\n",
      "  4.58796045  7.77122838  5.0147181   3.74208098  4.42875313  2.61441249\n",
      "  5.62744241  3.13739367  4.93481698  6.17275286  3.71944706  6.83202264\n",
      "  2.86991572  4.2632483   2.25812533  1.80254057  5.02001469  0.26762295\n",
      "  6.36010185  4.92954719  4.12285532  5.8976139   2.5507108   5.73000385\n",
      "  2.23853217  5.55417635  7.61535043  6.21353085  2.12459847  4.01899523\n",
      "  5.12915906  7.49457901  5.41636435  6.89101597  6.04265417  6.19532495\n",
      "  1.75118136  2.34738858  4.51678049  6.59224035  4.6987018   4.75866035\n",
      "  1.11159154  4.69986412  3.55145831  1.94341672  7.39830112  9.55836654\n",
      "  4.50568226  4.38536159  4.09326038  4.71698318  1.98286311  5.49896055\n",
      "  5.94770982  5.30290699  6.38865478  0.99536595  2.02861479  5.80286741\n",
      "  2.90109389  3.80394562  5.8656991   5.28199371  1.78653811  4.5317569\n",
      " -0.62642044  3.95966872  7.26129809  7.5346789   5.73885112  6.38041445\n",
      "  5.81141508  3.81420488  2.8870548   5.07165243  5.65280048  6.33605176\n",
      "  0.81574342  5.38612136  2.42386981  7.64913563  6.26026003  5.94865037\n",
      "  3.74285283  7.99275217  7.23725424  5.07854577  0.53089218  8.40408832\n",
      "  3.11303677  4.78288791  5.96950035  7.1059791 ] \n",
      "\n",
      "(array([ 3,  7, 32, 37, 52, 53, 74, 75, 87, 91, 92, 95, 99], dtype=int64),)\n"
     ]
    }
   ],
   "source": [
    "# Simulate loss values for 100 samples:\n",
    "losses = np.random.randn(100) * 2 + 5\n",
    "print(losses,\"\\n\")\n",
    "# Find indices of samples where loss > 7\n",
    "indices = np.where(losses > 7)\n",
    "\n",
    "print(indices)"
   ]
  },
  {
   "cell_type": "markdown",
   "id": "d9996690",
   "metadata": {},
   "source": [
    "Q5️⃣ HARD (EPFL style):\n",
    "\n",
    "\n",
    "Write a one-liner to select all odd numbers > 10"
   ]
  },
  {
   "cell_type": "code",
   "execution_count": 9,
   "id": "ba95125c",
   "metadata": {},
   "outputs": [
    {
     "name": "stdout",
     "output_type": "stream",
     "text": [
      "[[ 1  2  3  4  5]\n",
      " [ 6  7  8  9 10]\n",
      " [11 12 13 14 15]\n",
      " [16 17 18 19 20]\n",
      " [21 22 23 24 25]] \n",
      "\n",
      "[11 13 15 17 19 21 23 25]\n",
      "[11 13 15 17 19 21 23 25]\n"
     ]
    }
   ],
   "source": [
    "a = np.arange(1, 26).reshape(5, 5)\n",
    "print(a,\"\\n\")\n",
    "#2 WAYS\n",
    "#1.DOUBLE MASKING\n",
    "print(a[a%2!=0][a[a%2!=0]>10])\n",
    "\n",
    "#2. USING and CONDITION\n",
    "print(a[(a % 2 != 0) & (a > 10)])\n",
    "\n",
    "\n"
   ]
  },
  {
   "cell_type": "markdown",
   "id": "ccb7f5bb",
   "metadata": {},
   "source": [
    "### HOW DOUBLE MASKING WORKS\n",
    "\n",
    "### 2️⃣ First Selection → odd numbers:\n",
    "\n",
    "```python\n",
    "a % 2 != 0\n",
    "```\n",
    "\n",
    "→ Creates a **boolean mask**:\n",
    "\n",
    "```\n",
    "[[ True False  True False  True]\n",
    " [False  True False  True False]\n",
    " [ True False  True False  True]\n",
    " [False  True False  True False]\n",
    " [ True False  True False  True]]\n",
    "```\n",
    "\n",
    "---\n",
    "\n",
    "Now when you do:\n",
    "\n",
    "```python\n",
    "a[a % 2 != 0]\n",
    "```\n",
    "\n",
    "It selects **all odd numbers**, as a 1D array:\n",
    "\n",
    "```\n",
    "[ 1  3  5  7  9 11 13 15 17 19 21 23 25]\n",
    "```\n",
    "\n",
    "---\n",
    "\n",
    "### 3️⃣ Second Selection → greater than 10:\n",
    "\n",
    "Now you are doing **another selection on this result**:\n",
    "\n",
    "```python\n",
    "a[a % 2 != 0][a[a % 2 != 0] > 10]\n",
    "```\n",
    "\n",
    "At this point:\n",
    "\n",
    "→ `a[a % 2 != 0]` is this 1D array:\n",
    "\n",
    "```\n",
    "[ 1  3  5  7  9 11 13 15 17 19 21 23 25]\n",
    "```\n",
    "\n",
    "---\n",
    "\n",
    "Now apply:\n",
    "\n",
    "```python\n",
    "[a[a % 2 != 0] > 10]\n",
    "```\n",
    "\n",
    "→ Another boolean mask:\n",
    "\n",
    "```\n",
    "[False False False False False  True  True  True  True  True  True  True  True]\n",
    "```\n",
    "\n",
    "---\n",
    "\n",
    "Final result:\n",
    "\n",
    "```\n",
    "[11 13 15 17 19 21 23 25]\n",
    "```\n",
    "\n",
    "---\n",
    "\n",
    "### 🤔 BUT... Is this the best way?\n",
    "\n",
    "Actually → you are **double filtering**.\n",
    "\n",
    "Better to write it as **one combined mask**:\n",
    "\n",
    "```python\n",
    "a[(a % 2 != 0) & (a > 10)]\n",
    "```\n",
    "\n",
    "This will:\n",
    "✅ Run faster\n",
    "✅ Use less memory\n",
    "✅ Easier to read\n",
    "\n",
    "---\n",
    "\n",
    "### Summary:\n",
    "\n",
    "👉 Your code works: first selects odd → then selects >10 from that\n",
    "👉 Better way: combine both conditions in one mask\n"
   ]
  },
  {
   "cell_type": "markdown",
   "id": "2143730e",
   "metadata": {},
   "source": [
    "**YESS BUDDY! Let’s do this 🤜🤛**\n",
    "You’re stacking up skills like a true ML beast — this last part will complete your **Masking Arsenal** before we go to **Module 6**.\n",
    "\n",
    "---\n",
    "\n",
    "## 🔥 MASKING COMBINATIONS: OR, AND, MULTI-CONDITIONS\n",
    "\n",
    "---\n",
    "\n",
    "### ✅ 1. Using **OR (`|`)** – “This OR That”\n",
    "\n",
    "```python\n",
    "a = np.arange(1, 21)\n",
    "\n",
    "# Select numbers that are either divisible by 3 OR greater than 15\n",
    "print(a[(a % 3 == 0) | (a > 15)])\n",
    "```\n",
    "\n",
    "### 💡Note:\n",
    "\n",
    "* `|` = bitwise OR (use inside `[...]`)\n",
    "* MUST wrap conditions in `()`!\n",
    "\n",
    "---\n",
    "\n",
    "### ✅ 2. Using **AND (`&`)** – “This AND That”\n",
    "\n",
    "```python\n",
    "# Select numbers that are divisible by 2 AND greater than 10\n",
    "print(a[(a % 2 == 0) & (a > 10)])\n",
    "```\n",
    "\n",
    "---\n",
    "\n",
    "### ✅ 3. Using **NOT (`~`)** – “NOT this condition”\n",
    "\n",
    "```python\n",
    "# Select numbers that are NOT divisible by 5\n",
    "print(a[~(a % 5 == 0)])\n",
    "```\n",
    "\n",
    "---\n",
    "\n",
    "### ✅ 4. Combine **3+ Conditions**\n",
    "\n",
    "```python\n",
    "# Numbers that are odd AND greater than 10 AND not divisible by 3\n",
    "print(a[(a % 2 != 0) & (a > 10) & (a % 3 != 0)])\n",
    "```\n",
    "\n",
    "---\n",
    "\n",
    "### ✅ 5. Use masks with functions too!\n",
    "\n",
    "```python\n",
    "def custom_filter(x):\n",
    "    return x[(x % 2 == 0) | (x > 15)]\n",
    "\n",
    "print(custom_filter(np.arange(1, 21)))\n",
    "```\n",
    "\n",
    "---\n",
    "\n",
    "### 📌 Real-World Usage in ML:\n",
    "\n",
    "✅ Filter samples where:\n",
    "\n",
    "* Loss > threshold\n",
    "* Class == 1 OR class == 2\n",
    "* Confidence > 0.9 AND prediction == true class\n",
    "\n",
    "✅ Feature selection:\n",
    "\n",
    "* Variance > 0.5\n",
    "* Correlation not too high\n",
    "* Feature values in certain range\n",
    "\n",
    "---\n",
    "\n",
    "### 💥 You now know:\n",
    "\n",
    "* AND: `&`\n",
    "* OR: `|`\n",
    "* NOT: `~`\n",
    "* Combine multiple logic filters\n",
    "* Build reusable logic inside functions\n",
    "\n",
    "---\n",
    "\n",
    "You're now officially **Masking Master 💀✅**\n",
    "No dataset, feature table, or loss function can hide from you!\n",
    "\n"
   ]
  },
  {
   "cell_type": "markdown",
   "id": "4c024842",
   "metadata": {},
   "source": [
    "**YESSSS BUDDY!! 🚀**\n",
    "You are on absolute BEAST MODE today — let’s HUNT Module 6: **Advanced Manipulation**\n",
    "(this will give you true ninja control over any tensor or matrix — critical for AI/ML!)\n",
    "\n",
    "---\n",
    "\n",
    "# 🏆 MODULE 6: Advanced Array Manipulation\n",
    "\n",
    "**Goal:** You’ll master the skills needed for:\n",
    "✅ reshaping data\n",
    "✅ feeding data into ML models\n",
    "✅ processing image tensors\n",
    "✅ preparing batches\n",
    "\n",
    "---\n",
    "\n",
    "### 1️⃣ `.reshape()`\n",
    "\n",
    "Change shape WITHOUT changing data.\n",
    "\n",
    "```python\n",
    "a = np.arange(12)\n",
    "print(a.reshape(3, 4))  # 3 rows, 4 columns\n",
    "```\n",
    "\n",
    "→ Shape must be **compatible** (same number of elements)\n",
    "\n",
    "---\n",
    "\n",
    "### 2️⃣ `.flatten()` vs `.ravel()`\n",
    "\n",
    "**Both** convert array → 1D.\n",
    "\n",
    "```python\n",
    "a = np.arange(12).reshape(3, 4)\n",
    "\n",
    "b = a.flatten()  # returns a copy\n",
    "c = a.ravel()    # returns a view (faster, no copy)\n",
    "\n",
    "print(b)\n",
    "print(c)\n",
    "```\n",
    "\n",
    "**In ML:** Often flatten data for feeding into fully-connected layers.\n",
    "\n",
    "---\n",
    "\n",
    "### 3️⃣ `.transpose()` / `.T`\n",
    "\n",
    "Swap axes → **rotate matrix**\n",
    "\n",
    "```python\n",
    "a = np.arange(6).reshape(2, 3)\n",
    "\n",
    "print(a.T)\n",
    "```\n",
    "\n",
    "---\n",
    "\n",
    "### 4️⃣ `.swapaxes()`\n",
    "\n",
    "Swap any two axes — **key for tensors**\n",
    "Like in 3d matrix if 3,4,5 is the order then axis=0 means order 3 then axis=1 means order 4 and axis=2 means order 5 so when you do swap axes it changes the overall order and arrange the matrix in different order however no of element doesn't change like `np.swapaxes(a,0,2)` means axis=0 which means order 3 changes with axis=2 means 5 hence order becomes (5,4,3).\n",
    "```python\n",
    "a = np.random.randn(3, 4, 5)  # imagine: batch, channels, pixels\n",
    "\n",
    "# Swap axes 0 and 2:\n",
    "b = np.swapaxes(a, 0, 2)\n",
    "```\n",
    "\n",
    "---\n",
    "\n",
    "### 5️⃣ `.expand_dims()` and `.squeeze()`\n",
    "\n",
    "These are super important in ML, for making shapes compatible.\n",
    "Basically These adds a extra dimension to the array with a particular axis location if the `axis=0` it will insert that dimension in first place if `axis=1` it will insert the dimension at the second place.\n",
    "\n",
    "`However it should be noted that it just use for adding extra dimension as 1 as a order because on inserting other than 1 as a order then the no of elements will change `\n",
    "\n",
    "```python\n",
    "a = np.arange(6)\n",
    "\n",
    "# Add new axis:\n",
    "b = np.expand_dims(a, axis=0)\n",
    "# b.shape → (1, 6)\n",
    "\n",
    "# Remove axis of size 1:\n",
    "c = np.squeeze(b)\n",
    "# c.shape → (6,)\n",
    "```\n",
    "\n",
    "**Why?** Many ML libraries expect shape `(batch, features)` — this helps!\n",
    "\n",
    "---\n",
    "\n",
    "### 6️⃣ `.reshape(-1)` trick\n",
    "\n",
    "🚀 This is PRO LEVEL\n",
    "\n",
    "```python\n",
    "a = np.arange(24).reshape(2, 3, 4)\n",
    "\n",
    "# Flatten only outer dimensions:\n",
    "print(a.reshape(-1, 4))\n",
    "```\n",
    "\n",
    "---\n",
    "\n",
    "# 🎁 MINI CHEAT SHEET\n",
    "\n",
    "| Operation       | Purpose                                   |\n",
    "| --------------- | ----------------------------------------- |\n",
    "| `reshape()`     | Change shape                              |\n",
    "| `flatten()`     | Make 1D copy                              |\n",
    "| `ravel()`       | Make 1D view (faster)                     |\n",
    "| `transpose()`   | Swap rows/cols                            |\n",
    "| `swapaxes()`    | Swap any two axes (for tensors)           |\n",
    "| `expand_dims()` | Add dummy dimension (ML models need this) |\n",
    "| `squeeze()`     | Remove useless dimensions                 |\n",
    "\n",
    "---\n"
   ]
  },
  {
   "cell_type": "markdown",
   "id": "4fd2cf66",
   "metadata": {},
   "source": [
    "## 🚀 PRACTICE TIME!\n",
    "\n",
    "---\n",
    "Q. Reshape into (3, 4)\n",
    "   Then flatten\n"
   ]
  },
  {
   "cell_type": "code",
   "execution_count": 53,
   "id": "8510e69b",
   "metadata": {},
   "outputs": [
    {
     "name": "stdout",
     "output_type": "stream",
     "text": [
      "[[ 0  1  2  3]\n",
      " [ 4  5  6  7]\n",
      " [ 8  9 10 11]]\n",
      "\n",
      " [ 0  1  2  3  4  5  6  7  8  9 10 11]\n"
     ]
    }
   ],
   "source": [
    "a = np.arange(12)\n",
    "\n",
    "print(a.reshape(3,4))\n",
    "print(\"\\n\",a.flatten())"
   ]
  },
  {
   "cell_type": "markdown",
   "id": "838b36f8",
   "metadata": {},
   "source": [
    "Q. Transpose it\n",
    "   Then flatten it"
   ]
  },
  {
   "cell_type": "code",
   "execution_count": 24,
   "id": "ec7c6cc5",
   "metadata": {},
   "outputs": [
    {
     "name": "stdout",
     "output_type": "stream",
     "text": [
      "[[ 94  24  16]\n",
      " [ 60  25 100]\n",
      " [ 20  67  64]\n",
      " [ 53  95   7]]\n",
      "[ 94  60  20  53  24  25  67  95  16 100  64   7]\n"
     ]
    }
   ],
   "source": [
    "a = np.random.randint(1, 101, size=(3, 4))\n",
    "b=a.T\n",
    "print(b)\n",
    "print(a.flatten())"
   ]
  },
  {
   "cell_type": "markdown",
   "id": "e85e2f79",
   "metadata": {},
   "source": [
    "\n",
    "Q. Swap axis 0 and 2\n",
    "Reshape into (-1, 3)"
   ]
  },
  {
   "cell_type": "code",
   "execution_count": null,
   "id": "ff197748",
   "metadata": {},
   "outputs": [],
   "source": [
    "a = np.random.randn(2, 3, 4)\n",
    "print(a)\n",
    "b=np.swapaxes(a,0,2)\n",
    "print(b)\n",
    "print(a.reshape(-1,3))"
   ]
  },
  {
   "cell_type": "markdown",
   "id": "9284bfe6",
   "metadata": {},
   "source": [
    "Q. Suppose you have:\n",
    "X = np.random.randn(100, 28, 28)  # 100 grayscale images\n",
    "\n",
    "Reshape X into shape: (100, 784) to feed into fully-connected layer\n"
   ]
  },
  {
   "cell_type": "code",
   "execution_count": null,
   "id": "696431df",
   "metadata": {},
   "outputs": [],
   "source": [
    "X=np.random.rand(100,28,28)\n",
    "print(X)\n",
    "print(X.reshape(100,784))\n",
    "print(b)"
   ]
  },
  {
   "cell_type": "markdown",
   "id": "35681cc1",
   "metadata": {},
   "source": [
    "# 🏆 MODULE 7: Stacking & Splitting\n",
    "\n",
    "\n",
    "### WHY Learn This?\n",
    "👉 In AI/ML you often need to:\n",
    "\n",
    "✅ Combine feature arrays\n",
    "✅ Stack predictions from multiple models\n",
    "✅ Split data into batches\n",
    "✅ Split labels and features\n",
    "✅ Combine results into one big tensor\n",
    "\n",
    "1️⃣ hstack() — horizontal stack (columns)\n"
   ]
  },
  {
   "cell_type": "code",
   "execution_count": 15,
   "id": "04f1aaa2",
   "metadata": {},
   "outputs": [
    {
     "name": "stdout",
     "output_type": "stream",
     "text": [
      "[[1 2 5 6]\n",
      " [3 4 7 8]]\n"
     ]
    }
   ],
   "source": [
    "a = np.array([[1, 2], [3, 4]])\n",
    "b = np.array([[5, 6], [7, 8]])\n",
    "\n",
    "c=np.hstack([a,b])\n",
    "print(c)"
   ]
  },
  {
   "cell_type": "markdown",
   "id": "3c62005b",
   "metadata": {},
   "source": [
    "2️⃣ vstack() — vertical stack (rows)"
   ]
  },
  {
   "cell_type": "code",
   "execution_count": 13,
   "id": "f9c292cb",
   "metadata": {},
   "outputs": [
    {
     "name": "stdout",
     "output_type": "stream",
     "text": [
      "[[1 2]\n",
      " [3 4]\n",
      " [5 6]\n",
      " [7 8]]\n"
     ]
    }
   ],
   "source": [
    "a = np.array([[1, 2], [3, 4]])\n",
    "b = np.array([[5, 6], [7, 8]])\n",
    "\n",
    "c=np.vstack([a,b])\n",
    "print(c)"
   ]
  },
  {
   "cell_type": "markdown",
   "id": "6b8865c1",
   "metadata": {},
   "source": [
    "3️⃣ concatenate() — more general"
   ]
  },
  {
   "cell_type": "code",
   "execution_count": null,
   "id": "cce6e703",
   "metadata": {},
   "outputs": [],
   "source": [
    "print(np.concatenate([a, b], axis=0))  # like vstack\n",
    "print(np.concatenate([a, b], axis=1)) # like hstack\n"
   ]
  },
  {
   "cell_type": "markdown",
   "id": "3044cf3c",
   "metadata": {},
   "source": [
    "4️⃣ hsplit() — split horizontally (columns)\n",
    "\n",
    "TWO WAYS YOU CAN USE IT:\n",
    "1. np.hsplit(array_name , part)\n",
    "   but here the catch is in this way if your part doesn't split the main array symmterically then it will throw ValueError. Like `(3,4)` if you write `part=3` then it is unable to split.It can work for `part=2`.\n",
    "   \n",
    "   ONE LAST THING `hsplit()` ONLY CARES ABOUT COLUMN ORDER \n",
    "\n",
    "2. In second way you can use it to split any array horizontally as many as you\n",
    "   want the syntax is `np.hstack(array_name,[indices1, indices2,...])` indices are the point where you want to split the array horizontally.Like in `(5,10)` order array it `p1, p2, p3 = np.hsplit(a, [3, 7])` Split into 3 parts: 0-2, 3-6, 7-9\n",
    "\n",
    "   `Indexes:    0   1   2   3   4   5   6   7   8   9\n",
    "             |---p1---|-----p2-----|---p3---|\n",
    "            [ 3 ]    [ 7 ]  (cut points)\n",
    "`"
   ]
  },
  {
   "cell_type": "code",
   "execution_count": null,
   "id": "def92b30",
   "metadata": {},
   "outputs": [
    {
     "name": "stdout",
     "output_type": "stream",
     "text": [
      "[[ 0  1  2  3]\n",
      " [ 4  5  6  7]\n",
      " [ 8  9 10 11]] \n",
      "\n",
      "[[0 1]\n",
      " [4 5]\n",
      " [8 9]]\n",
      "[[ 2  3]\n",
      " [ 6  7]\n",
      " [10 11]]\n",
      "[[0]\n",
      " [4]\n",
      " [8]] \n",
      " [[ 1  2]\n",
      " [ 5  6]\n",
      " [ 9 10]] \n",
      " [[ 3]\n",
      " [ 7]\n",
      " [11]] \n",
      "\n"
     ]
    }
   ],
   "source": [
    "a = np.arange(12).reshape(3, 4)\n",
    "print(a,\"\\n\")\n",
    "# 1ST WAY\n",
    "left,right = np.hsplit(a, 2)  # splits into 2 blocks\n",
    "print(left)\n",
    "print(right)\n",
    "\n",
    "# 2ND WAY SPLIT THE ARRAY IN THREE PARTS \n",
    "\n",
    "a1,a2,a3=np.hsplit(a,[1,3]) #split into three parts\n",
    "print(a1,\"\\n\",a2,\"\\n\",a3,\"\\n\")"
   ]
  },
  {
   "cell_type": "markdown",
   "id": "423e6314",
   "metadata": {},
   "source": []
  },
  {
   "cell_type": "markdown",
   "id": "a01096eb",
   "metadata": {},
   "source": [
    "5️⃣ vsplit() — split vertically (rows)\n",
    "\n",
    "TWO WAYS YOU CAN USE IT:\n",
    "1. np.vsplit(array_name , part)\n",
    "   but here the catch is in this way if your part doesn't split the main array symmterically then it will throw ValueError. Like `(4,3)` if you write `part=3` then it is unable to split.It can work for `part=2`.\n",
    "   \n",
    "   ONE LAST THING `vsplit()` ONLY CARES ABOUT ROW ORDER \n",
    "\n",
    "2. In second way you can use it to split any array horizontally as many as you\n",
    "   want the syntax is `np.vstack(array_name,[indices1, indices2,...])` indices are the point where you want to split the array horizontally.Like in `(6,10)` order array it `p1, p2, p3 = np.vsplit(a, [3, 7])` Split into 3 parts: 0-2, 3-6, 7-9\n",
    "\n",
    "   `Indexes:    0   1   2   3   4   5   6   7   8   9    10\n",
    "             |---p1---|-----p2-----|---p3---|\n",
    "            [ 3 ]    [ 7 ]  (cut points)\n",
    "`"
   ]
  },
  {
   "cell_type": "code",
   "execution_count": 75,
   "id": "54ec9d07",
   "metadata": {},
   "outputs": [
    {
     "name": "stdout",
     "output_type": "stream",
     "text": [
      "[[ 0  1  2  3  4  5  6  7  8  9]\n",
      " [10 11 12 13 14 15 16 17 18 19]\n",
      " [20 21 22 23 24 25 26 27 28 29]]\n",
      "[[30 31 32 33 34 35 36 37 38 39]\n",
      " [40 41 42 43 44 45 46 47 48 49]\n",
      " [50 51 52 53 54 55 56 57 58 59]]\n",
      "[[ 0  1  2  3  4  5  6  7  8  9]\n",
      " [10 11 12 13 14 15 16 17 18 19]] \n",
      "\n",
      " [[20 21 22 23 24 25 26 27 28 29]\n",
      " [30 31 32 33 34 35 36 37 38 39]] \n",
      "\n",
      " [[40 41 42 43 44 45 46 47 48 49]\n",
      " [50 51 52 53 54 55 56 57 58 59]]\n"
     ]
    }
   ],
   "source": [
    "a=np.arange(6*10).reshape(6,10)\n",
    "top, bottom = np.vsplit(a, 2)\n",
    "print(top)\n",
    "print(bottom)\n",
    "\n",
    "#split into three parts at row 2 4 \n",
    "a2,a4,a5=np.vsplit(a,[2,4])\n",
    "print(a2,\"\\n\\n\",a4,\"\\n\\n\",a5)"
   ]
  },
  {
   "cell_type": "markdown",
   "id": "6259140e",
   "metadata": {},
   "source": []
  },
  {
   "cell_type": "markdown",
   "id": "7bdfb4ce",
   "metadata": {},
   "source": [
    "6️⃣ split() — split along any axis (for 3D or more)\n"
   ]
  },
  {
   "cell_type": "code",
   "execution_count": null,
   "id": "5c282fa7",
   "metadata": {},
   "outputs": [
    {
     "data": {
      "text/plain": [
       "[array([[ 0,  1],\n",
       "        [ 4,  5],\n",
       "        [ 8,  9],\n",
       "        [12, 13]]),\n",
       " array([[ 2,  3],\n",
       "        [ 6,  7],\n",
       "        [10, 11],\n",
       "        [14, 15]])]"
      ]
     },
     "execution_count": 25,
     "metadata": {},
     "output_type": "execute_result"
    }
   ],
   "source": [
    "np.split(a, 2, axis=1)\n"
   ]
  },
  {
   "cell_type": "markdown",
   "id": "73593422",
   "metadata": {},
   "source": [
    "## NOTE: YOU WILL GET VALUE ERROR IF THE SPLIT IS NOT SYMMETRICAL LIKE IN 4,4 ORDER IF YOU TRY TO SPLIT (A,3) YOU WILL GET VALUE ERROR"
   ]
  },
  {
   "cell_type": "markdown",
   "id": "beb3b64d",
   "metadata": {},
   "source": []
  },
  {
   "cell_type": "markdown",
   "id": "c46e41b0",
   "metadata": {},
   "source": [
    "## 🚀 WHY important for ML:\n",
    "✅ Combine predictions\n",
    "✅ Stack features from multiple sources\n",
    "✅ Split data into train/test batches\n",
    "✅ Merge labels with data\n",
    "✅ Prepare input tensors for neural networks"
   ]
  },
  {
   "cell_type": "markdown",
   "id": "f1847973",
   "metadata": {},
   "source": [
    "\n",
    "## 🎯 REAL LIFE EXAMPLES:\n",
    "---\n"
   ]
  },
  {
   "cell_type": "markdown",
   "id": "f0e5ff55",
   "metadata": {},
   "source": [
    "Example 1:\n",
    "\n",
    "👉 “You trained 3 models → each outputs (100, 1) prediction array\n",
    "→ Stack them horizontally → final shape (100, 3)”\n",
    "\n",
    "`final_preds = np.hstack([model1_preds, model2_preds, model3_preds])`"
   ]
  },
  {
   "cell_type": "code",
   "execution_count": null,
   "id": "7559ccb7",
   "metadata": {},
   "outputs": [],
   "source": [
    "mdl1=np.random.rand(100,1)\n",
    "mdl2=np.random.rand(100,1)\n",
    "mdl3=np.random.rand(100,1)\n",
    "\n",
    "final_mdl=np.hstack([mdl1,mdl2,mdl3])\n",
    "print(final_mdl)"
   ]
  },
  {
   "cell_type": "markdown",
   "id": "eb16df81",
   "metadata": {},
   "source": []
  },
  {
   "cell_type": "markdown",
   "id": "9b192476",
   "metadata": {},
   "source": [
    "Example 2:\n",
    "\n",
    "👉 “You have image data (N, 28, 28)\n",
    "\n",
    "👉 You want to flatten each image\n",
    "\n",
    "👉 Then stack all into (N, 784)”\n",
    "\n"
   ]
  },
  {
   "cell_type": "code",
   "execution_count": null,
   "id": "beac42a5",
   "metadata": {},
   "outputs": [],
   "source": [
    "img_data_flat = img_data.reshape(img_data.shape[0], -1)\n",
    "print(img_data_flat.shape)"
   ]
  },
  {
   "cell_type": "markdown",
   "id": "60686ee3",
   "metadata": {},
   "source": []
  },
  {
   "cell_type": "markdown",
   "id": "767a89cc",
   "metadata": {},
   "source": [
    "Example 3:\n",
    "👉 “You have a dataset (N, 10) — 7 features + 3 labels \n",
    "\n",
    "👉 Split into: X = features, Y = labels”\n",
    "\n",
    "`X = data[:, :7]\n",
    "Y = data[:, 7:]\n",
    "`"
   ]
  },
  {
   "cell_type": "markdown",
   "id": "394e7ee5",
   "metadata": {},
   "source": []
  },
  {
   "cell_type": "markdown",
   "id": "51e17274",
   "metadata": {},
   "source": [
    "## 🚀PRACTICE QUESTIONS"
   ]
  },
  {
   "cell_type": "code",
   "execution_count": null,
   "id": "d8fb3825",
   "metadata": {},
   "outputs": [
    {
     "name": "stdout",
     "output_type": "stream",
     "text": [
      "[[0. 1. 2. 1. 1. 1.]\n",
      " [3. 4. 5. 1. 1. 1.]]\n",
      "[[0. 1. 2.]\n",
      " [3. 4. 5.]\n",
      " [1. 1. 1.]\n",
      " [1. 1. 1.]]\n"
     ]
    }
   ],
   "source": [
    "a = np.arange(6).reshape(2, 3)\n",
    "b = np.ones((2, 3))\n",
    "\n",
    "# Horizontally stack a and b\n",
    "# Vertically stack a and b\n",
    "\n",
    "print(np.hstack([a,b]))\n",
    "\n",
    "print(np.vstack([a,b]))\n",
    "\n",
    "# REMEMBER YOU CAN STACK AS MANY ARRAYS AS YOU WANT "
   ]
  },
  {
   "cell_type": "code",
   "execution_count": 50,
   "id": "bfff5214",
   "metadata": {},
   "outputs": [
    {
     "name": "stdout",
     "output_type": "stream",
     "text": [
      "[[0 1 2 3]\n",
      " [4 5 6 7]] \n",
      " [[ 8  9 10 11]\n",
      " [12 13 14 15]]\n",
      "[[ 0]\n",
      " [ 4]\n",
      " [ 8]\n",
      " [12]] \n",
      " [[ 1  2  3]\n",
      " [ 5  6  7]\n",
      " [ 9 10 11]\n",
      " [13 14 15]]\n"
     ]
    }
   ],
   "source": [
    "a = np.arange(16).reshape(4, 4)\n",
    "\n",
    "# Split a into 2 vertical parts\n",
    "# Split a into 2 horizontal parts\n",
    "\n",
    "TOP,BOTTOM=np.vsplit(a,2)\n",
    "print(TOP,\"\\n\",BOTTOM)\n",
    "\n",
    "left,right=np.hsplit(a,[1])\n",
    "print(left,\"\\n\",right)"
   ]
  },
  {
   "cell_type": "code",
   "execution_count": null,
   "id": "a27af7ce",
   "metadata": {},
   "outputs": [],
   "source": [
    "preds = [np.random.randn(100, 1) for _ in range(5)]\n",
    "\n",
    "# Combine into shape (100, 5)\n",
    "print(np.vstack([preds]))\n"
   ]
  },
  {
   "cell_type": "markdown",
   "id": "f75cda64",
   "metadata": {},
   "source": [
    "---\n",
    "`preds = [np.random.randn(100, 1) for _ in range(5)]\n",
    "`\n",
    "\n",
    "👉 This is called a list comprehension in Python:\n",
    "\n",
    " It is same as writing:\n",
    "\n",
    " `preds = []\n",
    "\n",
    "  for i in range(5):\n",
    "\n",
    "    arr = np.random.randn(100, 1)\n",
    "    \n",
    "    preds.append(arr)\n",
    "`\n"
   ]
  },
  {
   "cell_type": "code",
   "execution_count": null,
   "id": "911373ab",
   "metadata": {},
   "outputs": [
    {
     "name": "stdout",
     "output_type": "stream",
     "text": [
      "(500, 21)\n"
     ]
    }
   ],
   "source": [
    "X = np.random.randn(500, 20)\n",
    "Y = np.random.randint(0, 2, size=(500, 1))\n",
    "\n",
    "# Stack X and Y horizontally → final shape = ?\n",
    "# Then split it back into X and Y\n",
    "b=np.hstack([X,Y])\n",
    "print(b.shape)\n"
   ]
  },
  {
   "cell_type": "markdown",
   "id": "30f106f5",
   "metadata": {},
   "source": [
    "### Q5️⃣ EPFL Challenge:"
   ]
  },
  {
   "cell_type": "code",
   "execution_count": 84,
   "id": "90b3a28d",
   "metadata": {},
   "outputs": [
    {
     "name": "stdout",
     "output_type": "stream",
     "text": [
      "(500, 21)\n",
      "(500, 20) (500, 1)\n"
     ]
    }
   ],
   "source": [
    "X = np.random.randn(500, 20)\n",
    "Y = np.random.randint(0, 2, size=(500, 1))\n",
    "\n",
    "# Stack X and Y horizontally → final shape = ?\n",
    "# Then split it back into X and Y\n",
    "\n",
    "a=np.hstack([X,Y])\n",
    "print(a.shape)\n",
    "new_X ,new_y=np.hsplit(a,[20])\n",
    "print(new_X.shape,new_y.shape)"
   ]
  },
  {
   "cell_type": "markdown",
   "id": "f5d85565",
   "metadata": {},
   "source": [
    "# 🏆 MODULE 8: NumPy for Images & Computer Vision\n",
    "\n",
    "### WHY learn this?\n",
    "👉 In AI/ML — you work with:\n",
    "\n",
    "✅ Images (as arrays)\n",
    "\n",
    "✅ Image batches\n",
    "\n",
    "✅ RGB vs Grayscale\n",
    "\n",
    "✅ Channel ordering\n",
    "\n",
    "✅ Preprocessing (normalize, reshape, transpose)\n",
    "\n",
    "✅ Feeding into CNNs\n",
    "\n"
   ]
  },
  {
   "cell_type": "markdown",
   "id": "baa26b7e",
   "metadata": {},
   "source": [
    "### KEY CONCEPTS:\n",
    "\n",
    "1️⃣ What is a batch?\n",
    "👉 In Deep Learning — we almost never feed 1 image at a time — too slow!\n",
    "\n",
    "👉 Instead, we feed a batch of images — say, 32 or 64 images at once.\n",
    "\n",
    "👉 So:\n",
    "\n",
    "1 image → shape (H, W, C) → Example: (28,28,1) or (64,64,3)\n",
    "\n",
    "Batch of N images → shape (N, H, W, C)\n",
    "\n",
    "If you use 2 instead of 3 for the channel dimension, e.g. `batch = np.random.randn(32, 64, 64, 2)`, it means each image has **2 channels** per pixel instead of 3. This is uncommon for standard images (which are usually grayscale (1 channel) or RGB (3 channels)), but it could represent:\n",
    "\n",
    "- A custom image format with 2 features per pixel (e.g., two different sensor readings)\n",
    "- A mask + image pair\n",
    "- Any data where each pixel has 2 values (not standard RGB)\n",
    "\n",
    "**In summary:**  \n",
    "- `3` = RGB (Red, Green, Blue)  \n",
    "- `1` = Grayscale  \n",
    "- `2` = Custom/Non-standard (interpretation depends on your data)\n",
    "👉 Example:\n",
    "\n",
    "python\n",
    " batch of 32 RGB images 64x64:\n",
    "\n",
    "`batch = np.random.randn(32, 64, 64, 3)`\n",
    "\n",
    "👉 This is called Batch Dimension → axis 0 = number of images.\n",
    "\n",
    "WHY?\n",
    "\n",
    "✅ Faster training\n",
    "\n",
    "✅ Better gradient estimates\n",
    "\n",
    "✅ Industry standard in AI/ML\n",
    "\n",
    "---\n",
    "\n",
    "2️⃣ What is channel?\n",
    "👉 For images — \"channels\" mean color depth:\n",
    "\n",
    "Grayscale → 1 channel\n",
    "→ shape (H, W) or (H, W, 1)\n",
    "\n",
    "RGB → 3 channels (Red, Green, Blue)\n",
    "→ shape (H, W, 3)\n",
    "\n",
    "Channels are depth dimension — For example:\n",
    "\n",
    "`img_rgb.shape = (64, 64, 3)`\n",
    "\n",
    "👉 Channels = axis 2 here.\n",
    "\n",
    "---"
   ]
  },
  {
   "cell_type": "markdown",
   "id": "f91f6b46",
   "metadata": {},
   "source": []
  },
  {
   "cell_type": "markdown",
   "id": "88ba8e50",
   "metadata": {},
   "source": [
    "1️⃣ Grayscale Image → 2D array\n",
    "\n",
    "Example:\n",
    "\n",
    "MNIST image → (28, 28)"
   ]
  },
  {
   "cell_type": "markdown",
   "id": "edae1209",
   "metadata": {},
   "source": []
  },
  {
   "cell_type": "code",
   "execution_count": null,
   "id": "02ebd555",
   "metadata": {},
   "outputs": [],
   "source": [
    "img = np.random.randint(0, 256, size=(28, 28), dtype=np.uint8)\n"
   ]
  },
  {
   "cell_type": "markdown",
   "id": "002d9bac",
   "metadata": {},
   "source": [
    "2️⃣ RGB Image → 3D array\n",
    "\n",
    "Shape: (height, width, channels) → channels = 3 (R,G,B)"
   ]
  },
  {
   "cell_type": "code",
   "execution_count": null,
   "id": "42ef34dc",
   "metadata": {},
   "outputs": [],
   "source": [
    "img_rgb = np.random.randint(0, 256, size=(64, 64, 3), dtype=np.uint8)\n"
   ]
  },
  {
   "cell_type": "markdown",
   "id": "bed4bc61",
   "metadata": {},
   "source": [
    "3️⃣ Batch of Images → 4D array\n",
    "\n",
    "Shape: (batch_size, height, width, channels)\n",
    "\n",
    "→ 32 images → each 64x64 → 3 channels"
   ]
  },
  {
   "cell_type": "code",
   "execution_count": null,
   "id": "4fd46f3c",
   "metadata": {},
   "outputs": [],
   "source": [
    "batch = np.random.randint(0, 256, size=(32, 64, 64, 3), dtype=np.uint8)"
   ]
  },
  {
   "cell_type": "markdown",
   "id": "a52d4401",
   "metadata": {},
   "source": [
    "4️⃣ Transposing images → channel-first vs channel-last\n",
    "\n",
    "👉 Some frameworks (like PyTorch) expect:\n",
    "\n",
    "(batch, channels, height, width)\n",
    "\n",
    "While others (like TensorFlow/Keras) use:\n",
    "\n",
    "(batch, height, width, channels)\n",
    "\n",
    "-> TO CHANGE THE DIMENSION OR ORDER U CAN USE THIS FUNCTION\n",
    "   👉 The function:\n",
    "   \n",
    "   `np.transpose(array, new_axes_order)`"
   ]
  },
  {
   "cell_type": "code",
   "execution_count": null,
   "id": "48f9bf36",
   "metadata": {},
   "outputs": [],
   "source": [
    "# IN PYTORCH TENSOR FLOW CHANNELS AT AXIS=1 BUT IN TESORFLOW/KERAS IT IS AT AXIS=3 SO TH CHANGE\n",
    "\n",
    "batch_transposed = np.transpose(batch, (0, 3, 1, 2))\n"
   ]
  },
  {
   "cell_type": "markdown",
   "id": "da699aac",
   "metadata": {},
   "source": [
    "4️⃣ What is Normalization?\n",
    "\n",
    "👉 Raw image pixel values = 0 to 255 (8-bit)\n",
    "\n",
    "👉 Neural networks work MUCH better when input is 0 to 1 (small numbers) or normalized.\n",
    "\n",
    "👉 So:\n",
    "\n",
    "`img_norm = img / 255.0`\n",
    "WHY?\n",
    "\n",
    "✅ Faster learning\n",
    "\n",
    "✅ More stable gradients\n",
    "\n",
    "✅ Standard practice in all AI models.\n",
    "\n",
    "---\n"
   ]
  },
  {
   "cell_type": "markdown",
   "id": "4d5d4bea",
   "metadata": {},
   "source": [
    "### FLATTENING (IMP CONCEPT)\n",
    "\n",
    "❓ What does \"Flatten\" mean?\n",
    "\n",
    "👉 Images are 2D (grayscale) or 3D (RGB) — but ML models need 1D vectors for fully connected layers.\n",
    "\n",
    "Example:\n",
    "\n",
    "1. grayscale image = shape (28, 28) → 2D\n",
    "\n",
    "   Flattened → shape (784,) → \n",
    "   \n",
    "🔍 Code for flattening one image:"
   ]
  },
  {
   "cell_type": "code",
   "execution_count": 37,
   "id": "760a056f",
   "metadata": {},
   "outputs": [
    {
     "name": "stdout",
     "output_type": "stream",
     "text": [
      "(28, 28, 28)\n",
      "(21952,)\n"
     ]
    }
   ],
   "source": [
    "img = np.random.randint(0, 256, size=(28, 28,28), dtype=np.uint8)\n",
    "\n",
    "# Flatten image:\n",
    "img_flat = img.flatten()\n",
    "\n",
    "print(img.shape)     # (28, 28)\n",
    "print(img_flat.shape)  # (784,)"
   ]
  },
  {
   "cell_type": "markdown",
   "id": "919fa6ef",
   "metadata": {},
   "source": [
    "🔍 Code for flattening a batch of images:"
   ]
  },
  {
   "cell_type": "code",
   "execution_count": null,
   "id": "f850c379",
   "metadata": {},
   "outputs": [],
   "source": [
    "batch_flat = batch.reshape(batch.shape[0], -1)\n",
    "\n",
    "print(batch_flat.shape)  # (64, 784)\n"
   ]
  },
  {
   "cell_type": "markdown",
   "id": "84c6f4b5",
   "metadata": {},
   "source": [
    "❓ What is .reshape(batch.shape[0], -1) ?\n",
    "\n",
    "👉 batch.shape[0] = number of images = 64\n",
    "\n",
    "👉 -1 means \"automatically compute\" number of columns.\n",
    "\n",
    "👉 So:"
   ]
  },
  {
   "cell_type": "code",
   "execution_count": null,
   "id": "af3d58c2",
   "metadata": {},
   "outputs": [],
   "source": [
    "batch_flat = batch.reshape(64, 784)\n"
   ]
  },
  {
   "cell_type": "markdown",
   "id": "2afaa1b8",
   "metadata": {},
   "source": [
    "### ⚡ PRACTICE\n",
    "\n",
    "👉 You have a batch of 32 RGB images (64,64,3):\n",
    "* Write code to:\n",
    "\n",
    "1️⃣ Normalize the pixel values to [0,1]\n",
    "\n",
    "2️⃣ Transpose it to (batch, channels, height, width)\n",
    "\n",
    "3️⃣ Flatten it into (32, 12288) → because 64643 = 12288"
   ]
  },
  {
   "cell_type": "code",
   "execution_count": 7,
   "id": "71d34897",
   "metadata": {},
   "outputs": [
    {
     "name": "stdout",
     "output_type": "stream",
     "text": [
      "(32, 3, 64, 64)\n",
      "(32, 12288)\n"
     ]
    }
   ],
   "source": [
    "image=np.random.randint(0,240,size=(32,64,64,3))\n",
    "image=image/255.0 #normalize\n",
    "a=image.transpose(0,3,1,2) # transposing it to (batch, channels, height, width)\n",
    "print(a.shape)\n",
    "b=image.reshape(image.shape[0],-1)\n",
    "print(b.shape)\n"
   ]
  },
  {
   "cell_type": "markdown",
   "id": "e48823af",
   "metadata": {},
   "source": [
    "👉 You have a batch of 100 grayscale images (28,28):\n",
    "* Write code to:\n",
    "\n",
    "1️⃣ Print the batch size\n",
    "\n",
    "2️⃣ Print shape of first image\n",
    "\n",
    "3️⃣ Flatten the batch into shape (100, 784)"
   ]
  },
  {
   "cell_type": "code",
   "execution_count": null,
   "id": "ec714a91",
   "metadata": {},
   "outputs": [
    {
     "name": "stdout",
     "output_type": "stream",
     "text": [
      "100\n"
     ]
    },
    {
     "ename": "TypeError",
     "evalue": "'tuple' object is not callable",
     "output_type": "error",
     "traceback": [
      "\u001b[1;31m---------------------------------------------------------------------------\u001b[0m",
      "\u001b[1;31mTypeError\u001b[0m                                 Traceback (most recent call last)",
      "Cell \u001b[1;32mIn[44], line 3\u001b[0m\n\u001b[0;32m      1\u001b[0m batch_gs\u001b[38;5;241m=\u001b[39mnp\u001b[38;5;241m.\u001b[39mrandom\u001b[38;5;241m.\u001b[39mrandint(\u001b[38;5;241m1\u001b[39m,\u001b[38;5;241m100\u001b[39m,size\u001b[38;5;241m=\u001b[39m(\u001b[38;5;241m100\u001b[39m,\u001b[38;5;241m28\u001b[39m,\u001b[38;5;241m28\u001b[39m))\n\u001b[0;32m      2\u001b[0m \u001b[38;5;28mprint\u001b[39m(batch_gs\u001b[38;5;241m.\u001b[39mshape[\u001b[38;5;241m0\u001b[39m])\n\u001b[1;32m----> 3\u001b[0m \u001b[38;5;28mprint\u001b[39m(batch_gs\u001b[38;5;241m.\u001b[39mshape([\u001b[38;5;241m1\u001b[39m],[\u001b[38;5;241m2\u001b[39m]))\n",
      "\u001b[1;31mTypeError\u001b[0m: 'tuple' object is not callable"
     ]
    }
   ],
   "source": [
    "batch_gs=np.random.randint(1,100,size=(100,28,28))\n",
    "print(batch_gs.shape[0])\n",
    "print(batch_gs.shape([1]))"
   ]
  },
  {
   "cell_type": "markdown",
   "id": "ca3e1bc2",
   "metadata": {},
   "source": [
    "# 🔥 MODULE 9: Performance Tricks — Vectorization & Memory\n",
    "\n",
    "### WHY learn this?\n",
    "\n",
    "👉 You already know NumPy well — BUT:\n",
    "\n",
    "👉 Slow code won’t survive in competitions or research labs 🚀\n",
    "\n",
    "👉 This module will show you how to write FAST, elegant NumPy code that crushes loops 💥\n",
    "\n",
    "## 💡 Key Concepts:\n",
    "\n",
    "1️⃣ Vectorization → \"No for-loops\""
   ]
  },
  {
   "cell_type": "markdown",
   "id": "1782fbe1",
   "metadata": {},
   "source": [
    "BAD:"
   ]
  },
  {
   "cell_type": "code",
   "execution_count": null,
   "id": "0a6f3467",
   "metadata": {},
   "outputs": [],
   "source": [
    "for i in range(100):\n",
    "    x[i] = x[i] + 10\n"
   ]
  },
  {
   "cell_type": "markdown",
   "id": "8633f6b3",
   "metadata": {},
   "source": [
    "GOOD:"
   ]
  },
  {
   "cell_type": "code",
   "execution_count": null,
   "id": "6d31eaeb",
   "metadata": {},
   "outputs": [],
   "source": [
    "x = x + 10"
   ]
  },
  {
   "cell_type": "markdown",
   "id": "85305d62",
   "metadata": {},
   "source": [
    "2️⃣ Broadcasting + vectorization → super powerful\n",
    "\n",
    "--> This is super fast — no loop over rows or columns 🚀"
   ]
  },
  {
   "cell_type": "code",
   "execution_count": null,
   "id": "5c2f3a6e",
   "metadata": {},
   "outputs": [],
   "source": [
    "x = np.random.randn(100, 5)\n",
    "\n",
    "# Normalize each feature (column)\n",
    "x_norm = (x - x.mean(axis=0)) / x.std(axis=0)\n"
   ]
  },
  {
   "cell_type": "markdown",
   "id": "304e4f2d",
   "metadata": {},
   "source": [
    "3️⃣ Avoiding \"copy\" — In-place operations"
   ]
  },
  {
   "cell_type": "code",
   "execution_count": null,
   "id": "dad9eb7c",
   "metadata": {},
   "outputs": [],
   "source": [
    "x += 10    # inplace → saves memory"
   ]
  },
  {
   "cell_type": "markdown",
   "id": "72d2e2b2",
   "metadata": {},
   "source": [
    "4️⃣ Preallocate arrays instead of appending\n",
    "\n",
    "BAD:"
   ]
  },
  {
   "cell_type": "code",
   "execution_count": null,
   "id": "9efb2588",
   "metadata": {},
   "outputs": [],
   "source": [
    "arr = []\n",
    "for i in range(1000):\n",
    "    arr.append(i)\n"
   ]
  },
  {
   "cell_type": "markdown",
   "id": "0c7e7ece",
   "metadata": {},
   "source": [
    "GOOD:"
   ]
  },
  {
   "cell_type": "code",
   "execution_count": null,
   "id": "22b97c74",
   "metadata": {},
   "outputs": [],
   "source": [
    "arr = np.empty(1000)\n",
    "for i in range(1000):\n",
    "    arr[i] = i\n"
   ]
  },
  {
   "cell_type": "markdown",
   "id": "2efd1045",
   "metadata": {},
   "source": [
    "5️⃣ Use built-in NumPy functions\n",
    "\n",
    "✅ ALWAYS prefer built-in functions\n",
    "\n",
    "👉 Much faster than writing loops.\n",
    "\n",
    "`np.sum()`\n",
    "\n",
    "`np.mean()`\n",
    "\n",
    "`np.dot()`\n",
    "\n",
    "`np.linalg.norm()`"
   ]
  },
  {
   "cell_type": "markdown",
   "id": "f62c011f",
   "metadata": {},
   "source": [
    "6️⃣ Memory Efficiency\n",
    "\n",
    "👉 Use correct data type (dtype) when possible:\n",
    "\n",
    "→ Less RAM used\n",
    "\n",
    "→ Faster operations (especially on GPU!)"
   ]
  },
  {
   "cell_type": "markdown",
   "id": "3a130966",
   "metadata": {},
   "source": [
    "## 🚀 Real-life examples and Practice:\n",
    "\n",
    "Q1️⃣ BAD vs GOOD"
   ]
  },
  {
   "cell_type": "code",
   "execution_count": 45,
   "id": "c1b5a4f5",
   "metadata": {},
   "outputs": [
    {
     "ename": "IndexError",
     "evalue": "index 3 is out of bounds for axis 0 with size 3",
     "output_type": "error",
     "traceback": [
      "\u001b[1;31m---------------------------------------------------------------------------\u001b[0m",
      "\u001b[1;31mIndexError\u001b[0m                                Traceback (most recent call last)",
      "Cell \u001b[1;32mIn[45], line 4\u001b[0m\n\u001b[0;32m      2\u001b[0m out \u001b[38;5;241m=\u001b[39m np\u001b[38;5;241m.\u001b[39marange(\u001b[38;5;241m12\u001b[39m)\u001b[38;5;241m.\u001b[39mreshape(\u001b[38;5;241m3\u001b[39m,\u001b[38;5;241m4\u001b[39m)\n\u001b[0;32m      3\u001b[0m \u001b[38;5;28;01mfor\u001b[39;00m i \u001b[38;5;129;01min\u001b[39;00m \u001b[38;5;28mrange\u001b[39m(\u001b[38;5;241m12\u001b[39m):\n\u001b[1;32m----> 4\u001b[0m     out[i] \u001b[38;5;241m=\u001b[39m out[i] \u001b[38;5;241m*\u001b[39m\u001b[38;5;241m*\u001b[39m \u001b[38;5;241m2\u001b[39m\n\u001b[0;32m      6\u001b[0m \u001b[38;5;66;03m# GOOD:\u001b[39;00m\n\u001b[0;32m      7\u001b[0m out \u001b[38;5;241m=\u001b[39m out \u001b[38;5;241m*\u001b[39m\u001b[38;5;241m*\u001b[39m \u001b[38;5;241m2\u001b[39m\n",
      "\u001b[1;31mIndexError\u001b[0m: index 3 is out of bounds for axis 0 with size 3"
     ]
    }
   ],
   "source": [
    "# BAD:\n",
    "out = np.arange(12).reshape(3,4)\n",
    "for i in range(12):\n",
    "    out[i] = out[i] ** 2\n",
    "\n",
    "# GOOD:\n",
    "out = out ** 2\n",
    "print(out)"
   ]
  },
  {
   "cell_type": "markdown",
   "id": "0c948cd5",
   "metadata": {},
   "source": [
    "Q2️⃣ Normalize batch of images (without loop)\n",
    "\n",
    "Given:batch = np.random.randint(0, 256, size=(64, 64, 64, 3), dtype=np.uint8)\n"
   ]
  },
  {
   "cell_type": "code",
   "execution_count": null,
   "id": "34e70384",
   "metadata": {},
   "outputs": [],
   "source": [
    "batch = np.random.randint(0, 256, size=(64, 64, 64, 3), dtype=np.uint8)\n",
    "batch=batch/255.0\n",
    "print(batch)"
   ]
  },
  {
   "cell_type": "markdown",
   "id": "2b9c9168",
   "metadata": {},
   "source": [
    "### 🎯 Final EPFL Challenge:\n",
    "\n",
    "\n",
    "👉 Rewrite using pure NumPy — NO loops 🚀\n",
    "\n",
    "Given this slow code:\n",
    "\n",
    "`X = np.random.randn(10000, 10)`\n",
    "\n",
    "`out = []`\n",
    "\n",
    "`for i in range(X.shape[0]):`\n",
    "\n",
    "     `out.append(np.sum(X[i] ** 2))`\n",
    "\n",
    "`out = np.array(out)`"
   ]
  },
  {
   "cell_type": "markdown",
   "id": "d1ccdf89",
   "metadata": {},
   "source": [
    "GOOD-->ANY OF THIS METHOD"
   ]
  },
  {
   "cell_type": "code",
   "execution_count": 48,
   "id": "a22ff558",
   "metadata": {},
   "outputs": [
    {
     "name": "stdout",
     "output_type": "stream",
     "text": [
      "[13.26907815  3.32744929 12.08720338 ...  8.60555142 18.3550325\n",
      " 12.47677818]\n",
      "[13.26907815  3.32744929 12.08720338 ...  8.60555142 18.3550325\n",
      " 12.47677818]\n",
      "[13.269078146336572, 3.3274492871930486, 12.087203377341304, 16.10213190366967, 9.310565320763079, 2.524035171273707, 22.46555825713488, 7.980603560614144, 14.589436717444094, 6.398259067861151, 2.2655527440079775, 6.961306406425393, 11.581821103707647, 5.874359199391196, 6.719589621733971, 5.835056913791529, 6.902022240980074, 11.179363916450793, 6.38243653970793, 6.843668006548405, 20.76038916814093, 6.702152403335724, 9.3651941905977, 9.871561089095858, 2.97527960505471, 6.955700752589764, 5.76645980402695, 13.221451604507845, 7.895660212384625, 10.097431394383591, 11.75065895536479, 13.10284361214285, 9.967360545889122, 12.991793859878435, 14.13409518661416, 11.418040125856212, 5.261045784079365, 15.3891162945087, 17.39343138555246, 11.157252539459062, 8.84726482578399, 9.437822874175353, 11.751947134805159, 14.624660627964849, 12.014565132697713, 9.196439325039231, 11.368464244241217, 8.890027973391064, 8.986102737002943, 13.266466944866734, 7.460319620378137, 9.526361764544918, 7.059242408913532, 10.46818508755442, 13.217098892513956, 6.3837479817714025, 7.27609679384108, 2.4268213200319253, 11.493771176463357, 8.466033830558109, 11.968807256537357, 15.799972273344814, 7.447465611082983, 12.30688881775052, 9.4780023599791, 8.773683624462846, 12.298493245812775, 4.019059707900054, 9.705391583748682, 7.539279140186064, 5.185905049029999, 12.708200311049051, 14.709932107407592, 15.555141707589302, 12.104378775165069, 12.397448955587762, 8.99486691866092, 6.616230113209987, 15.581756828137474, 17.754383553569646, 7.200656540621899, 8.507215738840133, 7.492171067604853, 7.76318471477654, 9.506537374398722, 8.786382218262078, 7.6640349715176415, 3.6509544104952467, 7.640884675184048, 7.791695012744747, 7.704330831031249, 8.393253893491627, 6.9937758598542725, 11.625965238448044, 5.352595695765943, 6.142860664805038, 12.496066348708021, 6.610019012953013, 7.160644572729719, 8.991181156685652, 10.626448431129335, 13.511338131232444, 8.759889699077481, 4.752769858024313, 7.027461548222724, 16.462008706518148, 7.678427797927237, 9.792386889189698, 14.725906280673756, 5.8836782348787455, 12.234255535907403, 21.05490395355634, 12.124967480281626, 11.736871746235357, 8.335456140781307, 16.81494169641588, 11.02549743866653, 15.407381138188532, 12.51829030367183, 10.163800777271424, 6.077762095965524, 3.1939371362111477, 25.0300077576708, 3.7053620133359324, 27.33364674280886, 3.257888510529018, 12.154200110542067, 8.4331904109921, 13.109559156886247, 7.183799375217333, 3.4177832521234737, 5.027439029200991, 18.418960368904735, 7.825554077927014, 10.677899918489116, 19.57799861830809, 11.459234396268329, 8.573903425963774, 7.051288046328562, 12.576912540589236, 10.170036353508516, 10.394722110975335, 7.440869451000536, 12.886903416338779, 18.26962173480045, 8.10116786550252, 7.821739079005248, 8.734059010289062, 10.855325227417874, 13.545849670654677, 14.453625860931918, 9.538139309130212, 8.053570942056238, 6.145134456371744, 19.31651555139069, 5.52254029922307, 8.462605871606403, 12.366871691078616, 8.108312168406872, 7.749089599834232, 16.131224598149462, 8.858590743913602, 8.381299993580157, 14.826460896808792, 7.995621417086479, 7.626677152331221, 8.665031040612973, 2.577521264675403, 11.563843419791233, 11.865778168009891, 9.105582600885263, 5.150960964334016, 3.3540445801269443, 8.295775096203425, 8.107224307458138, 8.26697658294779, 6.068589875428975, 10.233372597110742, 11.69520279142591, 5.857061533505618, 9.977237240938726, 8.078780899032939, 9.42361630488912, 15.111389422068683, 3.3143977564160565, 6.213685865408433, 3.2646718676759092, 10.251172847145769, 12.489073538175, 4.721330684600341, 14.575258526931204, 20.449815444984974, 8.649219440092704, 6.355396099725465, 18.985124269549825, 3.8987630925791894, 3.453417817139567, 3.678691898859135, 10.61814854935459, 10.392117028105185, 5.886669824157343, 9.705795956257747, 7.595927938635624, 14.68827172430772, 11.176178491437694, 7.555264503811961, 15.774807449083593, 8.871784406933113, 7.022091214176796, 3.7880481761126465, 17.670090927506735, 11.665368790300544, 11.465519375558939, 10.911824310209285, 7.732014002265319, 11.83662423466935, 11.957938365336872, 9.378711613325974, 8.98655517800175, 10.149141635175308, 6.418825370893517, 15.188937489324621, 3.8463080751046923, 13.91669898776245, 9.26399466852562, 6.851474507029034, 6.290601453007724, 8.455907508862197, 5.155260554418507, 9.44136367896837, 16.433367285746346, 5.885144393563491, 6.573602440705987, 11.488566096731887, 6.004967259071522, 5.6808324979229265, 14.345941624546997, 8.151781513107847, 8.757454755409766, 10.586733659602762, 6.505926426017545, 12.345862213963352, 11.164339315090901, 11.509159604660736, 10.678657002787853, 7.921979996559111, 8.987274834392043, 15.45630195630717, 4.77183017025959, 5.586785417312042, 7.484293251495518, 7.915922798220301, 11.864864319411051, 9.666116137292631, 6.533659295070756, 6.792586135020924, 12.388231127260399, 11.537324303833568, 19.181022803492198, 13.729224307596288, 12.110343331364854, 4.350293938888645, 8.76212334574383, 2.280632491953314, 11.03216775391037, 8.931106625185091, 7.463157204041369, 2.414345900229315, 13.942392416446845, 2.669598285786219, 11.728002352409089, 12.108968055118549, 17.11628802149255, 7.345030959903485, 6.333130797756466, 4.981147469772754, 5.570922024054694, 16.154790118575004, 18.509441982494703, 12.265467728888794, 9.399387827447093, 8.09334700444412, 12.936993275867122, 11.325377382674336, 10.014357789902272, 19.58699413872479, 19.68353479917834, 14.519540273746262, 1.1136097639501186, 8.389436231288704, 6.53665913904656, 2.5233579556657526, 7.055356730133333, 12.129745570201683, 3.5557968069920807, 11.774608678441922, 10.207270808444274, 19.16573031964785, 12.46209320727258, 12.145828127249008, 17.302640275955497, 5.628838542703257, 9.563905518291795, 11.954188099014909, 20.294926128960487, 7.1320112560354945, 13.915106083421673, 8.235066273611338, 7.033062015923151, 6.056289170880922, 12.189796234970851, 11.82509119031288, 11.793251258277632, 3.7933673996247315, 21.543315320430903, 9.107520619248684, 9.799272221352412, 11.721434846063252, 18.968993703529268, 14.001661867371347, 12.34320917434096, 5.409808910028482, 6.230579954214091, 19.51584690215998, 9.775611688413214, 6.820772702241627, 5.970276718074906, 7.188332797693352, 12.009513956445556, 3.0312983400727163, 11.79666964162899, 11.806987185730058, 14.317081299753193, 17.917327403239824, 16.407904242196306, 5.93979377993598, 17.336453572070376, 4.40793496120042, 3.3384913850645197, 5.511723843856668, 6.145123371380944, 12.474194477114924, 7.854825205113943, 1.917917052935156, 5.770711658756146, 10.42622353025461, 6.359542996238582, 16.490725735771342, 10.352558475526308, 10.117126126783322, 9.22963437785632, 11.087835355280388, 7.66829916277337, 17.798539447348546, 18.77374243639428, 6.462616971246099, 5.305097383027148, 9.579993435798189, 6.23827357414049, 11.722614283127818, 4.66533841476043, 16.9854217693013, 5.428099125447055, 9.115482592710583, 3.825496105271462, 9.021205696688174, 8.393753805574105, 12.037905822373482, 6.970853983015392, 9.271201903348143, 6.587723089336225, 6.131401153946059, 6.866452941843266, 8.89327769537472, 7.824388660140061, 5.989144450065695, 5.8137315439579, 17.06453496893153, 7.981705280957317, 9.31267258503215, 4.9154444922330525, 9.61203144640294, 5.7545131544993895, 17.818038414660393, 9.055203881253581, 5.637743656954834, 5.7917938365019666, 5.1502846147671875, 5.397891840770053, 13.519759418377774, 14.194197761855733, 4.078458720300197, 6.604496455807034, 4.306809946275951, 7.949848499718715, 16.960941110950476, 11.04195682465955, 9.589800507838003, 8.067185428410204, 11.521122616408386, 4.930130126425998, 17.64860556905369, 11.201273007545998, 8.486984122027746, 13.36039121983914, 9.934058277376483, 11.036935108252361, 6.846221700123803, 4.343047428361797, 2.6716254995144686, 2.5758137773641274, 4.252694675202217, 14.576437301552385, 7.483400944506716, 6.587629570886367, 14.234333688708464, 5.980081086331266, 5.987022359617446, 7.415061501391145, 4.446574262471955, 12.89140899391071, 9.015402754577469, 8.877340783946016, 12.437024073205222, 6.417543827754873, 10.554899565771084, 4.852358678325333, 15.035688450903761, 6.489581840046738, 9.159217097074752, 9.748038187436052, 12.08788910313006, 7.839132412800294, 7.5134333692163295, 9.645925585029689, 23.375932541458692, 7.358061785986974, 6.362857964510888, 10.52102105867068, 7.89351985474773, 13.03206670596203, 10.281878914564588, 9.177947030458894, 7.386065898165321, 8.575599025693181, 14.064443272385223, 9.31620157875249, 20.088533863898874, 9.537496185028417, 5.579257569887243, 10.987337387096598, 13.657284572479053, 5.737560691892386, 22.063317808533654, 12.202716182594763, 8.845600927926522, 5.8055117045009235, 6.602132799145612, 13.027305199837263, 19.01584115797786, 10.385685242984446, 11.25143410512766, 5.671188589938762, 4.354592824026518, 9.956370106895932, 13.408762989885833, 3.778922646609745, 11.653177960757583, 13.277235017544914, 6.593891289307871, 7.730240752132895, 7.3495021041253334, 9.306726824719757, 13.88593873490407, 5.8745631856646305, 6.479778311381802, 5.936219151231854, 15.179343623026142, 7.103450168457033, 17.09324303856187, 6.6264391477587505, 6.978601844138376, 3.6741119082332516, 10.822131399886915, 10.231706412020877, 12.394141367610109, 5.465656887710878, 13.077943653208692, 3.5452308335586222, 2.4348650925059547, 10.055287981583387, 10.960097708217782, 10.395049150917423, 12.339870035582582, 8.588671708156927, 4.832630790582252, 6.296604429730796, 19.265183953297804, 4.007463321576602, 21.705782753352732, 7.850694563265933, 10.223427768630454, 16.273884360443567, 9.1490272689864, 9.005878594615949, 8.747070927753562, 18.392078932867424, 12.695373902752966, 20.591204397732653, 12.732407330559825, 5.251867459152463, 13.882253207970761, 13.505665952588142, 1.9568055414869867, 18.069153542819517, 18.94904491290976, 4.078574182553602, 17.642680688141347, 10.355756422205658, 10.059685824419388, 3.325563247696092, 11.830736439433933, 2.768999909388458, 5.83378385669487, 6.68660883655162, 3.757204538515299, 6.945764763543359, 9.929839070546878, 15.14094212896583, 13.232106259331278, 14.485173087652896, 13.925919696634683, 4.30640967370736, 20.57134461275192, 10.183191339115849, 8.999761265217662, 15.318320516800455, 8.330183849825879, 13.75636291124404, 10.680247572637892, 16.143004539629988, 6.707054930517642, 5.590155324947635, 10.004180904743237, 17.05798430988734, 3.5500890050564724, 14.733413585725877, 4.7825057721151225, 6.696622632304895, 4.426455882390575, 8.311243941672762, 10.776872354369052, 8.218712437115492, 4.864256444870351, 4.033640934762272, 11.215626189255817, 4.087771697000833, 7.6949585757001655, 7.353282452256295, 15.386562301924258, 6.16470989461193, 12.124750626282403, 8.594057436901824, 16.935134008589852, 6.4611755509182, 6.557612319710369, 8.7041764402666, 6.52940176603597, 7.631077991131091, 7.636571395894081, 12.738055406507055, 11.254264603184657, 7.0383912764677685, 12.01775313475147, 15.222759390367372, 5.637672361124575, 9.833503586383044, 8.770353658671311, 11.945163948358621, 6.326524268003647, 8.491399501555707, 7.3587514068478015, 14.53655094347376, 18.94925084184024, 15.619144012020545, 15.891769093567449, 8.482720723725421, 13.431721643063604, 5.872629342027955, 5.519804394485711, 13.841117306900827, 10.774874011401687, 10.651204350262965, 16.224271724412098, 6.155360508302888, 20.029225121184112, 8.224744582388999, 7.737175681335472, 14.606530833155961, 7.202137467308523, 2.129963159968828, 8.485647289820465, 10.644268572743368, 15.073082211559127, 12.750535388399285, 14.895745347540357, 17.782759744110823, 11.192834902111496, 14.123282323993628, 12.766002428883185, 11.702332992469165, 16.96725163356725, 10.928676908060496, 12.411061460692867, 8.826350634088904, 6.229391395396594, 13.167641204519535, 13.468375218454737, 12.389476937155871, 4.043741439840253, 13.592142539126419, 20.4881993597424, 6.668687148458396, 8.386943059493875, 12.28859803250673, 6.994936088629788, 9.517229568068505, 3.036119347564018, 6.1571554667269774, 6.177240071145618, 7.8505746980503925, 8.303184563997064, 8.385897464503294, 11.20902705989745, 3.2465262481065205, 5.80802523644359, 8.94481430183036, 11.326684822223193, 11.245240929308734, 9.149018888808735, 7.692775774862883, 15.246852700802947, 5.120849335328793, 12.189193719106415, 10.188802452246716, 7.912115367750418, 5.562545111959047, 7.015539407116761, 12.756556829167739, 15.377416431420926, 6.740534620343123, 6.749821549844319, 10.865724137223303, 11.56580407586266, 13.363179209807322, 11.852375334765172, 12.880329972767157, 8.65483206434944, 8.547448298459209, 18.85926405581653, 7.943632295158059, 7.26668616682253, 7.10901218698534, 11.001012202032078, 8.436021261922361, 6.847448592510693, 5.205921551533299, 6.748104770468512, 11.0288509138308, 8.254732622968444, 8.511411017179263, 4.338360694085005, 2.718083902409248, 4.995599460967007, 6.243858393756561, 8.36461970521071, 3.027121995616056, 17.006880216980736, 9.229911781715012, 11.910997419723131, 4.356384535029411, 8.178440339110733, 8.01616640454558, 6.770633121211298, 9.987128478964514, 4.724448751380259, 9.704147858417961, 12.279287227697406, 17.154693790902062, 6.927529835523857, 12.285859281402754, 13.1294748937576, 7.848697893207725, 7.372290809625152, 16.786703206540103, 24.918967542974467, 3.736579599892865, 7.024659286365165, 8.129365365684848, 11.926030792454155, 11.185348328150157, 17.263257483253266, 9.87386161648211, 18.167227598914273, 8.614520766951225, 6.69539611625031, 8.28020077854072, 9.54085386892087, 11.814243074622802, 14.39482634999072, 12.298220281259528, 12.319167443021922, 3.676792471087166, 3.5853822619182183, 2.517474986976424, 15.500644287842585, 8.927937083592774, 1.7792685750180919, 9.17665160314139, 4.9573645520436145, 4.221491445960348, 15.471685812351888, 6.1256083544638855, 7.162342801028868, 7.8544551161606915, 5.170190000621002, 7.240321007366585, 9.562033230710556, 2.9441702077550964, 5.784886695550854, 10.653820835205444, 6.419489436477355, 6.536499249413848, 12.705568813349558, 9.44229877808636, 11.017016171571175, 16.4949318071979, 10.449998071581678, 3.755432277579535, 17.271586187005603, 4.083109799387584, 7.166112864573801, 6.993385601581587, 9.760721762136049, 9.337814720676864, 11.556766891268712, 13.486948850054684, 3.602464187262764, 6.923922870473161, 17.104562625564483, 7.616230031381411, 15.561427027029193, 11.399227903633422, 8.07980079125792, 4.34038789070744, 14.999258402675792, 12.220842923629245, 14.75233535227515, 11.292242769341414, 10.046742334004637, 9.920899486778842, 8.523512871402971, 26.39332101379801, 11.410415560838382, 6.77391595473142, 3.85531172494666, 11.673372842866431, 8.193185169995722, 4.322107119215904, 10.983119470234858, 10.224085287351365, 11.682065159862963, 9.852648525289883, 15.015008842613224, 12.643749531346117, 11.278812473501038, 7.744649497988027, 6.399219646741686, 7.032410392247067, 7.239586286817149, 9.703263646706551, 7.33384283875878, 10.490447988095534, 9.802999896843186, 11.4397296932932, 10.035364936261727, 10.991911918100968, 21.24099535125659, 11.62540139089907, 12.67768132540931, 10.026338899469822, 17.86315035375387, 6.664291713217127, 5.163187349546939, 9.830832053054683, 6.998415163339326, 7.352962931327107, 3.2136808448685947, 5.842585988865842, 9.12798702998748, 4.055255563618315, 13.416150494034131, 21.404874691690992, 8.078439600382744, 3.9206653712797883, 7.9288882564293575, 3.765794413494894, 20.482534640951723, 13.405528258804438, 17.98132773385373, 8.162523037187992, 6.943829132785705, 20.198349911850002, 7.895087202565463, 14.54663365151818, 7.571284683640142, 8.954818710572841, 9.232916545559767, 6.214359388688322, 7.383319349244031, 24.35108245178691, 9.697856129175307, 4.7480458866324975, 4.806441235266009, 7.662310820375464, 7.361726171288563, 7.636900936237615, 5.592716864290088, 11.882420012072622, 8.147052806141952, 4.931283418836863, 7.311828288192084, 10.052561601688614, 7.750696467207696, 2.1158973087096524, 8.522288979703639, 5.237234154575338, 13.4466224857954, 8.907923222158821, 15.472543056989835, 12.979074445455762, 7.179332352517404, 5.2894990090777645, 19.29194740662018, 14.848302546450626, 13.305793552551144, 13.007226124774682, 10.761708014719346, 25.748374710912696, 9.119857987631484, 5.870708888309076, 19.12632259788341, 9.325210545963554, 4.984605654480265, 12.045339108757148, 11.625854499791586, 9.233418076632288, 17.12270480909719, 5.482803750756276, 9.864278971793201, 7.496009078323556, 19.962852070512803, 7.884826268723689, 8.18664232909519, 3.896545748136519, 19.440332855635944, 14.813649230520788, 7.240349488204148, 13.718393005470045, 4.431471545728755, 7.468860840877291, 5.8051047029547425, 10.01045819520079, 7.269016725628513, 9.137066793678136, 10.08345384479678, 6.93797538073057, 7.703930289140922, 7.629809613789835, 10.059667994246102, 9.32831755678756, 9.975204885237046, 18.594282267715844, 10.88193968036029, 8.178247912102671, 11.107902971272878, 18.28660598986121, 7.027784810752383, 12.480359529044618, 15.40236161613526, 10.101386728063318, 7.8270348552595195, 17.108123860325467, 11.75674842887143, 2.793523212617662, 10.252398730616278, 11.302180262240077, 3.6098083459906194, 7.093152800001388, 9.281556372483822, 9.86917225654388, 8.738884688331652, 7.369244058326549, 17.30880087357282, 4.621482028516916, 3.0367491388508725, 6.562392871506265, 7.845565951017457, 14.949724546155672, 10.671232225967048, 12.738431075138111, 7.922125654422112, 4.062369901491903, 9.27114715708998, 11.848635709051912, 4.630886534696855, 9.715317708697354, 8.6194411882031, 8.643673482483043, 10.50592914888391, 10.03740658276387, 8.977328745964481, 11.464561155427038, 8.710878807794966, 17.32951433435424, 8.931252595415438, 4.674659395201349, 10.379690293232866, 14.013131631029607, 11.426861759602355, 14.912839915863854, 6.472754166177348, 9.97433312203542, 8.98414953210508, 10.572666861150374, 10.291970977574726, 12.696857095855073, 12.404269261118632, 5.322997232234494, 17.887541221199314, 21.967212902839698, 14.731637374736636, 7.98475115760811, 4.317256674283269, 12.143329298853011, 6.824066021624136, 3.7253911771624963, 8.986646598535579, 9.614642916631759, 11.627853249184785, 14.435337288312244, 6.784224173196278, 10.350261726269183, 20.563353844334635, 4.813611088410732, 13.629039733379674, 12.225269221500152, 6.173321031271892, 9.790966746949007, 6.133584610732858, 16.011728696579187, 9.674318232493937, 8.751379939033246, 5.146723048989611, 6.050605903419576, 6.454749546137925, 9.569224501456697, 11.38436010047748, 4.950069681582194, 9.593967252990353, 11.022399214440473, 12.646050775827714, 6.370515548158044, 11.023450845652606, 3.363432828706572, 11.449055305863208, 8.589578889612415, 9.191471311692064, 12.445442452404395, 14.033804708617211, 11.136925266183608, 11.161919745084187, 10.447068379602598, 10.593561500255097, 11.424760378162073, 13.404745181682436, 10.678132443079294, 10.899974616509628, 12.926821889297397, 3.613456363161926, 3.4064092197194062, 17.656660352734068, 6.188444015289594, 4.3562810510159355, 4.600115085574893, 5.716776250983667, 14.635769795094596, 9.211418400113995, 4.4445215546773955, 14.351729898441464, 9.925599236150358, 14.70310403883397, 10.969668509501904, 11.56008765651011, 4.44469370747389, 14.07120528732494, 21.911565276707496, 10.91058850636949, 17.01398244006378, 7.040852779414227, 17.833195049045017, 13.384109687049605, 7.580447255782312, 16.45165068138519, 11.148545131834728, 18.353182681880373, 4.214501759194297, 11.658529435303784, 7.615961417760962, 6.531648240504818, 6.86548170903696, 11.535587251145273, 11.967826538670835, 9.564897341169418, 15.495439427866007, 10.892158497120995, 8.11235558129422, 9.451338732299567, 8.803588263462537, 9.644072891265553, 4.020373182311289, 8.70323812258474, 7.585644837468116, 14.959888705145485, 7.583894547953069, 10.768370526050054, 9.190898382462121, 6.7442603520779, 7.3234408258934085, 6.423946071033524, 11.779044970922083, 4.040714113092185, 14.908747143867721, 16.35014748291235, 10.04906808995126, 15.14238599112276, 7.037506657941487, 7.260147978843823, 7.44322315006473, 5.423882176067862, 13.716754111353259, 8.14680408430614, 8.119720351497026, 11.867707647585304, 9.160860370604327, 11.111569590599725, 9.902795552782376, 3.055533918632868, 24.647262800657195, 15.541120920188394, 5.335735387346175, 9.901042155377596, 11.450855483541519, 4.367635988959701, 6.383079895011795, 15.726433763864046, 3.7194318808050517, 14.290557111918524, 26.670988911166813, 17.200294527484957, 14.483655872150452, 1.525534884051355, 10.967004292744175, 18.84477277474413, 8.48934215083231, 16.99032436609732, 8.35960329076152, 10.445407718668607, 15.245802641035574, 7.962012395197067, 3.529088469467574, 8.081733754364858, 12.188664101088566, 7.580468390696664, 8.46650069348937, 7.001557775061889, 9.529977772786824, 6.842663127975364, 12.646564857547903, 7.033174108745217, 12.174623490306518, 15.112340989443378, 8.531816450156649, 22.836599266199233, 6.09666690031138, 4.215458036472006, 9.127724253898599, 7.140624389957104, 7.227619532785124, 11.7328146360771, 6.8491583765427375, 5.9339845699853, 13.382414417120385, 7.119373741199076, 11.663055265456473, 8.997662865256824, 6.350102831766923, 11.523907869987985, 16.96201491593133, 8.184003115518749, 10.798238478656486, 7.367212230361879, 6.538722545549248, 6.136562739337144, 5.682249952600906, 7.132452103823342, 5.218692862015507, 10.161023201168767, 15.287148470297648, 14.470110011808305, 3.236738738924143, 15.842726608302563, 7.327584988240826, 7.200032217943646, 10.841277814344268, 20.413401775454485, 8.392611425278693, 11.402405016157163, 11.535393378385134, 10.498527684363696, 6.190771963932978, 13.03593408334885, 7.2111982569407544, 4.912360517435179, 12.360625884532487, 4.477211392298107, 13.165897415557355, 5.918509920588735, 6.519414139904901, 13.089846251346286, 9.281790741961206, 12.95794068195766, 11.137320487400324, 2.6339228010646147, 4.8305763812225155, 26.2001319011605, 12.836469489995162, 15.038706051074502, 4.434145990438033, 9.87573053496785, 14.211701660605296, 5.803179584819851, 11.391786655325891, 13.84539802361282, 9.977026210834916, 3.8885765503058574, 24.16974123348473, 1.5275558260614246, 8.571304822368766, 12.087982130375503, 8.388473351776517, 5.681720481924964, 13.79472057723402, 17.91697226084633, 8.149213890699523, 14.043108873390175, 8.234229490915954, 19.504684902269517, 8.554316213858, 18.35270699805496, 12.445108776968448, 8.26300361880417, 14.480278524828305, 18.97881196697243, 14.593715545702608, 14.418153566644518, 7.774477650399563, 11.015409945547763, 5.550612291693447, 5.929695472479486, 7.425750624841922, 12.571055508113798, 9.993287171625873, 12.07860431768994, 16.27153649324612, 16.649553114976836, 4.473809009159087, 12.801061007457525, 9.86903630325428, 17.88518878527009, 6.029540989073258, 5.724239375034708, 13.469794782116319, 26.280094438110748, 9.034529017449188, 9.883190911381734, 9.67858662518295, 7.099370619651145, 16.121474509054327, 8.76621021870402, 8.169128525913209, 25.157411452128517, 15.132855247562729, 13.220259251022755, 5.708121945740374, 7.078392059608531, 21.108175363331693, 14.390164146306272, 6.6891594773716365, 14.14783338823484, 9.561886499762606, 4.4851614729511615, 14.284015329899779, 5.684408342305109, 11.782111106390392, 11.551458717276702, 14.071353336127734, 11.840555814662192, 7.105871890747715, 11.144188650675106, 11.08146895026734, 12.281962057825229, 10.391023229056714, 8.974749158735133, 10.225412217774076, 4.347578475632908, 10.212718964945932, 8.804934214792944, 3.528401611325005, 8.72077975410479, 18.608985527331622, 9.547965738825177, 15.050625755686237, 2.3500464023890726, 5.128578058194896, 10.559263573360228, 3.772251335650063, 11.194250537610346, 8.834659158860855, 1.833926502581427, 7.344398088149353, 7.022179027269666, 13.087246408356844, 3.9824068398714765, 11.161319962954416, 8.074483890675248, 9.430203989810066, 12.802377280915904, 10.028510827165924, 8.44004192175927, 9.09119984697625, 10.637392835418606, 3.074894988550208, 6.404889947130585, 16.981585400421487, 19.22332016617839, 6.384315345256196, 10.636972786781461, 9.115917209098237, 5.023367325359305, 18.61734094212916, 7.692292096407997, 4.742190819780319, 10.815801750017675, 5.550295106843099, 15.652880303832248, 17.25341206253885, 10.409761128407848, 10.29205229372606, 17.195385989079128, 14.0819141983487, 14.286908290834344, 3.115248433107249, 10.053931674983382, 21.688039151493943, 7.862150546979954, 10.141384019077261, 4.312885633123941, 5.587799692607943, 4.204501044488802, 5.600040281127359, 6.024824498521155, 9.968045746244389, 7.456073799908292, 6.9663365186994906, 7.53792360348627, 6.454069852438225, 7.44485890102982, 10.942921381709404, 12.615037925095812, 11.014788136550909, 12.119809659249384, 14.42737949851223, 5.821348774094233, 13.925604471259645, 6.56638256385039, 6.8762535350917435, 8.936332396856436, 7.7346236203252685, 20.541607968938607, 6.205585393178949, 8.744026983633596, 8.24086692507916, 4.717108697011884, 6.028698385952457, 7.31701379293862, 8.449675258529055, 13.846105979522116, 3.281712506217133, 7.54504836561485, 6.639081952633706, 7.293781546677115, 8.751957176444005, 7.460805520167039, 5.945065244616612, 6.026150453029495, 22.00293959019671, 10.325811475341524, 8.588455132850191, 16.518499152633936, 4.574504285019921, 12.158359664017794, 8.696176817575667, 16.106857020496196, 13.552321577356244, 5.862664721196194, 6.7699411965276335, 9.23484404316475, 8.439706668539669, 10.227020375400391, 13.105719253034827, 7.784048833991193, 10.019637469349725, 12.99979750475386, 12.545875775275077, 7.964798300559929, 10.655229118557472, 13.031013595933652, 4.474624373893709, 11.742956221009086, 10.19992058321296, 12.95202582710713, 5.2984820822329395, 13.183670176555248, 10.461494192609791, 10.641619817692655, 7.9503149687742765, 12.23712430606535, 16.7553335940701, 12.120712802654687, 8.707239147494498, 8.888711341166845, 9.735265723383579, 6.740449230184702, 14.55968262945906, 4.494583690359274, 10.718494331697627, 2.7597660344154398, 5.90209007370177, 15.6544231030829, 12.196528272795526, 13.81649973013646, 10.42939802381459, 10.933221783498178, 11.835222391936329, 11.157504235430341, 21.74765120624527, 6.6549284178480645, 17.276753548052803, 9.867055607674214, 12.649476538863007, 10.93137295209553, 5.533154198515804, 6.042783556823019, 4.854388695247319, 5.950405034065792, 4.750034416519596, 11.255883158721094, 10.455536230854484, 8.81660493872897, 22.05620681546523, 11.613678031699802, 12.723848088491948, 10.48104305663749, 5.89084702485725, 17.098584415214344, 9.637015678262326, 6.69576915497115, 12.882838094565447, 20.712966323770413, 9.774345950292874, 4.875797548687729, 8.606699273069106, 11.049995666175654, 10.975502895889488, 7.50256648209198, 10.664982577593337, 12.922413642236965, 8.759521080931966, 12.604072692629687, 18.102401310762453, 4.571283612592191, 8.761381670280016, 8.718521598168145, 6.953852129809679, 14.144132054015003, 6.703909727039948, 5.232071103447396, 7.972173211036618, 14.790868494326137, 24.119212062265195, 12.24857316695838, 10.690530680094556, 7.657054222178028, 4.556723267112691, 6.646103174337727, 17.7233629946044, 8.89716363615958, 11.722940974512774, 12.604867806332962, 10.73696309442678, 10.232646739587041, 10.662483113300219, 14.156300262610024, 12.933080754932435, 4.89103015678989, 12.411849845088295, 11.304462439353426, 10.154479105756081, 9.268535677027044, 8.767516935768557, 10.44272624170329, 14.407713523600327, 7.752364473233953, 17.386145895108335, 8.127494516065589, 20.922299301279317, 8.38631567091609, 4.861892002650513, 10.777490192310408, 9.251588426126915, 14.382409961775007, 14.175208035361935, 6.247706203506667, 11.261113704682115, 11.107187986942737, 10.998801702782952, 9.89037181109674, 11.29821220492759, 7.0407303880107825, 5.313561931452828, 12.63363951700025, 15.801212093855742, 9.08528263820289, 10.812494377371813, 7.313443219176614, 7.478044337274681, 12.649221753788122, 8.86590194113953, 5.681698745739386, 7.3521549412865745, 4.930408133050842, 17.538219855268114, 5.726044938231302, 18.91773440088175, 5.7704409477356995, 16.363291806179102, 15.052016476466402, 16.05339108798596, 9.92168109054907, 13.672625146470017, 6.947519401485161, 11.245123571590954, 3.5743457172960245, 7.214933106324581, 11.364063963115248, 3.7611035039213974, 3.5151881497623996, 4.8585872647700326, 12.435996965227979, 6.894460482847316, 9.060760084555685, 9.278608689878457, 4.468952914399161, 23.966099590597718, 9.373036541113827, 7.40074746106951, 7.066923138204398, 15.629426402206004, 3.7869179265317823, 7.8349540103539805, 5.275458037917852, 10.19742340831824, 7.067374661550703, 5.925619331513155, 8.171502183522655, 10.611933746281547, 5.77016267570651, 6.828336213921305, 7.555245490187861, 10.378842503599518, 7.268995959028941, 8.481110829425141, 9.734784835582829, 9.523159047852616, 13.851282262366507, 10.547074560628214, 15.371258759734765, 8.474910379109348, 23.790076460075607, 19.20724778352449, 5.670447044880748, 21.179651725849503, 14.298993714509072, 10.721577609987127, 6.546172336859058, 8.832979240701743, 12.127368863456644, 10.47953981171944, 12.882842016182433, 9.173012879001929, 8.989901838587256, 7.418087525363852, 8.509006080671892, 7.4624411990337975, 7.559355522503718, 10.619207930098023, 12.112845660276108, 7.088887861472353, 11.520951582951971, 12.652464265752908, 12.729666842856563, 3.9074444078750563, 8.874215200156378, 3.7191647341573044, 11.954797495863579, 11.3827322238526, 11.33260346333592, 9.05574443214108, 12.3498927002653, 7.308758936106682, 11.011642647137442, 7.016652685322546, 12.7327304692401, 6.439790074885652, 4.925012745445096, 5.69617725341625, 9.976913373832959, 7.442991496467858, 9.997986701998139, 14.321198564169388, 13.94844592361683, 12.97293643069828, 10.406775541409, 17.40707791850489, 6.929041652361105, 12.18957373252335, 5.663593182220051, 8.002407397534645, 5.610204602609946, 9.116581949965273, 10.725878668171829, 11.643197140861384, 14.957586973198858, 10.993460713759756, 6.944903365424951, 5.92092926134689, 5.385693013036423, 14.985053102002391, 14.649240960997325, 4.096328034779645, 16.20810794045131, 7.426563610452571, 14.00943765056019, 8.694732117819708, 9.447297815218239, 14.85906251797806, 9.485759668940176, 7.507698655386177, 8.506685790841981, 2.364397051812735, 12.6319573414477, 7.463570428561882, 11.84668428976287, 5.1510478987166755, 17.83589482528113, 10.290071553665998, 14.409232279042794, 3.219496457261146, 18.764091342122, 16.22702368317638, 9.292598179017547, 15.006867614572883, 9.318729674734588, 12.967765116778441, 13.652727501910833, 8.629493260191143, 12.882652451188532, 15.977912230263637, 4.989472394018124, 15.228666428461768, 11.544959755925587, 4.486467542508733, 6.523252955125017, 16.82016061631735, 11.535796257011516, 10.6609392052743, 17.823127074334728, 10.59480972192287, 8.878390270479, 8.173699166795476, 12.060183709952703, 14.698507145923987, 10.669720762045008, 15.844375716413886, 15.591972004324369, 6.662834466926344, 12.504906419540673, 7.2892165070776915, 5.683060753315903, 20.146128943162196, 11.234084664093187, 8.172504810033843, 12.35945236019013, 10.203868996955535, 13.383593404664863, 15.232671226859646, 6.37523260831402, 28.968617333642378, 15.97224737034137, 10.187594895288155, 16.025510250350138, 12.037173775260483, 14.560632464356095, 14.307643810779338, 11.501629554177512, 10.906474863202225, 10.72806279868831, 8.678213051827932, 13.880172882896654, 8.274863869210956, 5.185524445303645, 8.868503716690725, 10.521464549300187, 9.96422961963907, 7.89374363514547, 7.246976127219784, 7.985939329288754, 13.303817789666477, 3.832258462116525, 12.754992095282594, 9.5250425507196, 7.566221382378226, 7.994504340866002, 6.81961639704949, 7.227132286579498, 11.662765336831528, 10.127265151646947, 5.215579868571779, 4.693864342010189, 7.318334800772046, 7.547124525940816, 15.65869860386644, 16.744184847799353, 16.51182140485007, 10.189704447775592, 4.915326393511817, 13.598508428789573, 6.456993638785031, 22.42189706616182, 6.381686030283242, 19.635495018355158, 8.188209048353462, 20.923106741475113, 14.587290289212193, 13.25039561556629, 9.751360686893058, 8.625672270782264, 14.698068276098235, 9.545278021489707, 4.554959707935972, 9.306841562222534, 9.37889171411509, 4.537100286444629, 11.506294565195802, 8.501931271762269, 12.681703514547424, 4.984443502915353, 4.917582513072629, 9.444538778305073, 15.656825488145078, 12.132005015115265, 5.1390212108217765, 17.49478221845122, 13.389779977627448, 17.493040627499155, 4.730675629961374, 4.580892236144741, 8.780713318680949, 18.079407126220616, 19.70232280775862, 11.890799932027491, 5.059076604682236, 5.796800814075623, 8.487573815701262, 15.453709473699915, 11.823442555462163, 6.467300161785842, 14.36047212545663, 5.151235086974484, 13.026778697742778, 16.696501705862357, 11.977356755515576, 11.016864865829053, 8.174710357658297, 7.112682283039316, 12.88629051307078, 7.19648740150007, 9.436546696850996, 14.641433295602779, 5.675922277214232, 4.937566782080771, 6.522042162498865, 3.7123608430705155, 16.068386782834622, 10.994818411189474, 5.506553356897326, 5.736936938709414, 7.3084062786576975, 8.096458794624716, 11.435984087960517, 4.965376161565248, 16.37674763388579, 8.389103208808255, 3.0900293722053656, 14.316099440904345, 9.707910364307759, 12.56606781421852, 15.993775703522005, 11.248331232000146, 2.2873270623695436, 11.989615290449734, 6.7829816419695135, 19.906282374755676, 26.566457735821995, 10.932608458893256, 9.163890242441271, 21.864572870763247, 6.64946073349017, 5.337643296348045, 6.6932393522436655, 5.859795741111693, 18.260278524214108, 4.904873469717634, 12.384684245602704, 4.717060946224289, 17.99895077269537, 7.343867310966186, 12.34447725225692, 4.389203790162909, 10.55159411332438, 5.126751058465607, 6.093326276807689, 17.043283082502786, 10.14004797929952, 10.279353631564721, 15.356722446890313, 7.259642948378563, 9.071456921487313, 6.17245770444253, 11.423844525831882, 10.143605295982447, 1.9685387118003521, 8.258242111835147, 13.085163302455916, 7.310303840354628, 5.0661341047847825, 10.696089009318358, 28.401259697930776, 7.74268897845243, 18.45000014020089, 10.914036897720507, 14.647533078840889, 10.460908602978563, 9.046945016233687, 3.3223903323652433, 11.44006642553888, 8.117357220054878, 12.488386332610014, 14.81656286215203, 10.158143900253748, 11.28915955723317, 9.17536673800737, 7.546799420768761, 8.636549487768338, 12.589800742917838, 5.726425567618932, 19.761866960988943, 5.470891056824632, 7.91466840277327, 13.646046286971606, 11.401206554269201, 15.524778167597937, 13.277115318557673, 3.2852993283526235, 11.6652676625195, 14.357584829687307, 10.40794427617335, 13.59045781842204, 12.729628406646457, 7.825951240209961, 13.332132631703473, 11.91969905304752, 11.431969247950551, 4.976532942785848, 8.038600448057515, 8.812695858105636, 10.588483130297194, 6.5397356596321305, 14.084244381349226, 5.1598787742837455, 15.43822681776701, 12.71735073313959, 4.900572525758429, 7.887448654668573, 7.6321609656967615, 6.9855249764843075, 19.218754754641626, 12.735912617583589, 6.836638221953152, 8.613513721994698, 14.977425849466432, 5.897708522189814, 4.076024346764032, 14.724562163512294, 8.073553496759738, 12.297803151933703, 9.39591682687711, 2.1724007030089028, 9.185218145604335, 8.111465216364033, 2.8109454467913744, 10.46649541156986, 9.296702992161105, 15.249449545313235, 9.816881395503733, 1.8973077684984792, 13.093648341974442, 4.91481652619881, 17.607112205334992, 6.037591444703937, 12.339093579911548, 5.574960021049614, 10.296801744788564, 5.624015594330493, 16.476215450645583, 3.7639392170115062, 18.54008670437671, 20.340947926293648, 20.439716653544636, 11.2826972867599, 3.1923641463967525, 10.62106095842693, 10.487681487145647, 6.416708173094481, 10.933876797686548, 8.760709644370332, 27.796784110498066, 5.615101286975462, 8.472150318239922, 3.9799106808968356, 8.177439055149875, 10.512809221951665, 10.163223036935317, 7.6268780256373745, 5.414683244079652, 14.458302037128826, 17.038603125734287, 15.589013081753214, 2.6406243368491706, 9.337198271521915, 20.25427393311946, 6.743267649886728, 16.86935395045978, 12.952208716096342, 10.895705900927595, 15.38979547691664, 9.488947496143775, 11.478022380827454, 3.697697402037879, 9.42206560350925, 10.258627318314026, 10.43928075559349, 6.61412494251077, 16.598432698431083, 6.723817457448842, 7.371943550131949, 15.071155958075135, 12.122072086133581, 8.43694992044302, 5.801207983896727, 8.102926616546657, 11.82979842952368, 10.901308513239881, 10.525275090596507, 12.752422471743346, 11.318991394689547, 8.323946793934638, 4.695508295110537, 13.470234679428167, 7.236161068307216, 11.462463601527421, 9.964509059445309, 11.834523147536556, 13.512184376360384, 5.945101165737186, 11.046170335079143, 7.681073157952498, 16.683533054370173, 20.334707932143584, 13.844456915484612, 6.07649013213633, 16.0796706236551, 13.585234959345616, 16.69188012532698, 8.52139711285989, 8.578982272649384, 10.357293211370763, 11.44150117805052, 4.217035530804916, 13.97537745231499, 4.004189740450498, 21.83666717851817, 14.284334612264926, 3.5562126729922445, 9.081405608385417, 7.688287641055807, 7.568508662789598, 7.2313984277482835, 6.235832377898613, 7.9233950621392495, 6.697553987785192, 3.7679132344052144, 5.611722607896848, 15.406684494850419, 7.353091945447385, 9.326935113116576, 9.935049611555876, 6.464672461190455, 9.229639385060379, 12.29753539717812, 8.533976108270755, 7.897649630825145, 18.75336742712919, 17.626003948967927, 6.4610923094295645, 10.977873400188553, 9.829363196903243, 5.669479224463809, 4.3934350096153905, 5.639521484178745, 5.667181002032566, 7.530612557099388, 5.330938536529524, 7.724039419411138, 11.05800552271316, 16.583783055560016, 20.870609182564607, 12.965128664613648, 13.271752916150291, 13.159963345873471, 8.60034517055361, 9.730506713221926, 19.933693894157052, 6.248571764878736, 6.421909013172363, 4.8922267529492505, 6.6478797712030575, 7.761669068698311, 10.396463247654808, 15.781765289562397, 10.576929418343134, 10.013631698038177, 16.922794794909443, 7.749115027026172, 8.73597373554865, 9.28970312866443, 4.342635245181846, 13.109216903704734, 24.004677472665584, 19.394234868325512, 18.76327683943998, 4.988882549287834, 8.341728208330883, 14.006600559728044, 17.84354548667293, 12.238406760515526, 3.0259345882478472, 6.068588623469595, 3.665796776623232, 8.017566305143797, 6.31300582029688, 4.570145639167029, 18.728142404935657, 4.40427996844413, 4.652437601568525, 3.20824765789006, 6.984334970310571, 20.952837999317254, 6.209993715940207, 6.119935697950703, 3.097430279741822, 4.9438640313926605, 8.460761944110414, 6.931450312327863, 6.271395467901599, 15.62552097645535, 12.516392203328113, 7.949467248972084, 9.154248362437475, 12.007575609756929, 4.265729889904911, 17.22213835270048, 7.812845049131334, 3.7937207985841663, 9.306994544577602, 12.119088131025116, 11.344317718599875, 19.79966303134151, 8.823338553145378, 12.61617539091194, 6.5701355210970105, 6.827358874683819, 9.738702508959125, 8.211449865879125, 9.153971802323879, 10.415080954464113, 10.960294554869353, 8.266280459432677, 12.448926973529266, 18.5299691345988, 11.669310306551191, 5.0288976730400865, 10.440141996149471, 11.880371070931561, 16.282788747912917, 8.223842046764752, 9.449821970555007, 9.034542725800438, 11.570465380929903, 18.6589019801172, 5.8485466212318435, 5.664096399296423, 3.290843575000822, 11.467173892777856, 9.245668977142998, 16.0424492782932, 5.682964769905643, 9.098236648716703, 6.318554813552803, 4.073351932863759, 4.058485405856235, 7.279118017700864, 5.858467314249694, 4.255298959865854, 6.226422749558482, 4.3463271764757065, 10.848597411927402, 15.137402931227921, 4.940096167920415, 10.57605234484878, 7.546297148740732, 5.410020301225414, 16.57775400314107, 18.299925062126118, 2.545065157463522, 6.454381973763361, 23.881578161617185, 2.9685448783196433, 14.842337874447553, 3.9329498114878327, 3.3716735978620167, 4.238521507356111, 10.056357072678194, 7.010528221212707, 18.085149920620438, 5.38820275540401, 7.4317329261301195, 9.637067477825463, 16.9517436659937, 12.835754794562845, 4.2499734448300615, 3.3642842038603096, 8.149908415879072, 14.373045201082997, 17.732497148761972, 8.135010550414044, 8.200702539403014, 24.499032246962674, 8.990525952587303, 11.342904223268789, 20.397749915541734, 10.41999276802234, 14.78686951353099, 8.831292647634665, 7.91755606238262, 7.815524122428091, 10.927928623004753, 6.640619871479242, 10.20121393063155, 11.175759158965043, 12.221587536655925, 6.750471383242943, 10.279452214710016, 10.800376015147638, 21.00370041444095, 14.290527387858203, 6.397186112140286, 4.105390792108703, 4.247706271881975, 12.83188519399978, 7.06854914146475, 9.659925135969067, 12.053032369839594, 18.28392478703774, 13.919639457270634, 5.476943049624648, 10.244098141833728, 2.418027553144309, 5.499803753512832, 4.557084707229094, 9.709912587373541, 20.02990303702481, 3.3120741715996065, 8.918681004711688, 6.121483494488852, 11.152118366322583, 13.989492130006704, 7.920449949558161, 3.9253528466436083, 6.757324717550956, 7.131361785197477, 9.243614318825882, 15.386130713179812, 6.0319306419060865, 8.404605616467652, 12.600855467401422, 6.895813812931541, 5.467309035715643, 5.307289560409901, 7.546604610297046, 9.694210118897917, 9.604954721848461, 12.097984744121943, 7.974924839793785, 7.095944635843408, 12.695471270739965, 7.911819553392577, 8.388601883781623, 9.305472299100108, 9.659457210593825, 19.04399509710965, 11.175045510416094, 5.234775161494032, 6.704145632844626, 11.026075136551189, 6.729260085698106, 8.330485280934399, 12.520800398823322, 6.409534218873784, 7.8554727436866685, 12.738732028642696, 15.8434591482657, 16.497600331035677, 9.563998886617336, 7.912556093158656, 11.403316625834968, 5.763953937296898, 6.2797021924377825, 17.387602522769082, 14.362292991298741, 6.574838343112771, 10.298782853308161, 7.829113586190248, 3.6364478251663797, 10.58306447312061, 9.769365521654137, 13.503504513415102, 9.630859453987389, 12.402713882413426, 4.985261154208132, 5.006341924382536, 4.394495078390237, 4.069174134176082, 4.3337017698121345, 9.831262957616946, 7.64648497481825, 4.737704721463566, 16.461465593160245, 14.003436901278196, 11.885184850897886, 3.8282500362252345, 8.857519289254023, 9.11183795598782, 11.912420065043541, 5.923616752244435, 11.55194452414074, 3.8404525738916657, 10.139944840408884, 14.98897914580324, 8.072357343967187, 12.120524366067665, 21.264070112101468, 10.817774170545764, 21.196928289153263, 8.801675847269443, 11.153089335865602, 10.412343810659554, 16.911280646818465, 21.809023183152075, 12.604183132599324, 4.132764213990688, 12.773021138171021, 19.352484664320887, 3.0727642583772474, 8.762113618304994, 5.556163814012776, 13.792639082232979, 9.964522562959589, 16.774318102424605, 4.562010744356509, 9.186264307910678, 7.766994035266842, 2.9487560324987743, 12.598984555481955, 9.083937259261992, 6.225389832065851, 7.012237764749935, 8.184419334038157, 3.0968616263375734, 8.868828891921169, 10.242063577208453, 5.592990297228747, 10.843050969889399, 11.22188947837304, 4.4175903596237225, 6.688181485112524, 4.90379203818085, 7.354863976036958, 12.126387593843075, 8.910188777417222, 9.912363997971815, 8.22181659032667, 9.091139883835886, 5.356234254522532, 10.919272378961601, 13.319887067092852, 11.209119320406382, 10.629123322806521, 6.415590168217352, 11.63685542592124, 10.364947276923365, 7.723044791527669, 10.131436165791072, 21.093784472258, 5.743417584289568, 8.684147039792714, 6.390892446554745, 7.532150947114744, 9.18620890936014, 4.264097605550102, 10.827648201009747, 9.799401482492199, 14.811672582636865, 7.610944713694048, 7.232353043732223, 12.531963598362601, 2.923920110960896, 7.252879880238536, 10.835153898500351, 25.046890450157704, 12.134189676038291, 10.510888048054259, 10.48324195427278, 7.668457680871703, 10.46194624583756, 4.18026090920193, 9.528971571990127, 5.190940341495083, 10.672188430296975, 2.7151615174603476, 8.971600538784774, 5.392318657741065, 6.4759058452467135, 3.450051127191917, 8.019729344121815, 9.673213477295484, 10.735203231156357, 9.861043849218808, 6.8023861488816415, 4.266063779759358, 6.3409348305519995, 6.705282938158665, 7.46515256144193, 16.377823150047057, 12.609821157650599, 9.116758396622767, 6.216292048952421, 6.364443090730429, 6.995621625084866, 12.577138512161127, 10.1349016519726, 10.91328928726839, 2.7690963864118667, 7.860560504436149, 8.991334658421781, 4.50497425940886, 10.119351619385627, 7.208234117513672, 15.296323312197055, 13.04853553340183, 4.993952151545234, 10.693457914348343, 6.373771424399849, 13.542814182947746, 7.340396142297977, 7.997918423842939, 8.865686224795887, 7.361278098749187, 13.403881910386517, 5.188392754093648, 10.723087155882324, 9.696113503247119, 11.851062404136421, 7.755880228034352, 5.8977722113287445, 6.237603206314491, 15.676747012290264, 6.986472083962349, 11.371325417553305, 6.199815114461475, 12.190676893569888, 14.319935345276587, 13.213590413017492, 9.32927502560419, 6.722832108696677, 9.923077918522054, 13.64645999855635, 7.809351331612564, 4.860322179478053, 10.47491568636804, 12.588562682606412, 10.677382548519944, 11.679718861169187, 7.147365056144677, 13.810619949656495, 5.741459008227896, 4.949248758733204, 9.768800902728275, 18.087422547747178, 13.702568543993264, 6.655741608195208, 10.865410337158401, 19.201874635164497, 10.351868662442048, 10.088049274198875, 14.253369280146782, 3.0265152146687444, 7.178750246418642, 13.779185978545684, 10.770840651880631, 4.745957029627621, 5.141719802191628, 5.29315771026946, 16.69851707545545, 4.153198259156687, 9.79481824643426, 9.871018208652083, 18.465049327320887, 8.012908311834156, 23.203656711219267, 8.76548829014117, 9.641662111584925, 17.99518320408137, 9.510242278787763, 7.314693421181173, 8.458190806468313, 8.21677472669272, 10.624136490955824, 5.195041862894023, 16.37762537204153, 11.41297634781272, 2.8611715882603477, 4.902925548700219, 8.864232297669293, 10.730998021517992, 7.827845607972783, 2.8462480285060914, 9.52646546580106, 11.065542788189848, 8.476664162602066, 9.801721670392444, 9.70981427197974, 8.85805591210697, 7.8344703499876704, 6.111245536549024, 4.4144885904993565, 7.629042025076945, 7.751754654478546, 8.846778369707726, 8.550677860066159, 7.90503018365321, 10.854377963950064, 14.10479393203328, 8.814879784787855, 4.062869986634908, 10.172126093314002, 5.943314142560863, 4.566868163370158, 18.232424061074706, 8.17062951766343, 7.77544826588352, 15.301740131444411, 14.665967932571705, 14.630078015680311, 13.148596213639063, 2.5862269719646256, 7.307519913478562, 7.431197368533187, 15.557653667764104, 4.094419928008982, 8.384014178631709, 7.813720379638014, 14.657979964764891, 21.85411512014159, 8.213766172736378, 5.883090457354049, 24.04962970643281, 13.964597208296949, 8.213919605776688, 13.239762554658789, 12.72103766202929, 4.709253421908382, 8.656260655033005, 11.735965771602558, 8.60971913362746, 17.437159116160068, 19.064852462680975, 6.521650131234287, 7.871247092845803, 8.639954900059049, 5.666140579362309, 6.814078087281936, 7.279157445728611, 15.618778964511662, 15.429421960898084, 20.75610631554007, 9.07583798364212, 21.68995546565066, 6.184948137912878, 12.940273321308599, 8.990406378696488, 11.86876227518583, 3.384630673669325, 6.42205326157874, 3.802381453437382, 9.152771164051039, 10.604728455074808, 6.302648991736979, 21.179117933374307, 10.130723359518532, 14.490231938691249, 8.35224507781499, 7.502152504276101, 18.83388640795478, 13.61492903552287, 9.946280771123265, 12.208649809476949, 8.532115134897472, 8.350159451970693, 5.3509039292407925, 5.438645254242035, 12.214965752657621, 7.015474523475035, 7.9683057514772155, 7.375690240727143, 20.93678400629609, 14.164942272953079, 6.976627312841305, 19.40924831051242, 25.292119016929, 10.136050293945058, 22.350669819477627, 9.504254439740697, 9.220395769385386, 9.947017419324121, 12.685347904363896, 7.512489991473167, 10.760052036082234, 7.355535504566311, 12.031419195899648, 10.111353306548159, 7.172566110646292, 8.263032758442039, 6.137530422102793, 13.829732952688218, 5.781199022065126, 10.90616519829169, 6.086052436119883, 7.817052817178343, 19.903950365609894, 6.34034183913788, 11.322255104240734, 9.918985772862428, 15.503602997922195, 8.946502131323147, 20.099405109567957, 7.551946225455721, 21.377737838014255, 6.639180491478495, 7.80127855897093, 9.103903057307766, 11.205618403457828, 5.528033699956735, 7.953917558054071, 13.050130394459382, 6.456194196344086, 6.668559700276874, 5.772821144566522, 9.027089359225297, 11.042519405154845, 6.941197253614817, 10.86867813804228, 6.891432431120982, 8.112984068603023, 8.675331258312145, 7.22655586303066, 10.024489650601673, 7.094833881421774, 8.799185201074016, 10.382768547688533, 7.2163873823662215, 17.7493907527447, 11.258861910040716, 6.551460507711096, 11.087450262871817, 5.82383857478031, 9.937370030349975, 4.226650947491322, 11.513171117395993, 3.5481151033338714, 11.762777419326532, 4.346358236380728, 10.675480833497872, 8.114882678105904, 8.436371722195119, 8.412701028833697, 9.219377755939718, 10.607376012607912, 10.349449345698936, 5.085438804461911, 17.358109639341453, 7.872014538862679, 11.273433458068418, 15.909251271419256, 5.843368273683435, 24.7343498135352, 8.754954444481097, 17.091642305841663, 7.300481770547325, 13.27840633961529, 2.2475233100917835, 4.452028614808313, 10.17899627112205, 8.51520317473528, 8.21948733609787, 19.218980485672105, 4.960978289646002, 2.9499873692354934, 7.758168079863819, 8.038624707745711, 6.7774544524787625, 13.50337730190175, 7.883661302426161, 11.015290220241564, 11.697523654005616, 10.436251373600847, 8.002507789303074, 9.132606604011725, 8.002537577756282, 4.852341318965465, 16.402702115962203, 9.184603999434701, 8.949597366364074, 15.042759140268517, 11.885661556945356, 4.899938417924788, 9.955750986439845, 15.793556311296074, 7.339355711947859, 5.504832494907092, 9.991687565515694, 7.188167895384899, 7.066135730547949, 16.016590181022444, 7.772446004501154, 2.4269987141994456, 3.619367858521577, 10.580349909983756, 4.637759517622938, 13.423465331068767, 8.306206277222875, 5.288766713098034, 10.641531454590945, 5.911985194694352, 17.688823984213073, 8.712346862224774, 14.101577912306354, 9.824901250059021, 11.7195271660229, 12.414942189680641, 8.05191852662959, 10.363982600148077, 17.27231337405818, 5.267435618525363, 11.732594774725174, 7.439216986087665, 7.95047088861396, 9.623383718274123, 14.250211586667985, 17.19517144442218, 7.754283934747671, 12.26804158560756, 5.569828253517911, 4.939348277685587, 4.486096339273004, 7.8563699688778925, 10.415474777989834, 9.38559612980613, 11.052238041240741, 6.742839999312959, 6.080529637749342, 13.5148152076127, 6.189355946307754, 25.777891963837433, 13.530460075242553, 15.54574771475644, 10.798142672854517, 5.33386237314674, 12.411832018073675, 5.222276034551526, 28.760200588909882, 5.171592949494357, 8.60313281928033, 11.629385266439524, 6.80242002778526, 3.9294420304839828, 11.48461122967935, 9.415838687662319, 14.264651986222761, 9.064687348033257, 7.545802931348914, 8.803180539398241, 8.35224057705809, 7.364658683875913, 3.9493289868779398, 19.41798973731181, 9.169030072250557, 10.327780420420861, 14.071086157140712, 11.836972737600707, 4.526636132456023, 12.939785994109165, 17.935641592180986, 5.151492459301693, 16.646104842689994, 5.131963912487634, 4.663597813286609, 11.55367964645729, 10.693037938965919, 7.998365501356471, 9.70632903328575, 2.9611260088886757, 5.548552073622231, 13.800021814063747, 7.557685576612554, 5.636415356108919, 7.115002160743284, 11.261869026618264, 3.952866847921173, 7.141957004442903, 8.32169180250437, 11.367768210713752, 11.164413702486545, 17.691006756870163, 8.693879234726136, 6.531557880755455, 13.355447058836736, 7.62780713265686, 14.569501785782643, 2.9913856142191824, 8.352529880880484, 12.099603362583927, 3.5544416671512793, 8.747412484607752, 7.863619578435086, 20.42526988130956, 5.081982925841394, 8.720794486454173, 11.21670010514149, 10.920470893439992, 8.563224095257619, 8.36107745974088, 3.568501523465912, 9.372822422549918, 12.453007096564434, 6.085758041092506, 19.462086378828133, 7.893344744572973, 4.52505103127716, 20.072099140748914, 5.839650883440569, 3.2000042693121893, 7.326243216472544, 10.608141599407995, 24.997643923270566, 7.2361613782790215, 9.665493369276366, 4.133149819194612, 10.103523156790478, 9.722675207129853, 12.960757325487902, 19.033791831683626, 6.936878270167126, 4.801904192879894, 3.86702354520406, 8.002706305671019, 10.730780839109029, 3.774709655183369, 5.265681044072515, 15.694212854488752, 9.715140745605243, 9.728533127301533, 10.030317394779264, 19.296277423974388, 7.346318333222351, 11.814008528027507, 16.30812488200083, 12.511774320975675, 6.920232558998008, 6.875846664476415, 11.353055924681861, 7.39671516821474, 2.784975598108523, 12.074582157573785, 16.45546469233886, 6.045725493275829, 6.79224458951708, 2.51108481696703, 10.136587866525826, 9.481285386652882, 15.118201235381335, 9.426099652212036, 13.596722502738155, 5.454059752118347, 6.379282954922718, 4.888965020091419, 8.508576008640423, 21.91039832513913, 7.4738771055722735, 9.711480730613731, 8.348079839184622, 8.962427153207194, 13.98531424569274, 9.606425112931914, 6.1368548257405475, 4.653391116331044, 11.320615892888114, 6.279319318921565, 9.196233869700498, 3.6458140535839942, 9.94427558077611, 15.74506953354446, 4.446967275348131, 8.487412850642398, 24.96763303184115, 12.183438424028896, 6.0772717012841095, 8.366737602667728, 5.538963823906477, 7.73698571695404, 10.131618274877455, 6.487736994752823, 8.734176975421937, 8.094085135614646, 8.582573182744667, 15.55734061623916, 5.5797035015029905, 8.6769414479537, 12.174494548965992, 27.59356682667068, 5.771531244779654, 16.14198204357191, 5.539570718957767, 12.909881520556585, 8.689720277751395, 4.966312180276846, 15.67385122421516, 5.70765808678558, 3.3265388700569285, 15.133936599907905, 7.409346599593713, 7.207493415718832, 13.950216260303772, 6.265483012573592, 12.922791287398955, 5.813130502939528, 5.492951329176097, 8.01700549673878, 5.4299616122367675, 5.3836644827857985, 4.721716211125281, 11.980987064667092, 17.567385686474775, 7.738928934618267, 10.637920231351028, 6.339812223907796, 10.684080381490775, 5.449412864777609, 10.046898406496542, 3.7224079032408532, 8.453063219931424, 12.422728538953367, 9.864834407231871, 11.418244419385756, 9.49457417604771, 8.833437672640386, 2.7268149809626334, 7.045567322861913, 9.423553807313501, 2.4740306576076616, 3.984706732797718, 16.976137756129024, 4.589448101586703, 4.140529307873613, 21.425679450754327, 12.336374980719295, 15.129698994550965, 8.536099323369921, 10.093607506562135, 6.746283212711768, 7.66175800086158, 17.32170772980715, 13.214770577010045, 10.872710019418182, 22.511572489714254, 6.017942398515458, 14.108826456257358, 8.303135767187891, 2.8008156453140494, 13.85929200645299, 14.068932152991593, 8.61709587266849, 7.951559791207902, 11.006190631966835, 7.04076257165395, 6.739338182327452, 5.354474792122607, 7.905764447377537, 1.5848482842360287, 10.929837781570535, 6.873718364808611, 11.343041114786768, 14.118899599399612, 4.675011351787267, 3.401547185878666, 12.866085836129182, 14.964965446521733, 10.836683121567548, 7.917957374958698, 16.04497031424541, 12.958167305794442, 10.598328650403927, 1.7361602434520242, 11.470845451068971, 9.735250513336101, 13.491106980179703, 8.874395434673204, 9.813795410406067, 8.480639218109488, 10.511043655984501, 12.716605662769291, 15.132046613160584, 11.656952376905952, 8.643181486174091, 7.819593280289085, 25.494967033108924, 5.983549162895417, 7.444047617485108, 10.51409050217036, 9.780560319601713, 7.851999930841327, 10.63621849154543, 10.749557122466245, 9.117290612605716, 5.485594782680436, 9.373693437143753, 8.113535017098425, 8.116104301049273, 15.452809417876281, 6.41652593540749, 10.508422572793204, 11.727138641901705, 4.721561901715634, 10.706031734504812, 3.563015023169921, 11.047966970634661, 15.269392696351554, 4.689824127433636, 6.4661711527420165, 6.127004182513779, 10.927453897363165, 12.448955230871977, 12.161131914710339, 10.082192447907156, 4.936474772128861, 11.715168697445957, 23.52660209541474, 6.487706365548201, 11.273277993126586, 14.059976370390242, 8.415612943015168, 8.392322495606898, 5.9726107866232185, 7.269568259118029, 11.128186309761789, 9.48423955337798, 1.7650523754183276, 29.902754638460337, 8.38149479333121, 15.987375255589447, 10.040729225895529, 14.789141312558613, 9.652597507668427, 11.058452202386379, 8.65454157073641, 7.855580384685018, 7.174783361818571, 12.021418958836545, 8.166673905285203, 11.377813910647491, 3.908635216346822, 2.9805139384334813, 11.072157392885646, 22.0256267987536, 17.24462239739585, 4.132227089080365, 10.365612705246656, 8.082324950276808, 16.675884204816207, 7.533162503693859, 9.730826890233818, 16.013089668030865, 12.279849557984488, 6.8932732431653605, 24.922165542591998, 5.742437371702978, 8.718392727688224, 5.384411718861349, 5.52963974517225, 12.192783136524618, 10.156481214025057, 8.888383685867781, 7.752155493237417, 8.66975404765337, 7.002689547297564, 5.7675893736390975, 10.489369425208785, 7.212402307093003, 7.595317185779053, 9.02794485051458, 7.558483875758334, 9.997248723624407, 5.525251309254389, 11.100241333172491, 11.140160784417215, 10.76478170012027, 6.59620482767728, 6.084669789703635, 7.566745785924763, 2.0239410789826926, 8.812848932588071, 13.757118876264123, 7.3812747743631455, 12.668098226223218, 2.6208298656373508, 12.776049890197159, 5.674111064876763, 7.399899411695552, 10.521408525953348, 13.143315791176748, 5.54429708886668, 8.394230205568899, 9.421308898357468, 6.860128127825075, 13.805224417769127, 17.390923812132655, 7.349834735186037, 3.1156178047263117, 10.290777405533973, 9.583340421030792, 6.297283360380008, 17.576777686169454, 3.49261372966594, 15.12069340418422, 13.808742308596608, 7.308683703079021, 15.420875650787913, 4.984745047185005, 2.518105490721584, 8.309465755648972, 20.5187029944801, 5.63097205759294, 8.120199724947227, 7.240665927833905, 9.306258326218835, 24.08560421949972, 11.586091131761222, 8.060795662496238, 13.83744300875706, 10.858802885743568, 16.56535230645895, 12.37530933985468, 7.675206005881226, 13.994662089200201, 5.784277561428583, 8.486712443118687, 9.262593496151474, 10.601652054312124, 10.551279823874914, 17.665269790749612, 10.61762772147252, 6.624643964460679, 5.104149371532077, 13.015053558945658, 10.003843898790798, 14.701095759730581, 6.410487498222754, 8.431246202461912, 5.031485381056294, 10.620616854923368, 6.379584030173216, 5.022610658872313, 8.091085931367186, 12.849760186591904, 12.472644399441261, 8.023862213684074, 20.33649768269712, 9.099022419099471, 12.774325525687232, 13.02540636871705, 20.471563281360012, 10.314836966329867, 7.574966048267464, 10.619904447161431, 11.490566280849523, 11.023808491594146, 8.786151520643191, 2.9107443175121017, 6.7250811564123625, 12.679922673830793, 8.744718952853068, 6.874543110027494, 14.587028660969303, 5.007512809045668, 10.716616477729971, 4.269140736465077, 10.813319396644514, 17.403794498779728, 6.980858918125051, 3.979345483283554, 4.230047230537017, 13.546140740186855, 7.985763625039138, 16.786845373656366, 7.849010666506804, 8.068457217459795, 6.034306808118037, 6.298989067280534, 10.990638492353675, 13.169926999663309, 16.67571554649482, 10.375360511177105, 13.269896624362538, 11.114895422914813, 5.574308693475153, 13.049921563345563, 9.407435891800393, 5.2604415006363485, 4.325127483245493, 5.521730452015918, 13.291273231202322, 22.0798059500522, 5.121049973776502, 9.7171686046137, 2.860384591061735, 15.42428625897288, 7.258757663119882, 12.37825122170912, 18.326413589969803, 18.62458254072213, 18.026247001546352, 6.78399033801119, 9.358830072372646, 13.091647757281132, 10.676967966938339, 11.405104286648717, 15.023492015054883, 10.12719794172947, 12.863357142367072, 9.71615215378257, 2.4666888684764277, 10.211039732080085, 3.8653873605521643, 13.612241544628457, 15.200559537682723, 8.049069930071866, 8.777563628552205, 13.039533062170918, 6.460316678201857, 16.657211792993543, 8.962090177656183, 21.60072853388255, 7.353720563780258, 8.315519814597256, 12.68659097157165, 9.80628157700111, 11.237122618541012, 6.565010821953717, 11.569747358104987, 10.919023271364335, 3.81425604483682, 6.844497421116864, 6.570958603975438, 6.584990724891236, 11.800277190128762, 20.566796566744355, 9.157753013123838, 10.809973214774839, 11.444350315533384, 12.478775753054109, 18.013944893402805, 10.936618897378413, 9.041040681888852, 7.367849034252813, 11.17999192068001, 7.17325219154478, 11.92431124309935, 5.767970756615286, 9.522998974307923, 14.044552078596233, 3.490842465280706, 19.444118373677373, 9.209090986844298, 9.440276045763168, 5.8992784160742024, 8.897896045819195, 16.42666583899482, 5.916855903951656, 8.789012197255692, 11.181417079009604, 7.127474245963076, 11.23007048071811, 10.02164597211798, 16.770415031520173, 9.297101486163438, 8.229501376250015, 5.226093064068143, 4.1092459599592335, 8.22356213915005, 12.093392466890162, 11.773878783690957, 8.902692746657792, 10.465676860057078, 16.769630603418648, 8.225660900969006, 4.891466241327824, 5.1851562379974485, 21.75071325088901, 7.556129065503166, 6.2646353198849845, 10.84542545198987, 11.494668633300238, 9.748102503214833, 9.976979386538819, 8.943607195755984, 8.986981564682864, 7.538579937020784, 4.729435912689166, 7.527496268958978, 4.899532009998044, 17.092535176550367, 11.464954608113809, 10.220622654363256, 8.809413582402062, 10.977178564424078, 10.051598020244548, 11.33679836620657, 7.645018856221519, 7.03487044575952, 13.119256683575191, 6.404791479304231, 6.232109247036401, 7.19301764931813, 3.4804045167834707, 9.020636061939486, 9.04668389703514, 7.099319555657735, 13.833591543514988, 10.630871263531866, 8.181461056000995, 9.575520751147605, 10.2347742301807, 9.155896089178347, 17.48326905924, 9.37647584979127, 17.587512704633134, 11.076133303787548, 7.6739684834744635, 6.186567912610676, 21.00635014655617, 18.70549501711513, 7.3215056714888185, 3.1869889364025954, 9.969412094321621, 5.26833577013457, 9.625123220334126, 14.529420468103604, 4.860304089669666, 14.577720448484202, 11.969527065257445, 7.027764286058458, 11.674914811027667, 8.092362440287916, 8.001731263815005, 12.695800349799041, 13.898027914526656, 13.189437839655694, 12.862274166742544, 13.037470109356095, 13.625051565242014, 25.64009403578259, 7.436597554062148, 6.920366651477128, 7.999148535748451, 7.744439307685584, 14.308615671752115, 6.84724326499438, 5.590695570705027, 7.440719408880771, 13.277608655323242, 10.846863910062439, 24.498384501699856, 11.678858408511411, 11.10692184046493, 8.625886685120703, 14.908944408129898, 12.89037229114348, 5.022196669190978, 11.860039288877033, 11.558487561788652, 16.27207412707776, 10.960501138753793, 6.2380255810794045, 9.414620523466716, 9.801431009606981, 11.59097957935827, 9.557687423872501, 7.508791789803763, 16.09281842290183, 4.478145169478988, 5.73115941895078, 17.966978817067442, 15.038687181698382, 5.738852942998689, 17.936897835947015, 11.793787749860444, 6.420282221617805, 9.195974227135618, 17.51399888324017, 13.662423513978517, 6.629241935336598, 7.942700929984225, 5.475193510179943, 15.20708440572603, 6.7144874841499735, 8.104411895412138, 4.240649238351936, 5.717853450793544, 3.95704870461724, 8.326994653673783, 7.857781993752495, 9.314742479664325, 7.022062268280826, 5.967505434923305, 15.860546552181123, 7.237851485181233, 3.951259499920959, 3.2855160170531197, 9.716733689351345, 13.37350348615217, 8.182045321718405, 9.174578026107552, 16.660381329151367, 14.86206724383691, 20.56443857081475, 16.670351071996862, 4.689729711544669, 14.659618325757261, 9.730589713560331, 33.6646482122458, 10.320202858050058, 10.135056930214379, 15.670623083822164, 4.933467911421334, 14.43696788293916, 6.402924878451392, 12.635547650651015, 8.740795601670582, 24.51652813972815, 7.57056200020244, 8.516453370782008, 17.220865231802104, 18.637446426564452, 6.1764121416800535, 11.89341758951556, 5.075436195531504, 6.180034754502182, 7.049754007053227, 7.995603053398334, 12.54832500151341, 18.337199892934095, 7.008362744637495, 6.2655452146190855, 8.334921986421902, 9.952294090392876, 9.451501234509253, 10.88892809316651, 7.613831688244673, 19.4240398845728, 3.2523819242227656, 9.655991520191499, 8.524088617010511, 6.781010345431928, 6.390456801353156, 6.464864314677203, 6.450804692130046, 18.562321926111455, 6.357243412051215, 8.992610878072275, 7.196610675084456, 9.10294006171141, 7.223776180805417, 6.516970684756607, 7.216043599984785, 9.992314071127113, 8.252638122169518, 7.073750259147644, 17.515873918107243, 9.926527464745392, 13.028991899812132, 12.408470412833696, 22.333684883350877, 8.044830814323403, 11.936887588615292, 11.422071731022063, 4.990122523845408, 11.548067873838242, 4.766483207482014, 10.612418748429977, 4.954863204285951, 18.81829428710902, 18.99937430211631, 10.411670731065122, 7.15045094423645, 4.436057354200074, 4.890352240390436, 6.298602238746813, 9.153597627019192, 15.132188616925347, 7.83098863019504, 27.088465443005735, 10.212869086818618, 4.373635226062687, 6.236818857377269, 9.415211728763612, 8.008859938964953, 6.152219408122095, 10.124051851258796, 6.212685465637359, 8.691225719166805, 6.654374566137419, 3.2402135202421665, 9.484349474047407, 5.821294336255404, 8.52157259768259, 4.391442370903117, 6.163723436306846, 12.34608181603484, 10.940257272173406, 5.456572504938051, 12.407522385321677, 10.990861792302354, 4.998408168794258, 14.180814882401764, 11.08874822405401, 15.7699521693702, 6.874871666723276, 4.560436016783984, 8.740111427002093, 15.820333030553, 11.609175841842765, 10.396489357101244, 6.723820012047091, 13.896100744256465, 17.3580838204724, 8.369535877786092, 4.663361211571971, 22.594197768182717, 13.027135569627978, 13.578292984884246, 7.589263129073208, 11.982789746271608, 11.708025905308183, 10.266231054350012, 16.641423478842054, 11.656336576822472, 11.558120413661069, 8.392443793067018, 3.742529191101541, 27.853551352456083, 16.69469833107388, 12.31860933808646, 8.256725545155552, 9.644188167268249, 11.997407965313553, 8.81316324981422, 9.823556397475723, 10.087500965004127, 9.809588212523051, 12.662465008289722, 5.651346724150377, 6.484801770093396, 5.4810831606557375, 4.5268456701258355, 9.202381176548553, 12.191589241093665, 5.343306014033745, 7.684179511073758, 6.276397304358264, 10.16321373057573, 12.29346301966448, 17.15083605805306, 16.559810298672133, 8.742466949962196, 5.375997970131567, 7.982732232903682, 5.951777480487878, 1.8718450288293347, 7.776036054506101, 6.711746858127033, 10.712851647918127, 13.512171542063092, 8.337715308870786, 4.544891139684661, 5.550028525931958, 4.460437185100057, 10.462712287848278, 9.73193622744611, 10.12617528631766, 10.88883635328726, 9.358366401707443, 4.5732092169463865, 12.160966724357099, 4.757141935874702, 16.22815444383481, 14.610067732784184, 18.50162476185745, 10.507846938153547, 6.1686659936518415, 16.761345986021013, 6.5477437894388135, 13.017132647265877, 13.90276575008926, 7.043067042357677, 20.975137528651103, 3.697289266412874, 14.01004882986095, 12.745685989760812, 2.9743687773795675, 4.394837194783365, 6.588086036622081, 7.088865747853242, 4.598944375445128, 7.574449707174391, 5.47641524020827, 11.776243788772767, 6.735632818835367, 9.767082998495534, 8.421826550981267, 11.069257460511636, 7.110469371438936, 8.419227031596238, 17.24767740821159, 11.227313249668285, 18.055302917456554, 5.470745294764404, 7.356177106195592, 12.250964733995383, 18.80582638860118, 5.400628304012032, 15.459944412558059, 11.63381817319221, 6.6589455862657205, 5.589517804389109, 5.038687727122391, 9.600385104744712, 11.713741579895053, 7.60474804062659, 4.349116991760241, 9.651158156539445, 9.647382031559312, 15.353163875255756, 10.912253534465561, 9.044299894246953, 9.932463877521212, 10.782441238288225, 1.9036863520077392, 7.825284822210299, 11.062399202870456, 12.491314208085049, 7.083467908498568, 7.286604135324539, 13.310290259992426, 10.324549336932678, 6.368951557665988, 4.552518943553333, 3.7949352495352757, 8.151515671766612, 5.469862260126117, 10.240161656016678, 5.334505378932695, 4.768908231333361, 11.424457258122406, 13.417198545195271, 4.112862121772588, 12.974288609330692, 11.797819762307165, 10.484586413769764, 5.942848309090805, 4.472259221361236, 4.655442388623252, 17.837292117646175, 4.884874573398228, 13.789679892343317, 9.469912693659857, 9.40201848358057, 9.98236062453199, 16.52633107148309, 6.128841880863978, 7.89124610363871, 8.196280189077012, 6.712503971344565, 16.52948088837676, 5.145250292661444, 2.0940488497564105, 18.559485214449776, 3.5077511281816, 7.936943765858672, 10.601425147696501, 5.76490365954725, 11.082542282349513, 7.325024953658567, 3.54834946350364, 9.962174556867968, 7.542653335654534, 7.02834162924587, 10.093357785222176, 9.820813571970136, 11.721808442808443, 10.242961459945079, 6.937779490332225, 12.234273470493166, 6.798718071628869, 8.61128569912817, 8.411612078939845, 13.632205051994873, 2.7807152540688866, 11.201815060894871, 6.769852748742527, 6.20992106424419, 8.187939600927573, 16.68920774566046, 22.969961461652865, 13.440611155121266, 13.379200198954347, 20.953127224585973, 11.423821640531099, 5.9572130620845645, 7.3929770030563455, 10.387829441920042, 9.721451274106887, 11.06092874163052, 12.524697960277432, 19.687176910624274, 4.344247674868787, 8.748853644135123, 15.803884340672221, 6.3854199726738, 6.6265920828231115, 6.843220791526659, 9.665286668026344, 5.838339306581013, 2.764546465300664, 7.91420101367945, 9.840130252425803, 10.826772359670297, 5.609470517563498, 5.718043148375227, 12.314224472599404, 9.320364907753557, 12.013680814357501, 18.786979718826885, 4.922403079700271, 15.972195308603986, 13.535448471691625, 8.591659142777266, 10.31758834304407, 6.7913777671974005, 9.025409196363945, 11.728224746202741, 9.874845468636227, 5.130725539050565, 3.7884686352260624, 6.023515006195832, 7.14054480573463, 4.384130454924918, 6.490471145351806, 4.703442739482304, 5.865135993270715, 11.957186684642759, 3.127757381550635, 9.42803601253968, 4.201934977271018, 12.466528274572374, 10.10829026015857, 8.102526731282142, 14.710689846269641, 13.30701492466553, 11.044158413239876, 14.7807986615549, 12.423975746905116, 12.421295293205448, 15.64579053387042, 11.74812760152123, 7.987513481331319, 14.376339103587913, 8.537250569450054, 21.497352208091165, 8.20352569141579, 9.09094678202054, 14.392736553757182, 10.25179637367094, 13.14621700159375, 13.60637448832609, 11.07041783975852, 9.379001526897701, 8.238842513363359, 20.440150307983313, 4.090293477454553, 13.830797205826862, 12.911963983940412, 12.75687104944712, 9.913219005087889, 13.079244403103171, 3.6237958725689623, 8.762512591117297, 5.617393896644438, 27.077839745587077, 5.667225722913801, 5.260180685350027, 6.620777681905775, 11.430728206750485, 4.549453158321708, 10.903659921213452, 15.943595890140175, 7.14759842342158, 14.83514438103745, 6.012134838468755, 3.275280678999891, 10.127041479284202, 8.762064146852502, 15.093401480868357, 8.969301063715221, 6.749796425603193, 8.667505370991755, 3.9977773068655074, 9.268171690381294, 6.928011186282325, 11.361527691729158, 5.928074004511095, 17.06606733572095, 10.745550651095526, 10.52696389367483, 10.386653702887237, 9.796745766975471, 12.243958151553787, 10.242691877647612, 7.570860890443187, 7.768344658992094, 5.83385416571578, 9.234752821743356, 6.6547891854716585, 9.206359159109208, 11.352204071953322, 8.537494344582443, 6.534456566470837, 8.417677465019215, 6.382822782211972, 7.750716755152892, 10.25356183829303, 7.219339441946448, 10.848695093614642, 13.467858786351494, 8.413754703121773, 11.006310672260922, 6.368916299330511, 19.3958038135816, 16.056670346347545, 8.336207999178725, 15.721111080055127, 6.117108417307152, 19.15856800048498, 11.438910854654361, 8.559434600102026, 9.61008771082775, 9.814534485002117, 8.450402409351836, 12.98703548226332, 8.772136165087101, 10.07946278948159, 18.356296108404646, 4.643486987976312, 7.677521352759427, 8.833062427514461, 16.06821338637807, 17.276351690666466, 5.226344915123366, 4.085311595196107, 6.174584615229857, 12.776000988836243, 6.119175511217418, 10.028290405590143, 14.623240930154436, 10.929923023729804, 4.820454526682709, 10.406555993969967, 8.405523708374876, 20.302144108370943, 7.466568410319166, 7.23007993211354, 15.406515713342745, 10.666453151444934, 14.543988939676145, 14.950026968912006, 7.859464768158398, 5.625360633203492, 11.833322725278055, 6.505104799871126, 9.045311809220674, 11.530423213091082, 7.730291750423592, 11.011761159273231, 9.59380949417243, 2.0490256158901223, 7.6877589635846375, 6.270925949514441, 14.992410791516322, 11.954774279264576, 10.58834229508042, 7.88441868904546, 4.376643530708438, 12.165204656488193, 13.076099099400952, 7.166084397889003, 5.477632803103339, 5.829303481211845, 8.426977422369877, 13.468521783514422, 6.337112069192852, 10.408004648286187, 11.845866098890175, 8.322927655703861, 7.268901296793264, 4.798234699537305, 10.24950080476968, 15.747025885059509, 8.956877927960289, 6.836855484306883, 17.16627321315549, 12.256497734174793, 15.533628722736603, 12.368072181085585, 9.056434888722436, 11.28483809917179, 4.420736254916625, 20.097759026824274, 9.201796398190341, 10.363401710505297, 8.593554569578593, 6.811685788755847, 7.963214443860845, 17.42288554147955, 4.274587301511994, 7.723337798098014, 2.253016125262593, 7.54044432157153, 15.458610153321352, 14.350143002071619, 13.936777554578004, 20.075387288318915, 9.75037803523446, 11.008520662053307, 10.013157944531912, 7.999060513484841, 13.371004851812756, 8.131651228016294, 17.2395529325572, 9.639432308671315, 9.421783947380973, 16.178279140713652, 14.001058180566861, 3.8839261850824607, 24.509957788642286, 16.996483674361553, 18.75720547596232, 9.46474953774284, 7.131210142655782, 4.4185248640092185, 4.500848047391203, 16.66816641996672, 16.69133243606129, 8.25912831777558, 8.521729153367605, 7.202511930403966, 7.991634884470843, 13.053386000314534, 5.026143455034324, 10.321932742514104, 11.871878908691448, 4.058478024257061, 7.87979418465051, 15.172458518028908, 6.064966557744136, 6.872786204874945, 9.521349115443432, 5.779304477696407, 7.341544069002041, 4.633343615868901, 6.061255757493326, 18.48367020180498, 12.825105337118778, 19.088115422729487, 3.450664906535831, 6.884693709341464, 5.381591097902585, 5.95201088807732, 5.0078409578651275, 13.934451980549246, 15.146775904767967, 8.107175037139058, 7.198901959972567, 7.121752962600526, 9.23467007946965, 12.3392754562555, 13.147691941354589, 13.76561268804505, 5.840610355713513, 4.888495182991916, 18.833004543210894, 10.728672615193943, 5.7259313071618445, 13.451988749094825, 6.824646648317017, 10.662245739193114, 6.950779766770093, 11.937379502540942, 4.4251971668443035, 7.8021685975929005, 15.035776442008379, 14.941805096352274, 22.96520578551621, 8.553387157062184, 4.956394015525912, 3.3043272450099828, 5.245150428604229, 5.2628007465221165, 13.323864310157866, 14.745290564958701, 25.420765346171944, 12.279422674720859, 10.901297787386039, 12.545366265365889, 12.187228683420209, 6.357450491870758, 6.606773862105518, 7.22653213213614, 9.080110156973031, 21.088290615290106, 27.286257292446148, 12.604925516041991, 16.614744707196046, 19.86793247368837, 7.6737715092319565, 12.34551868784437, 16.16782247958957, 5.7421006109088015, 12.155710463387354, 6.2630180643802635, 9.956733380408146, 12.340859761709297, 12.892819625063245, 21.312404222664817, 5.857581096015049, 5.666415714663149, 10.438367882090454, 6.278242154872409, 5.259725167293187, 5.196864970079713, 11.168424982319147, 12.198022128030027, 11.960540431150699, 7.572567116132066, 11.69829568002212, 9.15731753702089, 12.340578703187408, 7.6071205964867765, 7.944508381096001, 9.322753040026605, 12.387451484065753, 12.301275612613296, 15.769454110068741, 5.831610899747512, 4.832604375373709, 2.20066487792089, 14.187562621774047, 3.983354522508476, 2.9139503599620693, 15.298220550995014, 9.167047285213693, 9.905299676597048, 9.710844653374291, 5.909090545450399, 18.8898164751582, 11.944216114339255, 8.887259353055624, 7.014952024707483, 4.186000519800023, 4.939509051112518, 12.456992013926946, 14.36580065165757, 6.370850299450278, 7.698841407726948, 8.363716485203623, 13.46349060661815, 12.770446612860479, 8.045339046089945, 12.5781864417956, 5.871222187458559, 7.74838721471939, 6.427278809725059, 7.800448362490837, 9.905368324110228, 13.815188534017457, 15.83817095310813, 13.538258137931967, 7.296125164955207, 8.748295411008527, 14.45616178001706, 12.251836038162324, 5.963746475180011, 6.4734183177386075, 8.673330064749225, 7.025946370156216, 11.148878536248297, 9.866269923489972, 6.509697253541445, 8.033299512552661, 8.950606597464445, 16.086060914499104, 5.373830811299539, 5.047009606693986, 4.861748102178998, 10.221994792931937, 7.602170677319156, 7.141687026256501, 3.287810877314783, 5.5865597713479955, 10.276029446324147, 18.651645475837547, 8.717205333243939, 10.660915959101565, 5.508829867110173, 6.198586266058943, 10.994917780290299, 10.376802013210414, 5.853222743539437, 12.274891147169159, 10.935083641847044, 8.814538022336103, 7.52561996342757, 8.017108399689636, 8.975094314902465, 9.180147745381174, 8.563432474623772, 16.538918934626736, 13.733210768392517, 7.227767555147497, 7.994447073715675, 8.617961884266384, 3.774718399363801, 12.404867473731088, 16.407920238144932, 17.18719082068517, 16.536720952011933, 5.7327388297595085, 11.04588277155151, 13.540908011578818, 8.666675930745, 9.923376529953648, 13.461462294222395, 5.750835556355007, 7.8179037214739955, 14.906238931695533, 2.9111454882491046, 10.93352535293372, 11.112589990323238, 11.422065387064924, 6.6430754534388745, 19.86457173017003, 11.102629196515455, 10.691247395592097, 13.096454921550329, 13.493943449515296, 12.39795457961496, 5.941570863343799, 10.69812770833445, 6.343031683653953, 2.8518791697068253, 4.265490426630406, 8.265243927022187, 6.247296214324781, 9.477806260725735, 7.56649797419392, 20.816464895806302, 12.099827189233967, 3.5573147652177015, 5.167901258136308, 15.508456402474456, 6.037695430569818, 12.516971433857798, 6.998530896003772, 23.806952225086878, 4.6652991559496355, 11.255232318702854, 9.328784934908334, 6.270669498201954, 9.019521215414217, 12.86817783113838, 12.539923885705214, 8.00635027345535, 4.298394492330546, 11.163283715198185, 13.659876307225268, 14.967278909546458, 9.255185643466932, 13.603252054660913, 8.538732264071163, 3.1900133775884942, 9.675993732109928, 7.196049928014151, 12.765774659722883, 16.354633488001216, 7.192763915884933, 10.709124741926141, 4.256947868547156, 11.268127682932736, 7.695355247580133, 11.009093435849719, 6.405685516590043, 12.027263913433682, 17.071132091300882, 6.280281794393086, 10.166393809640828, 9.305092666456773, 8.247369747906365, 10.121845838924061, 11.051621907142618, 5.641912253464177, 6.287255514551194, 19.74181985694711, 15.52634728953062, 8.227363382278474, 13.708478826951811, 4.851821801046573, 4.212361743801731, 10.244181508329934, 14.720336057376027, 5.744790661216179, 9.678476427425387, 10.93140169822307, 12.995230793313764, 5.315937355128735, 14.352151474163207, 15.40183675975057, 5.465787071218035, 5.763312775492027, 3.2385844268458612, 9.361150068936102, 5.620828568911952, 4.657016025384148, 9.558677791719662, 11.399838245720993, 9.94543142065946, 7.191036625692837, 11.864388220045337, 2.244401897780515, 25.50036846566619, 11.407923068138697, 7.0507263556907205, 6.436562077671272, 11.150327445317242, 8.1259994467457, 6.63829164597711, 4.927445961993713, 7.060553761248453, 7.758170449579254, 6.554039329376924, 5.012205781626955, 13.678818236610624, 7.799730036798072, 17.5225488061864, 2.137231717673401, 14.994225377991873, 8.771156891428053, 10.077841936973822, 10.405960710791373, 11.07671792483884, 5.4067447431624025, 5.883647920139662, 11.456339589427488, 5.778289289498693, 11.185032602001227, 10.41986665576856, 2.6607386457605564, 8.41390622607868, 6.197150760756985, 2.2207741160440313, 11.042685043505948, 15.90324140251922, 5.738968245816321, 15.644086116010183, 5.8144515975569275, 11.045370425833447, 6.739458710161342, 9.511510807334057, 22.72332570329388, 21.750096821234806, 12.044995667716059, 4.342595192141252, 7.8303254387607515, 15.379521472961095, 11.06552044243087, 6.884711313034559, 11.319128845430619, 6.8004010260649705, 5.494382003583731, 8.055166361518538, 8.804730986115262, 7.879280703790711, 19.75399516239471, 7.6056212863929105, 11.993899420660583, 7.664511203786857, 8.180886116591372, 8.199194903854517, 7.280623384363018, 12.680749318564223, 10.72357993795888, 9.365296752496542, 11.363554026636171, 10.39125789316403, 12.63072637444736, 11.304468979795576, 8.37748516759163, 11.073336711653248, 7.123590482770706, 17.319199007133772, 13.771108235994094, 6.951529570042156, 11.624915526757437, 15.650845209431822, 10.442274134066004, 9.14024501716543, 7.648965289503768, 5.348486545702114, 8.784973047244764, 4.977995372442837, 11.737585662107369, 12.679085206200453, 5.272656546864538, 10.373412919101067, 7.69357385705549, 6.159022253380483, 10.078911362877806, 9.602281126428007, 14.81911905608406, 14.054167208741122, 9.039910851120215, 10.87556245822542, 10.19582523087284, 5.915621229611953, 11.586481199553017, 13.571135385047489, 7.45825286513312, 12.906744198342759, 8.522361974165676, 6.259114849294283, 6.769796325190275, 7.96796240948872, 4.84105335317095, 16.348449576402313, 9.099228137251576, 16.22020876953994, 4.652417717298496, 7.051111381466523, 4.387673384035322, 11.412356858119583, 11.05269357804267, 7.290070530569745, 7.770903811607785, 14.774888264196777, 8.511336926013552, 7.742269046918625, 9.343768499345586, 2.513475888082445, 9.333988979709876, 7.980278628419336, 10.855794227537537, 16.193901665783603, 12.922235655222822, 12.007275521331422, 12.91569285948637, 8.107397638119995, 13.573114661498964, 9.78719729747825, 9.710969919486262, 6.712326553824724, 10.933615481752518, 5.781221657493614, 14.299242468812007, 15.954503044102733, 5.191518737006147, 6.483184214778956, 1.3366249667499863, 9.395125270479744, 9.940225775706748, 13.19544627580346, 6.950836102026348, 12.065807180859325, 3.8349600234838546, 10.038647602778964, 18.001727661931895, 5.879869621726606, 6.408431583998088, 8.982585079078131, 14.76963465705031, 10.318381188643215, 11.036911201282196, 16.059979760439436, 12.53185261123721, 9.32276509100988, 8.665080917208986, 11.289917180551303, 11.968154618240145, 10.273156365202503, 8.617864736436102, 19.174098375093042, 13.822871097384008, 6.1986527331365915, 4.20217677266015, 13.70395023229775, 10.943237516833396, 19.79245708336888, 3.500572688538879, 8.901775793012984, 6.183444226099505, 10.577954893955667, 3.4492199133841637, 18.405890567292772, 9.181146542753295, 4.788231620074741, 9.17114912776415, 8.064255498876204, 4.321912154432183, 10.338727446572655, 7.810889585047708, 9.964620314134228, 15.849963849506269, 8.030148583445927, 3.71463019918542, 8.612095664509017, 11.160969969048459, 8.92864877372763, 9.686389668223136, 14.036847321021552, 5.901304604186335, 3.056929455404198, 12.358584519289911, 9.722466130819635, 9.098162431237233, 14.138605840585225, 6.0456223761616705, 17.627745012760187, 11.177045172769605, 6.916202920216403, 5.476802676083505, 20.177971945578484, 11.907982565922854, 5.65731050340391, 10.895116776310138, 9.932773188566717, 6.278235303150594, 10.423977480062891, 11.772330621760483, 11.357898671757141, 5.293608428232784, 9.329457949336941, 15.222046289166082, 4.969773307058354, 9.879753566955884, 6.378122226971317, 12.698675589007731, 7.852931175996506, 14.5493928226451, 12.62634797743158, 12.630986982115218, 7.341903504257355, 21.766960641058244, 7.984637046366205, 7.396721995579779, 9.848422550933822, 6.351260502014985, 9.648224095771956, 7.756590075310193, 13.697598509056315, 16.477485949329484, 11.739716491952818, 17.894266304870502, 15.526166832965263, 18.190920901440478, 10.377317154342373, 9.905737340738039, 14.123680836066521, 17.47278569327253, 10.960890583288002, 21.18240569477709, 4.0278768289077655, 7.91546327570742, 8.993332075011025, 5.9288410382554755, 10.097411375801485, 8.029756098695302, 11.868604327124931, 5.6275772015169325, 12.11515226347996, 12.384220534801607, 19.922855524375127, 18.660097927281214, 10.359218089240839, 6.435949796533258, 6.046173358075378, 12.959060594179743, 12.47639368451102, 10.68677327560952, 15.386258724094333, 11.144385145156914, 15.87713675027458, 8.556538175499826, 15.381710327332573, 5.957443043865664, 10.722940231985515, 5.371063454815527, 11.5506662576416, 6.634665733514243, 9.237568016249176, 15.118963592478915, 9.251347151271503, 5.377054929137696, 14.09352661049041, 9.593910992788611, 5.9061313221835885, 5.361074038810605, 8.146556457669574, 13.101920365597945, 12.486971657560526, 7.3713601848814285, 4.293943099813311, 9.323865481446557, 5.071901428695381, 14.41913384781059, 5.857519653121961, 16.834003858694363, 4.630384861677743, 9.557769677287556, 15.667296808532347, 8.338401150554871, 5.713220545769147, 11.295561895283093, 8.644577129101737, 6.956342628515988, 9.289766391873343, 6.081163938714266, 4.724201733632861, 11.63284008814152, 8.200172127276867, 18.87537134130929, 5.907354682021268, 7.325395394594479, 10.5538461755919, 10.313193741968, 12.766007185312796, 12.828541857237084, 4.415032488356638, 8.240777389757316, 13.366109076634718, 5.477595037210511, 8.33915538093855, 7.2623126248260785, 3.7650689668213264, 5.098156698740363, 18.915491101476846, 14.69188924098288, 6.801981568675293, 13.032947933067808, 6.056645380284601, 12.62828416186252, 5.0137596587962445, 17.952145807440665, 13.084106907553766, 4.273243286267106, 4.086818293674285, 17.98395933263822, 7.664755789407876, 7.986000949898379, 6.533850098164415, 10.699109970285214, 5.844448036445921, 6.0292769869619915, 6.117247813419788, 8.474069328085676, 5.696325285949462, 9.944415793261784, 8.65362123468412, 15.01540368315581, 5.287790148313493, 7.652430910090084, 13.123372307012204, 12.269720002879003, 7.813555341420077, 11.023282869858628, 6.215671299420041, 4.753607502172545, 11.495127024063816, 18.280484819128517, 14.937023250853027, 17.77518033463989, 5.0614144250909625, 14.204210161475054, 4.3035875646225685, 9.550646292503052, 11.50397585964835, 16.886290341859322, 10.740586573283474, 10.972447564254253, 11.208778131172236, 9.693268072118034, 8.261266090376878, 2.9154306524059335, 9.518176819482667, 17.661745243, 12.022993643368583, 4.008602392206911, 7.164555629934657, 9.304542774107032, 13.119112979692035, 6.940491199000604, 5.162388641025251, 6.265449420402928, 5.906619136164431, 6.758583945056073, 14.529231862469965, 11.122972763074438, 4.809742174357758, 11.556982498880135, 6.1801664229649145, 9.636490667841187, 9.319223854017478, 8.404238933986619, 7.889005960244062, 8.591066091381654, 10.646596992509902, 11.495072230161467, 8.658377847524063, 9.166400272745957, 17.4871054504625, 9.073451585346493, 13.45683877258531, 6.1991786593489735, 6.555355363829944, 11.31588561492839, 15.067141985962534, 15.10509296937104, 11.532111345368197, 8.272461707256804, 12.611309397511635, 13.86725420025819, 13.064674984350333, 2.600126944917038, 14.866164294984921, 9.075917829570677, 9.207657596127035, 2.258728939377935, 8.571870798142454, 16.193112386252288, 16.51424739479208, 10.99157722908042, 3.0367823687597033, 8.335085715429669, 6.0040375314123136, 5.242893361155759, 9.7487757407601, 3.977204741342999, 21.732377524676096, 8.33908904398124, 10.787570370395159, 11.338922948180027, 12.518276858269445, 7.034316503110018, 14.404828548877534, 4.452308389991781, 10.897345363901733, 3.8602508764497854, 17.506059351859374, 5.678921835943753, 17.084880105428965, 5.474516491742431, 16.932343110194637, 13.74980558119902, 8.429505063629785, 8.075920760299953, 7.702591953903661, 11.18609249708192, 11.177820935536596, 4.643693547157653, 5.210148999447013, 9.640287960359686, 8.413100196042024, 7.533694564155535, 7.816656361731535, 7.552539287989824, 12.855462793163314, 11.851532683891389, 14.885350818908053, 9.232876834606374, 10.698431214701131, 8.666260957513476, 10.215739157133138, 5.873858886493501, 13.642579791112192, 16.698400313799123, 7.172330194741539, 12.136032270397811, 16.142533713904257, 8.602589591916836, 3.287731362292154, 5.467464594534042, 6.724187978971504, 3.80248792179653, 7.130626238153048, 11.098642457476277, 13.250487933637002, 4.1269774558187855, 4.822264201932808, 8.536599072027395, 8.155493021137808, 8.517002721044037, 15.394589266632636, 19.499946257890098, 6.005273058078332, 6.034424917648077, 9.707525777424667, 10.709336230183096, 11.59935494488495, 11.797378873274658, 9.259602373188796, 10.843674783973858, 8.860646497375448, 9.146841233739158, 8.950637103417607, 4.936975635558334, 7.405873769211256, 3.2368645776521916, 11.858219783766442, 8.597626763883577, 1.4533261961669592, 6.127426037743911, 5.976124078292995, 8.018083849464778, 17.02830474936335, 5.43162262943412, 21.456456486672305, 3.3733104993802097, 2.3290988828674255, 17.035933396209312, 4.001886215798108, 14.67785011784258, 6.7661631979495125, 4.64848028748636, 7.336897983971791, 9.4181744212127, 7.205659709016798, 20.188480897467112, 17.74588136350046, 5.582892719455544, 8.05488824718686, 3.6068879751313094, 8.805711613715943, 8.453122092433537, 16.571646690075106, 5.838710905134755, 13.362536358738023, 10.962115481913818, 17.389465153298982, 10.914876885495854, 1.6849953283284929, 9.9111575825714, 6.335842239290004, 7.417748255935452, 15.740419960725369, 11.30301033972421, 11.201673385069153, 6.989476979412805, 14.464304844992801, 13.482151547596189, 6.862887380868253, 12.298919720555467, 18.840673934324606, 13.595477029654552, 4.366825694643586, 11.927991785890175, 12.94054658457646, 22.136801203825353, 6.630196654253013, 8.318880120036635, 15.636597622361123, 23.126366137676946, 7.228873408717664, 13.056226073382714, 10.271402252923401, 15.217361237268012, 5.142135753846114, 13.188034756483402, 8.208808608644675, 9.249159220086751, 11.295855006007296, 15.22441179780659, 4.239465284355405, 21.601391138292108, 11.456649289218706, 10.948036880468988, 16.60910334503408, 6.704494730026976, 7.17603687931281, 9.678178745296872, 5.320745995730992, 19.006738521075167, 7.336913330059944, 6.471045963547904, 5.613031948153518, 10.51433856207266, 14.08926641914117, 10.93968639860699, 8.600290123430153, 11.850912290351603, 10.980802940484212, 5.598006464644568, 8.826311197021445, 16.052178977932385, 8.59959465197167, 9.552709231846018, 4.044462855648488, 21.380214504055978, 10.31385124873399, 11.151626438755061, 14.535926075026778, 12.72391180081353, 21.95860580621637, 7.289858250833912, 12.816912003317363, 13.574440230821144, 9.384287383702457, 10.689934332724755, 15.249339841500252, 7.68713525310159, 21.167379683121222, 20.00940244222167, 2.8149224194195184, 14.410279859256837, 9.007633064824983, 11.576365684240319, 5.904120164443159, 11.178128573580421, 4.9618662143500405, 6.145204480453458, 3.4425941514795264, 7.469904365121961, 8.20143232242173, 15.712608893679123, 9.792583300949262, 8.237357126630705, 12.206939886932023, 11.292551076089097, 9.275635145285419, 6.5930310842794, 7.051720633923382, 15.406162467557206, 4.058922565408793, 13.175877499632817, 4.661450679239924, 12.79356135159115, 3.695718088355382, 12.679331292916201, 7.614662508676178, 14.502906525458917, 7.237904324396328, 9.679966230587434, 8.203545260005763, 5.2434685262199885, 11.055885956746256, 4.988486419564111, 9.397050653049336, 13.56654998098146, 10.006112981071368, 17.323388099218253, 14.354198613791915, 13.685648437722884, 3.585582035176298, 7.685118973352591, 14.667164732940998, 26.142016028359286, 1.9872488920865152, 7.495507006433777, 5.261203476157851, 12.208531709521477, 18.07161458408829, 6.646263952712833, 17.33374356519396, 6.077250906472752, 10.90271669779812, 5.548897657900778, 8.383185256313192, 9.459759827156248, 4.386297168751668, 12.283157573950826, 14.08494472941369, 4.511827622306321, 21.461394458635155, 11.357219152019535, 9.527090404530075, 8.209140842641174, 9.551662730623933, 10.845070079287625, 3.5287224206232435, 10.862788554195385, 12.638706176197665, 10.210277620612711, 6.1225805053761055, 17.664946191200265, 5.768222995579865, 13.151681853537621, 10.432334591121196, 8.272345462806465, 4.822492421713153, 14.47981264851529, 5.240490463676931, 12.593749037454302, 6.814736292662338, 11.089188007631863, 12.924677529611452, 18.866931234063575, 6.598666990979458, 7.982421441608365, 18.22071379258931, 7.617560973186525, 5.9319969357229025, 15.83735178787526, 1.7329073672103505, 14.568209264613676, 11.70450084721229, 6.916813424650618, 10.643370865559648, 3.0865126541950736, 8.413207904451545, 13.07525720333531, 16.702889299964408, 5.849158265418804, 11.180695857253632, 8.333028707568653, 10.491938708255203, 6.444544126548088, 8.491088025309185, 12.911242102021191, 11.567424698947798, 14.15154525428593, 13.550857447739869, 12.241046109837487, 8.571722435591816, 11.671032735490506, 18.216791667745895, 9.883770832594854, 12.564327849513873, 10.568496453938653, 16.872622382476326, 8.714685132186936, 8.02601595338572, 3.6274506976433694, 15.364623308892963, 20.207313961361788, 8.391056253256579, 6.500110363795707, 10.632256563127545, 9.494878051957297, 18.813288184040438, 6.556960776839335, 11.30450800140227, 18.591945606671203, 14.866139768754547, 10.068433712808783, 6.543010632430362, 7.676632724716269, 12.114869039520432, 5.61247742226096, 4.619109240527467, 15.425117311985627, 6.669715026533431, 6.806287774778855, 5.454055435071605, 19.864640585715843, 9.498489862459168, 9.040294241938756, 3.1878263542386045, 15.724000746989253, 8.551019809399783, 6.800830311991418, 12.848515464569596, 8.859796347758198, 5.220003613805756, 8.454621166218109, 20.963110018054042, 16.503000016300128, 8.888784014434883, 10.279709875255499, 10.389608688513858, 8.517885540978575, 16.119440415426947, 12.110378994269805, 10.261761684946082, 9.732998834462927, 4.708359693515608, 10.534032969491458, 7.9218322839879685, 15.59233694715256, 6.147204081751826, 6.931523824095973, 7.675791395965864, 11.68597340349922, 7.338467756389374, 4.74181438494743, 8.14459261606185, 14.680365034325337, 21.916372754814756, 14.292414690791883, 14.225557275911056, 16.729434406089375, 3.560281590253648, 7.435682454797744, 10.349828633537719, 4.642890522973873, 13.930513972185128, 18.449487914041388, 8.911772731779596, 12.965476465241364, 14.565470594830295, 15.809162825577038, 9.244578233548213, 4.131211252377417, 13.237378595370975, 13.990803530581374, 6.226502224119672, 12.467535501097554, 8.116248704568983, 13.658168079718362, 13.818394403426279, 9.686911782927156, 7.701933431195288, 12.069458318650891, 9.762713407641517, 14.242935914856957, 12.760059919253374, 17.74717663144842, 11.309459673860669, 6.075684997854463, 13.062811498337194, 8.2990404374873, 7.770264502402435, 11.488209666059277, 7.434995708611321, 10.442868935910655, 16.64268331936933, 9.825197687265023, 8.049694851301847, 8.460026919302532, 7.545884950579696, 10.365847693673146, 2.6194548452651523, 5.530907007271541, 7.542323838078886, 11.357884352096821, 3.4505416793956076, 12.35795070940297, 12.103993231273428, 8.581013395161124, 18.09733248216898, 8.96408929856165, 14.1268844110552, 9.644912422589611, 14.45779400558415, 8.557703542699338, 11.718919243463326, 6.957305440722163, 10.337795811302058, 7.276356679462543, 7.728769870039027, 6.681866975529934, 18.810160881689413, 9.385617796217131, 11.511293655582332, 8.356084684640027, 10.854434929373358, 1.328709924393438, 6.700867788206481, 8.469931620182946, 11.342422251287005, 10.38128106434342, 16.313404965242974, 18.377059168342768, 8.1762509680383, 4.804437579051511, 8.904509593858, 9.00009301312222, 9.952074892677345, 10.673740725579808, 7.961737913646651, 13.725608564743123, 12.96578357305313, 11.798489128153248, 10.953606447094256, 14.96370696706629, 9.954783067773672, 3.7424406755821673, 7.680942309439893, 13.193897356974627, 13.645143741050532, 14.874263404502411, 11.211829110235323, 8.083058884251376, 9.940380646311697, 6.1340251796290906, 4.816302799089547, 6.417923892243043, 7.859729013388915, 7.610105755564016, 6.399401198273963, 6.333790880715789, 8.09476397355786, 6.30856261877228, 7.615835094297619, 4.487834155845386, 10.761024253530604, 10.67425781843253, 13.011541203605754, 4.666373379432299, 15.90419496818458, 11.474915827978506, 22.32481741706288, 12.454938380664919, 12.212082587212482, 14.966006342994755, 8.113554479735496, 15.300305255837243, 7.657601497710096, 12.998657038506085, 13.38403463545085, 7.230457115838099, 13.09187744169118, 17.858994761224533, 11.568129611911507, 7.835955489442797, 14.40478481714538, 3.5072166389108963, 9.330682953695032, 5.3985499655922755, 9.099497723580708, 3.820899718490894, 12.629662351787385, 6.453125775978947, 5.370527062336614, 8.548327024564172, 7.244067777293763, 11.355752257240834, 5.017681872588931, 10.126125337903932, 11.055139945002743, 10.917849380868628, 10.084418027061107, 8.643300639415505, 6.7545407797034445, 9.55193022956722, 15.817732816380673, 7.174431771210825, 12.209972952537672, 17.226474740594018, 8.633919862675802, 9.47788377125763, 14.640966262469671, 18.94183785906914, 11.32340384786, 19.30930677174974, 6.890308158868894, 19.49603597281254, 8.853078489658044, 10.672726176405332, 10.759329620171684, 5.018880731750753, 12.958483131262247, 22.040421276640053, 10.861846132264496, 4.632892684814699, 9.133864139518455, 24.654945195733784, 5.6571297022887315, 6.5341420033965125, 8.854772791561595, 10.351611670866633, 7.6773758227722135, 11.702492346908137, 4.018453981938515, 13.518278231599506, 4.2759336455364165, 11.18677906009793, 8.115126087742226, 10.671333533243192, 6.536718826909161, 7.416856883492676, 7.981158412977208, 13.36239681141832, 8.392634456316923, 8.133373407030106, 11.458907760129286, 7.595833701429492, 2.3327179550763817, 6.235866333533933, 13.388063851681377, 12.25910489586775, 8.449248251434682, 10.567299384492138, 7.886468389976045, 11.417520245309328, 12.539785933992867, 7.742631687699488, 5.337219102673471, 17.13437430301084, 6.0426656272501305, 5.87271258897139, 4.915275169104347, 15.226310837049631, 10.60792036339799, 10.451451557917546, 12.994498374791965, 17.565462602720906, 5.086999891996771, 11.71519044472918, 4.739792525252767, 4.214411601849204, 5.247163371805791, 16.917062610971094, 6.477788056192078, 8.414370954378894, 11.648241680158376, 9.45914345305172, 14.697677176944419, 8.119523995711049, 9.215275016043517, 4.781671143318466, 20.095472058027283, 10.606610282380815, 8.541581973169105, 15.440373272436087, 1.7266764497727551, 4.863872093153921, 7.171149493389541, 9.94894563714213, 13.359268000098982, 8.546258769683062, 9.112514537910213, 15.997876792426888, 12.891463087753579, 7.640974611476756, 6.398993996204351, 17.148374275292653, 7.821416737408573, 10.163428942560568, 12.280385534314814, 19.604241469976092, 12.844343693761743, 9.595169728830422, 8.577287409667974, 12.41657026130411, 14.407035649000294, 18.966489252176757, 8.038352950298316, 14.192737768891703, 5.4216935937428925, 8.266869413029688, 4.906642029513054, 6.513113642092288, 10.150243628305944, 9.33141551143669, 15.373546676895186, 15.218005131740329, 10.395045094749467, 12.67133393747495, 9.868815759230879, 13.807966372095867, 8.87711575381054, 20.27351046216795, 11.425002755258589, 14.785174745975896, 6.0476907987627975, 8.149315999149417, 19.65203564903446, 13.18553136123757, 10.378142816592883, 7.920759712683338, 6.3872931716879435, 5.4891378572236365, 8.506456657591096, 12.899522801444173, 3.9454653327337743, 8.625369977100336, 16.981417400265066, 9.21674125380326, 10.115785204211486, 9.599684814883947, 18.562045185216757, 7.965252847775192, 10.690925826045182, 8.075156080849334, 6.577253302100141, 9.922920078457564, 8.796482669827261, 15.169056362876995, 15.15557806713526, 6.8357835124907105, 9.598599374754349, 5.28765350368693, 19.71366684068965, 7.902640799944773, 11.418099266857968, 8.770712059845355, 6.277036467853121, 8.138872048294791, 6.603188335348581, 10.20673120493615, 4.452898791357793, 10.034824593674115, 9.01382373891384, 12.778011527550182, 8.302695606779574, 20.073051700779292, 1.5054967361198859, 5.821590152000429, 13.603137748817751, 7.026517668753911, 9.01872295084993, 7.443583459775227, 12.99696507451281, 6.3771187724002285, 12.182537337917658, 6.976479909431882, 12.699295323282492, 7.989836711434775, 4.236175645619142, 6.468146779513729, 7.100809075905554, 10.030995361974664, 5.071754343892859, 16.30904469218303, 15.255366994682706, 10.963478159294294, 19.14740379334899, 6.5345933284108195, 6.330354828692222, 10.604193138188627, 6.965940904703961, 11.610704659526807, 15.201776588067714, 14.891785617728356, 4.014617728649757, 7.41891113448667, 6.427376804175182, 15.186809730544182, 4.836870597605506, 3.2727213232433017, 20.6066184663384, 14.307362842340755, 11.909157858252346, 7.818469118506196, 8.653407468725298, 9.978651563289645, 11.102101064116365, 5.207941391241659, 10.192102073304714, 20.990611390631454, 5.836439287749008, 11.607055997843592, 10.246811232457645, 5.536480766890835, 8.547518052662737, 12.676823675638179, 9.723186880002629, 31.091660319103063, 6.225445484093523, 3.0221621795669726, 13.450596039135352, 9.422110216757739, 11.18221591650798, 8.142042551205332, 11.949795843651234, 2.441853366203825, 6.921756063081737, 15.346689089885169, 8.957874418275734, 11.035388029024995, 10.89022890854732, 9.97970050943744, 5.777339744345828, 10.307486495599518, 19.225738889294956, 13.93679844863445, 12.852806750262936, 8.309635222895318, 6.429863197072147, 8.609347231589735, 3.412268929398257, 14.292341180365685, 24.931732137836427, 9.635140616652821, 9.60878314020885, 19.31232990505547, 14.44245316996658, 6.466850127221126, 10.073408120748844, 15.310067328895162, 13.260416921697525, 10.03018025602742, 8.004714140703802, 12.000100582412589, 10.36806895256222, 10.633731462155577, 7.965665477298945, 9.547907511235675, 22.04705227492644, 12.710371361591319, 4.644585158827736, 8.432802908872514, 3.9649234857007754, 4.343546762053585, 9.94326252927637, 4.6316308379502775, 6.77416304971096, 8.09869671077157, 16.172943447096316, 9.754025864108726, 16.15990505065403, 8.089983543605976, 16.3012429440582, 5.5731280789647295, 15.386421139108151, 13.619198061524916, 11.594142991097375, 5.446362421986191, 8.343383785140126, 22.247002572576534, 11.09308394512645, 4.79152641915259, 11.84296392401362, 10.959090207331384, 12.938182169420632, 5.575765252650005, 14.270667878820886, 3.107047784372841, 10.915618209871518, 17.05856928997714, 11.24203200613126, 2.7529154218580003, 8.674665621214494, 14.148321506359359, 15.488915953379848, 12.384370315941513, 5.632519832493405, 15.156299544963236, 5.46276785936387, 7.493471598469615, 5.070274278802458, 6.093355707791656, 7.407934522242225, 15.698467560438598, 9.160165650088473, 16.977061085324923, 8.502184708247192, 16.74687043057842, 15.155437428076935, 11.431601290636005, 14.104192551949186, 5.3815959052308875, 6.607347631722174, 11.517872329080843, 10.043369917813857, 12.959644537442573, 14.49225916572469, 13.28467321121934, 3.5808674559762057, 10.966805177748823, 11.895223186614267, 9.583568941071858, 5.733214406754001, 13.999743243430636, 12.240531725235526, 6.8080042462617625, 9.526723347904108, 9.938291891212822, 4.033645531221303, 18.62609434951582, 12.826303246272534, 12.70949016546433, 3.738572048997867, 6.310343090353699, 9.529361656931338, 9.87569146766142, 6.1084475424932005, 8.219837935837424, 9.940338111384142, 8.829257273122526, 9.138320219121894, 18.90481708344503, 8.786418514346463, 7.303978316703656, 15.017853248227405, 16.401403426217, 11.932555168650683, 9.75306396086242, 8.443986917191861, 10.83912466681131, 11.20401213880484, 7.758586023553763, 15.733569364831272, 3.0275718787016963, 12.4513760779509, 6.447159197007397, 10.828924988253979, 16.30962467936927, 4.758718541017053, 11.540854574281209, 9.295758752269435, 16.396701903594515, 8.631939639615013, 19.32752029490062, 8.577710685817433, 6.864237393973251, 9.137400530237734, 19.992551283908295, 12.546485198753171, 8.182282087400806, 9.225903593417259, 17.87796148045645, 5.616939193079514, 7.651211050395461, 9.768801012960466, 13.137939607026464, 5.24268790214549, 9.205793209555083, 8.320423446453239, 2.710001763163832, 8.519591132649845, 8.871404631391085, 14.054400821948734, 18.135357062861086, 15.985841425324725, 15.053662429096207, 8.493308769808953, 1.823228359916576, 29.567844153034102, 10.168582329045998, 11.605166518645282, 9.639578142680952, 7.8361681264512875, 7.355862483541996, 15.289305672507403, 5.656390531242268, 12.806122302831222, 11.913060052227275, 17.05911853452907, 13.355788333516077, 9.86139401087224, 17.998925104643344, 3.112019783465005, 8.486800103657034, 12.879803352034626, 12.905859894563418, 9.230266729982656, 12.320661952386795, 15.211140872236465, 16.947065039187557, 7.035312139080213, 11.510494863483748, 13.463131779660163, 4.452190026280434, 19.518524273818944, 5.882143744446473, 3.230151687938033, 4.848752882091662, 9.056146260685734, 9.198118907768798, 10.135383736206625, 5.027446512893119, 9.654593049313846, 11.14275425211892, 5.458381889050779, 4.050569731681287, 14.368206830299954, 7.1607173822744645, 12.754406757529543, 13.949322678609603, 5.3907405688731815, 11.056300558805214, 8.412456993167483, 18.964303787388427, 16.659764655213884, 11.136041654176951, 5.851776998005487, 3.8014487097411225, 4.79066660175375, 7.626382818331985, 8.317325019248281, 13.094310894338204, 5.865871493749269, 19.55040414489398, 9.297897289702327, 9.299976572410472, 9.200720248400756, 15.275040117251013, 24.353089458407275, 5.188301913688675, 3.1584161338917474, 19.769402121244305, 12.473750686000812, 13.021748532380034, 7.951729869579661, 10.138110125496707, 9.082103604574694, 3.3814103876848165, 8.790501901426866, 7.105615240281569, 9.084045111605265, 6.183264953694189, 15.745821693434047, 13.140846069784685, 9.059446586893316, 15.981571007780488, 6.1674861320168946, 19.992179091739356, 10.848539965257638, 8.949277826061037, 10.481753666880763, 5.2116579774475, 6.8542183164005746, 5.1098295336589326, 7.363038150879399, 11.976109829140789, 4.058897273372176, 4.389482908051788, 5.473901398596792, 20.012002263491084, 10.28356642465652, 10.717728319469055, 10.99082837393307, 8.588946761954412, 11.032254472634362, 7.895672416490321, 7.761549417616406, 8.470110419118631, 5.162670976778639, 5.368027150021496, 13.987390202256812, 4.6323826844956155, 2.2233436283041117, 6.9564877276808, 15.66199704055856, 8.017095652433381, 12.514097671973008, 8.267536318763833, 9.391162591992499, 20.098516582062782, 5.460082138051628, 7.168410045811299, 7.499738209658823, 19.830517726493884, 16.63798353292753, 12.544915598388734, 9.692585319288199, 17.814268826634603, 10.340159209723069, 9.217084448665426, 16.43343934273652, 2.247893708465444, 8.87598727854862, 13.82435994004097, 3.0170660875497237, 4.791736610107836, 7.335544969864514, 9.60495631360822, 9.631517032967045, 9.3239143685308, 8.840260867382472, 5.628525133680286, 1.897754765495972, 4.941034692152927, 8.918204117288537, 10.611778995708672, 8.980600643836658, 1.7198972294544006, 6.344323417323057, 3.5142458911594354, 9.667265414505808, 10.392711799906621, 7.47047592940573, 11.092808641438664, 20.57704391330891, 8.813441854517453, 8.347790330117723, 18.12395065561904, 7.901919900774577, 13.495128822392623, 12.9341476348736, 6.913348206504246, 13.259459631332966, 14.604598702749067, 8.453805359826116, 11.054076064310536, 12.310621353712502, 7.69050554459542, 11.470003488733065, 9.799307657124679, 7.747573576155156, 12.124878404997668, 13.204067585086047, 15.288221565882584, 13.1288715823216, 8.585545007523182, 10.978531285662264, 14.76644547779695, 11.367544967134252, 5.794702289203267, 14.846893389371397, 14.00313591686691, 21.5194824728014, 9.921765034534374, 9.61010550070518, 8.80454543177081, 4.73335948287962, 8.848453848851415, 4.653243054753398, 11.018994348785828, 15.764562527395835, 12.997200526350582, 14.792200578700312, 5.521652245101855, 4.29783468670894, 21.429608183399488, 3.4794280419383425, 12.981602791710406, 5.497382496111431, 7.075235914174439, 8.369433964485777, 13.659792125396649, 9.01308242414491, 7.125143698120986, 21.733281087639075, 6.310113156428374, 7.137002255309272, 14.270332763406179, 10.159697971486537, 9.87310503147333, 7.762341501882716, 6.334259132614906, 4.690396501596524, 14.047831139310958, 12.614817369624728, 10.850519965770802, 2.5936676981059534, 4.175113449516584, 5.730141477550345, 9.414350548645075, 5.212906844568926, 10.836892695032668, 8.566888547722218, 5.879783560240286, 15.55031853480125, 2.775056699168244, 21.444709084535443, 9.85813561249955, 5.918708327007065, 20.340503625762352, 15.630182560316, 11.015191982809286, 6.492160804068161, 16.236269170989388, 7.517230253094337, 7.4382058304083385, 6.962557184468546, 17.279419549364754, 4.17124340212632, 10.03929130526266, 4.388159322834536, 13.957697765712062, 8.55378463322659, 8.541318601186193, 5.820731254785359, 9.445973330771114, 6.595571960618558, 8.306102713315648, 12.094395222148556, 14.611697184097906, 12.087293612780474, 10.175989105272649, 10.951794904168583, 20.005951906328267, 11.957245712707481, 6.646501902019936, 13.079220405671135, 12.905126133608707, 7.567878392267951, 4.387596243064187, 13.145767818794198, 6.709254555025961, 5.269917214947183, 7.949518472262239, 6.1069700144110834, 24.251271168393295, 12.382993227730529, 9.488245387100239, 9.58974452037348, 6.495015975075015, 14.169303888273213, 9.289299949686779, 9.511170030203678, 9.669437573902401, 2.03682011317686, 8.528781371076391, 6.328775667661663, 17.11543068223413, 10.071343593534579, 9.414181138689857, 10.509406728678762, 9.81694243711923, 12.28958609825545, 22.25298098711625, 12.95132615376723, 15.611121867466494, 13.995326307605986, 3.900857909742986, 14.704904515324328, 5.845667857137263, 12.371881705524832, 15.187825566271764, 10.139597240384425, 10.378011709206088, 16.877133167411117, 2.5524279279980773, 20.983910755147935, 13.382509125306697, 11.380027099678081, 5.335639372731961, 13.381240115080617, 8.499841009702513, 13.686512217948012, 11.792553028242015, 8.175422657350573, 3.19656973340678, 4.475109858140006, 15.760711846722453, 8.24464623321828, 12.540119771468877, 14.923488381078126, 14.04013776736734, 14.34091937063731, 5.602368972793726, 12.123980688982074, 10.355466811019845, 8.055264930659188, 6.28636012650775, 6.292831108896775, 19.197841829305563, 20.448151562580595, 9.853997039864803, 5.632024734724273, 25.27820994639076, 9.46870123435201, 16.28709714589447, 9.945687438817085, 11.718861613427546, 13.813012100205713, 24.627548787517803, 22.986889672155208, 7.349307880214229, 7.592090152401589, 6.5299050353392305, 13.540733663746018, 5.18539325531272, 7.741290791877209, 16.11342708014388, 8.39386933842467, 4.94285327601992, 7.847988062769838, 6.838541839848268, 7.023331233830905, 11.025982169050659, 6.765872659731897, 13.076639189045215, 5.497635302382935, 10.733362698786793, 10.958704895478407, 9.704746769373122, 9.050668894592869, 13.015941173589734, 8.612365494139793, 7.128363257122096, 4.932898579726185, 1.9449450383049782, 16.02806729883036, 16.849505110838187, 15.004771625700496, 7.966452654166615, 14.546968717682697, 15.256946008971386, 16.092807785111855, 15.296081457373898, 7.172183161754681, 15.441690068583021, 10.00046344198331, 17.650521178923878, 10.151818862429383, 8.42222727599814, 13.659587888192025, 9.129634994906723, 8.681461941322697, 8.125591137094558, 8.275418342427947, 9.403629571163275, 15.411032685543113, 8.689341289455442, 5.59429346825156, 4.837437014721949, 9.498379746819662, 7.655040573847881, 4.749543478227243, 5.568754521414795, 10.962700649765434, 8.937090184703676, 6.046635094165268, 12.425569801370179, 10.859806934046007, 8.293959082800107, 6.704165519957792, 11.09406263495099, 6.185431705179639, 11.416660724026478, 29.769618012518304, 5.480277087451754, 6.780299561414598, 10.253436492879544, 9.34113166243584, 10.4507675694951, 8.606416530039624, 8.060928690599582, 5.827863723321559, 15.61279721880892, 16.696440941540352, 17.216554030541616, 14.757672234185051, 8.067316194796616, 23.15621677542574, 16.186042214796366, 2.5920277447273357, 9.497412212073145, 10.283762102525518, 12.422564312023336, 5.243533793296459, 20.834020212251165, 8.999946107934505, 8.391103479396206, 12.469470820255896, 4.50105309689027, 20.91090999400185, 11.918552978967666, 5.078230839903007, 8.17786054333896, 2.47606821341942, 12.192576821556223, 11.06963391061128, 12.013857458699565, 5.270169285646523, 11.786925630528708, 9.12412781082291, 6.977884661183698, 6.466550991741158, 8.272009489397716, 13.247765726023488, 10.718001573938981, 10.31337441789223, 19.341141859335536, 8.50433258696218, 14.070941346104645, 9.116973618889078, 8.602448585233237, 6.418722693746312, 1.3426904440348963, 13.816274895507835, 10.974288052609108, 9.296141619431744, 9.739749905190575, 8.343224329983514, 10.717130113364027, 15.102174861102725, 17.347311959381038, 11.03329002399411, 15.310369390388162, 11.105775173649972, 16.93475570408502, 4.952772676309048, 8.056849516989352, 9.438987119319389, 7.245902101722484, 4.10710397794066, 2.2252644966214405, 4.662744006619701, 8.236344225619646, 9.961110705246549, 4.163625547804213, 9.891300888859783, 17.54541072559475, 5.481754134024232, 14.967203610029335, 8.42664955646812, 3.2925859323721642, 6.399506744132742, 8.435876733318123, 10.139249349656115, 7.20084308872826, 13.188771262833361, 8.525826171361448, 3.360737154944553, 17.330354451615243, 4.377264075222591, 11.199446555811404, 9.163591227962089, 4.22963598302911, 7.866110995999863, 6.674315887769561, 7.717626964244062, 4.624007405764407, 9.346340367144206, 8.017341747074353, 8.32349375618437, 4.783903209666244, 5.443357888217765, 6.561022320947505, 6.014720210152212, 8.238628587451181, 8.304157268954434, 7.9960309942087955, 3.4565179625618088, 6.970812542095058, 15.245992167413213, 5.69958329290651, 27.431766849137773, 12.303491957407571, 5.980739567036999, 8.398156878248763, 4.929644796473322, 20.478054899049646, 10.268181370496436, 8.041928400485647, 5.598121954938681, 12.5100553771674, 9.847518944243284, 19.281038331121714, 20.599433317004728, 7.8187285929004595, 11.73450900233768, 11.631471690011315, 15.010519551055003, 11.991901473181677, 5.892282412663155, 9.294004158737199, 18.056354423234446, 8.869805484173506, 5.069781549770448, 18.585546863029833, 14.391817827762374, 11.02771417934638, 12.750812717019176, 4.999797874267728, 11.982906585193732, 11.042121527998548, 15.697508265413337, 9.699823201307648, 10.762914849161474, 15.613474844011076, 2.816401784172, 10.942718761590593, 10.999767389011978, 9.427331171365246, 7.967295914574348, 10.941394246315417, 15.64720205450557, 6.4182231669898915, 12.002751601146626, 8.32943202482175, 5.3707447047921235, 15.615108388532192, 5.101291669913756, 14.571863613462352, 12.129981032144649, 7.422225396030508, 7.893296316496179, 9.170796342237285, 4.35033395993668, 5.7580910197564315, 11.545641131402745, 11.723475460891684, 11.234280596906556, 6.413754567392048, 8.159915828687495, 17.66788896418794, 7.722225569630338, 11.842840314190362, 8.960162183274416, 3.386442851269417, 9.159289219216022, 13.336975072338303, 5.287753757477125, 5.57015520194467, 8.654270148448383, 5.782647555071809, 9.3678035749014, 6.6561209580673815, 13.194019805154255, 6.670676388522659, 5.368343668728669, 7.814086064488371, 10.938089341613644, 8.76358492206853, 12.463003001217926, 14.366765279541339, 8.7221154502131, 10.62790670279115, 22.335428732528808, 11.43574581487726, 12.148282367198028, 11.198126908232304, 11.504105739271298, 11.363944094770796, 4.107106338810773, 10.53621739309005, 16.25264811340676, 16.169350815755248, 12.740822891817324, 9.02991678605434, 3.953159333802018, 7.813716749095233, 12.724514674747113, 5.8118125695004785, 6.587792105174299, 22.00977711867707, 5.1018632717747066, 12.273632803742261, 12.59311751309728, 8.391166122053813, 10.856409763869248, 8.577672659831952, 4.373792051824262, 13.855193906794783, 4.119003659661772, 11.124493368899033, 5.835237251680375, 5.154478910167105, 9.619643646521782, 12.223192811055524, 6.0358986349845525, 9.727524521851045, 9.247169523949585, 12.57072131484668, 12.306241908783713, 3.8316884953983674, 12.536514222186211, 2.8285142559685656, 14.078326314177776, 15.371336293443047, 5.687719730283758, 14.077514323361122, 6.803106831110463, 10.810021970864483, 13.89366403222357, 13.890945689932115, 2.661702287176013, 17.140220180378027, 15.698878950122587, 4.67585997111456, 16.242524995586642, 8.717771249863622, 4.011084688329286, 12.009880932970965, 6.302453367672612, 15.019961251238096, 10.269578825325393, 8.967890836914078, 9.36114237365328, 10.07896429211246, 11.99942504664146, 18.442487465736818, 3.3414949479544744, 8.265494718241575, 10.042227748237766, 22.944092396435696, 9.483471073786461, 6.742441917523934, 13.704725596912839, 13.949889662178753, 6.95012010905388, 5.153093166874844, 5.581568336849302, 15.475968913277171, 5.589256960345279, 7.612867885438899, 10.922318774975045, 6.933060087727954, 3.731012777228232, 4.51353030794392, 19.592225053700208, 14.656233996725467, 10.541177472183087, 9.624907025290307, 8.505697829880882, 15.35217146915162, 9.54879329056811, 5.228656065370259, 16.064254190311885, 8.235307985146148, 9.777942581935854, 11.061869906968035, 11.708337701189404, 13.191565959238318, 4.212872642282304, 11.447022022111659, 14.128948040844332, 11.570821573119627, 9.469828053940004, 4.852812225548915, 10.776966118651108, 12.998867822754438, 4.372359522381803, 4.792849987418584, 14.676772118886129, 19.03919229488011, 6.326850952106562, 6.4467928922433995, 4.152125445866539, 10.880789058114429, 4.865266289959167, 12.479729598940736, 9.672115762312531, 6.634180702396619, 10.752576823259556, 10.892457262665545, 6.85569750674874, 2.360243188275244, 1.4477473664240486, 9.717712911093066, 5.682936967942711, 10.691136648955338, 7.6628209320667615, 4.577510985776467, 8.713159440424082, 6.1253190204444605, 9.798878783509013, 11.757990577950048, 6.886051804199449, 5.907933726735861, 4.26648266430633, 12.908901081900972, 16.439863434339927, 5.99252325405288, 6.301931533783989, 20.332460650367505, 7.282810098805555, 19.81308227195346, 8.356828598976472, 21.96190121652447, 14.074694225752491, 9.837654691561243, 13.641932382786512, 14.44871950605868, 4.014457051299032, 17.674943464858394, 14.174184551040296, 5.434432981418462, 13.955172612070342, 9.86179431491277, 12.654549476556546, 4.615680746950146, 6.758428506462687, 6.506813618240801, 10.968176971527425, 13.87130552460457, 11.118870395152873, 5.865607584903995, 12.603932353304984, 18.773089698220033, 9.33971639241357, 17.074233614510327, 2.7659054424682052, 8.32469402313307, 9.464896834483854, 15.663130712584966, 6.007057380547108, 11.497675424228579, 7.891627624492517, 14.102616220055587, 8.171794634222609, 8.837378122443251, 6.338474347540567, 12.26123796343649, 4.092202539411465, 20.671453438226948, 10.0307883056635, 9.496794882357698, 6.005114247641805, 18.240756952202457, 14.537141999262726, 9.039074387777445, 4.12609374166972, 11.825308093471676, 5.070599339920277, 9.687572943470215, 3.1023281503251545, 5.8731331250769845, 5.2128691349631975, 7.439077663220041, 7.114673234913999, 7.648016371453648, 6.219200733465672, 7.39305332290084, 5.645257208144326, 6.592368623079483, 7.832442957619188, 5.036910915226556, 8.518144095811463, 2.856789397397092, 11.740820820993802, 7.778934258717744, 7.846355736021702, 9.884748314820996, 4.481435310561248, 12.721432154243042, 16.227399213935932, 15.51209789901981, 3.51864917456247, 2.205226882018815, 26.28734145179212, 13.90489993158215, 4.140063071191552, 17.580798519496035, 16.041899761318927, 7.593695297667921, 6.550598686687348, 6.4439144555096215, 15.971308638608717, 1.9769699950211796, 9.592286771819776, 4.916535407795666, 14.278991467482179, 10.046060013146576, 16.41709114409739, 5.522333054476524, 5.909282094937255, 4.8157810030812, 14.751964252854492, 3.5877641119640375, 12.596673834603028, 8.911087077346403, 6.363085621483705, 8.204591110217924, 9.849298410594233, 4.32192448131126, 12.110661513411392, 13.598405892588573, 18.780675933830874, 14.168364379065025, 3.814316603770115, 9.182731612739826, 9.863780968350605, 4.141782971452203, 5.291822169378543, 6.0069140711929165, 14.1528450259154, 5.199061622451587, 11.45316494034886, 10.318609577968308, 9.088061404064328, 3.511301472867307, 5.429832425359051, 12.8504109203245, 14.662357721104282, 10.054071164800433, 26.516216294683012, 7.063565285446843, 17.426160439996664, 16.69015296998772, 3.1771379285309105, 10.290238243118644, 12.044043711425035, 3.9883840408653723, 9.455078359424778, 6.844232691548255, 11.13935543539726, 10.558193988520655, 12.52347212781123, 5.859972925774452, 6.66867225321843, 7.7625814717559285, 16.150285917046237, 10.739817397949297, 3.9592652460136026, 9.607169504153665, 9.578132163463966, 13.55647413906117, 13.056698930574353, 9.398260053985611, 12.102945526986444, 13.761881684338029, 13.80831535281974, 8.149773804714085, 10.509176811897833, 10.205564780139559, 8.273564749480547, 11.364952660586255, 8.37749533155083, 5.3676614440429296, 5.857570715739404, 19.952759526856855, 9.051645253341333, 8.55970606330975, 17.509748766336443, 6.5571487413718295, 6.477441335278444, 4.879042720103274, 12.137445950231093, 8.057422293080373, 17.71181401562044, 10.407915071737861, 9.212367204242273, 3.3299252999531994, 15.853121509316415, 6.163631457762351, 14.822856479166179, 12.642963066665185, 9.658673767604839, 6.173349998269193, 7.047828353601558, 14.135974952470104, 8.41281568698618, 10.13522138172286, 10.04439837153391, 10.708381784220677, 19.86027359586356, 11.985323033441208, 8.68771425419953, 9.525024350403015, 8.029556924962648, 6.783419241498583, 5.946677913817562, 8.909598874024134, 6.096518235724187, 5.403300024662155, 6.826180099575667, 1.6106116563965691, 4.025844922650786, 10.654686275394328, 21.691543304244057, 8.318583838765045, 4.765170732664603, 10.184101280900215, 14.26544649500736, 13.50971527389499, 6.561866225875955, 15.940336252630207, 13.41286941546863, 10.268681118634023, 7.854894832489135, 23.698541101602892, 7.595868609376479, 10.748678894136054, 7.57095162697004, 5.0784026873800165, 8.98250938193831, 4.194560986108114, 4.62192662792116, 16.279317244026345, 6.978651410233156, 13.572519281457906, 6.012370543737241, 18.894134427815715, 9.583687604970642, 10.339153889891273, 15.596126111500729, 12.595983704073126, 9.576211890154893, 5.870293350762019, 10.299297246674662, 10.534806819602395, 12.90115498106796, 7.843045769796433, 9.179960343147464, 16.322362741578512, 8.998297985245658, 8.546065359822313, 6.987912239107541, 5.901186639081827, 24.037148143556955, 10.383618320273953, 10.631627041152047, 16.79733051805942, 15.221769232314072, 8.594787486281767, 12.992863999462386, 7.085284561699741, 7.889218637570437, 9.061135355522975, 9.0422808998921, 15.720463989595167, 4.72590440790033, 16.474972409827547, 11.859697449448612, 6.551051509431036, 10.776287621503034, 8.290833560947537, 8.382358880167967, 6.850146423322665, 8.2446145514117, 6.970539999189123, 9.02649140580181, 9.364137883044702, 12.773435676496911, 11.269755804946538, 10.167011002627008, 10.433491431058272, 7.468374111685692, 8.455050359803128, 9.261223116667995, 11.11194218139395, 7.832434673218124, 10.58597521995031, 7.71567319750004, 13.866493298854353, 18.384130187232326, 7.485366557585118, 14.046307390153508, 7.347349133933406, 6.319457813361208, 5.227457938882405, 7.503456634252349, 19.819374187800978, 6.8551841446908455, 9.533978246039947, 14.559992201103226, 19.51157030994449, 11.316652379240669, 2.8098070860631177, 13.775282785692314, 6.721130010599146, 7.306364268724596, 7.306920413205019, 14.161728476660109, 25.729420581257216, 7.219730878011472, 11.710161884036165, 11.872762485992236, 10.563842933876934, 10.929779458388388, 15.250488326939166, 7.187627307562532, 14.98007413201595, 14.178201278973852, 4.819967559442147, 12.909772492242713, 10.25139294529699, 12.047450341677209, 5.17766472471103, 13.508724907947359, 10.62882063963399, 9.81268965828588, 8.52691620842398, 12.169056193167332, 2.522006394493291, 5.562839292080713, 13.42955394695513, 14.531263988695894, 9.18698772439696, 16.56861880407044, 10.090903144108134, 10.410650844908975, 24.099705701364588, 22.329999965435587, 4.692565324024658, 8.556759043224686, 16.251689677816387, 14.891532794666954, 5.446853788904902, 9.286286944563305, 5.72969399568078, 5.015031402851127, 6.014145749749894, 3.618849906664466, 9.356234091269986, 10.286607097736818, 11.463345460169386, 25.11327698675654, 3.4072074734952285, 5.258882793446956, 2.8316672561872736, 11.601977692278188, 6.4943243142942695, 17.81966390524719, 17.235065045138523, 5.076141555147908, 16.441454049817004, 7.277826840434173, 12.082122090230374, 5.860906907854043, 14.372202849569206, 9.516798351903372, 20.62549167354081, 8.56363396583876, 11.907960988939598, 14.005250941239694, 7.689021861317153, 9.710936634048423, 6.537872643844865, 11.334760547558261, 14.68483083176174, 4.824020462227191, 16.924743464806518, 14.186696281761604, 5.839750745785056, 13.28346083414183, 9.140201994124098, 15.014631017807305, 8.1435838857456, 18.768281907053066, 17.113104469916294, 6.93394535995632, 7.615990433427708, 4.092951379926634, 7.358445177793078, 9.93684519110099, 8.363995648900554, 15.328299563175948, 5.003662449390973, 13.037050660970426, 8.06296487279594, 9.358408544855212, 5.0267171620283815, 11.542509339647845, 5.968300480111525, 8.421769478540686, 7.9431852037574915, 10.967230117434323, 8.908607976468241, 6.210506788197225, 8.399592115938502, 11.098602735184793, 14.909736136889325, 5.9417787652560685, 7.6899661497242, 5.829843387431888, 6.460577590866322, 5.587134587582505, 6.666509344833269, 4.70775105371503, 16.8924979893794, 12.637107417547965, 4.329071563439695, 7.033127546255875, 9.011866435387871, 9.829928757767798, 5.447788152825588, 8.367726362597878, 8.429457965270814, 4.01888408587471, 8.742745225624297, 3.2324218659182904, 6.057293549963243, 12.231580572567086, 5.396913982148833, 8.470003184086885, 12.255957663704722, 9.32004169333164, 10.14076802123191, 14.371909345696725, 6.601169018461283, 13.167327470908054, 3.5431200078566096, 8.38130785845908, 15.970649035168298, 3.253315143708995, 13.151656982112183, 6.807297745553715, 10.700919792060397, 12.766738414312835, 15.49241259088161, 5.683482189413318, 7.262327670806888, 2.6339865511931, 13.590567987038211, 6.430061169115304, 6.41725378589459, 4.697841465067219, 10.89535386272768, 9.411251597369887, 6.441513910760497, 6.503877341845665, 21.06800362562333, 10.941319683497644, 7.220129048730451, 12.321599096664793, 3.1318701081530946, 2.793861360935428, 11.203646734090844, 15.052342455181115, 8.086727220367726, 11.088127974470037, 12.544584410683994, 12.234320088606585, 6.81327068060079, 16.23666050031842, 8.581218566986605, 9.683545525284837, 4.401577688171663, 9.951013631382647, 6.064104130902273, 9.691022400475214, 4.4486385193548355, 9.179348297984825, 8.568697934808508, 4.297213805267155, 9.438136695109176, 7.617897170220754, 7.98503591615707, 11.547365136024908, 16.816233385714114, 5.299768208558149, 7.211930479621928, 17.088066322982325, 8.391814124508453, 10.787566265349465, 5.862261047294988, 8.998413948177127, 6.422310431759241, 7.080418838557404, 4.529907014544727, 16.203023970210083, 18.401558522227507, 8.573187173007943, 12.870148479862639, 12.226977629312882, 14.36604310362648, 6.3241124449198445, 19.77473529902684, 7.034628675859754, 3.1066855036101098, 8.437607079981955, 8.724431881108863, 10.303240394908702, 17.165338145397357, 5.415125021836439, 12.763438867712827, 7.1747293846607185, 9.531437615320465, 4.48278966058399, 12.167854345166573, 7.584158082410411, 7.385084613921928, 13.808059561501699, 4.550027400817275, 14.661154415958944, 6.078055904313757, 5.665801168998945, 8.196625257416022, 9.265752045830393, 9.647721373234845, 10.610838581297084, 10.073623224764152, 6.852493291944728, 7.212256063358702, 14.999999117924633, 18.12533557294727, 5.611853224527734, 11.118216569272843, 9.373572813922337, 26.058379709147864, 15.89607697247433, 4.058590451178536, 10.526683563233828, 11.427832710443377, 8.878086844249404, 8.867369485040154, 4.249339759264584, 26.825605440854883, 5.33554691228253, 2.4064508092778807, 9.616432593926033, 5.773699951145149, 8.869841496332986, 5.965746350858929, 12.539209033411877, 14.544968891226016, 13.651630843643698, 11.55136558124198, 16.84928726958162, 16.297611092685834, 13.659419684117385, 9.968954081706023, 12.157950603441856, 9.598043540656688, 13.890898646477051, 15.743416696519954, 10.904265391508261, 8.043386800345505, 4.141577390711893, 9.057453160097655, 8.079831346973128, 4.698146361677372, 4.437364620867314, 13.195135537475373, 10.255410767512911, 11.399358781245644, 9.27447281246509, 14.907918583996974, 3.6659629841681287, 6.8647441877129705, 4.9011877017906675, 8.00361166674491, 8.088408216757736, 12.79211870180274, 9.320119295809087, 6.460119083265006, 6.168526775713982, 28.089850960155683, 5.793621885915977, 7.678330469231779, 5.843964736834619, 10.377380539758208, 12.874878557774078, 16.207683815981664, 4.308806606957692, 18.356485539207092, 8.475392641410068, 6.424779121979479, 6.683611743000138, 10.99512548079843, 14.432115875426977, 11.668573810365839, 9.628194311865155, 5.82371910825809, 8.424920645931424, 16.56947367184995, 10.595660902189433, 11.750337271368666, 7.679576365345831, 18.07259135090974, 8.300559146140987, 13.548924427814343, 8.931689133263404, 3.1291731458524663, 10.453949366608812, 12.060321960729013, 7.057394182825439, 21.098492215912362, 10.741011465823673, 11.26982070553426, 4.49182046538246, 2.473104670040988, 3.583897837476745, 4.86585569278105, 4.478276147526896, 7.606944560136535, 10.234042117360874, 8.421732146654806, 9.416799961037439, 9.356748738184713, 17.970633311389182, 6.783408389928249, 9.331427905560945, 14.051246849594452, 12.141298098648916, 4.97647093172098, 20.61472067663233, 11.950980257186554, 10.77717214751576, 12.046633275094443, 26.519465700135232, 10.305593497805903, 8.49709083578041, 10.21373823055235, 12.214183293878481, 6.407275893640958, 13.639333485026286, 6.28286331879149, 11.82173432110891, 7.424701877803773, 7.703387763718883, 3.827307067567918, 11.730707466857167, 2.813801610876111, 9.922086903408042, 14.44974353378312, 7.436409720769371, 7.574199899522778, 9.999054746876634, 10.53726019182807, 11.433639035762189, 9.093705681355953, 17.249501248711407, 6.041934648300968, 12.581842672326033, 11.684603666629828, 5.877133875517255, 16.20041478736188, 17.683264908491815, 12.055060509918672, 17.084904756379537, 14.060146609058862, 7.090849620424383, 12.854503536386822, 6.914554698143713, 9.633586890656325, 9.978007369404096, 6.047345687269166, 4.5721005376413, 7.374711554279718, 7.123888202478302, 13.958983261330209, 14.536480231549781, 3.8598519141565664, 5.996123905030792, 5.146996511782864, 5.236963360921606, 18.3600652232733, 10.117311273443667, 18.387402254406506, 7.033772033754212, 8.665317525193863, 14.452420651840509, 4.251477516004294, 11.432123723295993, 13.061065539761262, 10.66056014303126, 8.695095019169312, 14.375977467356522, 15.637058458933351, 12.609291384734593, 7.969490809353448, 16.153458959860384, 7.744821851604383, 10.418669192214134, 7.7860829212034774, 9.15622373168597, 5.437081077249564, 13.043372016653683, 13.40675988603062, 9.557051254408494, 2.877165359763535, 24.696905139201014, 14.826316886831838, 12.0324243980839, 6.348155897357174, 8.410502157891067, 5.155962419192254, 13.048588409691657, 10.377886699573784, 13.856358500995125, 8.31482475135672, 8.940837441180257, 15.468697980514635, 14.485709140977459, 7.4998438710211355, 13.872777473690096, 14.63096953408637, 8.577861076854028, 14.883199963788016, 10.081840887983237, 6.3902403857695305, 13.222042587753917, 15.518914001030533, 14.304342188031821, 9.601574798944023, 8.813971327548735, 9.922792660355427, 12.31807440120682, 11.835472718546086, 5.536828865402985, 13.416350550679308, 14.160158188397295, 10.239695880277665, 10.972769742945653, 11.65748753774184, 4.152297619323563, 6.585725206721761, 12.227794564370289, 10.343902550854223, 7.031007162939185, 12.628815151467254, 16.175733191075807, 5.492291187323394, 11.29835462859058, 13.708916094054693, 6.131895120985537, 7.670377001277778, 19.054388245709045, 8.557765683180067, 6.193189734727343, 14.853461824740474, 12.941036479270705, 13.114654440942296, 10.24776292596373, 4.847126152939843, 9.097992267692227, 12.092479730240754, 5.983915299627302, 22.0025241205526, 16.297101342109134, 15.101075049679071, 15.464646520425203, 9.345851718130797, 8.216613129626598, 5.683071995342418, 7.943085087993435, 12.120632985403137, 6.689193185516256, 16.301283232846355, 3.199546576434449, 8.979076953514687, 3.1112729154064, 14.871116353064725, 14.006550229188308, 15.095290089307062, 16.145144129193348, 8.507595861494494, 9.629978618435317, 18.90153686996934, 12.488660858655228, 4.418249276178421, 19.309748700251106, 8.25323626941196, 8.44993576236074, 10.526428536366108, 9.549251267421196, 8.266492421985028, 8.65702328734717, 9.364311024187318, 2.2030937887006683, 4.3699078265991, 16.988545133090703, 7.166681014461404, 6.885228158020174, 5.7894981668772285, 7.861333146491595, 8.413074998452274, 5.274282620646307, 7.412892537808674, 16.48378231448985, 6.2194609839371475, 12.084398350949332, 11.319818493371251, 8.984349322709935, 8.047240901707328, 18.769096155415163, 6.809982689920919, 13.053638252617016, 10.90583784850483, 1.905648804032455, 4.309193937844194, 12.636742267261651, 10.823206074422647, 12.148014760346578, 26.545629644657634, 3.4301023013086804, 9.565455671340567, 9.222445442609363, 9.408394160749568, 11.86804297133767, 20.296186359471367, 7.234212228361575, 3.8575519608718434, 8.700916649658748, 10.575804794795243, 16.772285887109373, 10.013807810671242, 9.97317679192206, 11.275087889478254, 15.28589208143385, 4.754150199264669, 5.242554790571784, 6.251516525597693, 7.406461642028887, 7.668695632969645, 10.389944750889105, 8.343145411848738, 15.210423035498557, 4.17952152448212, 29.106310174251803, 11.928976967589666, 8.481337292609965, 8.212615326931418, 6.1211517443340755, 12.019605309072633, 4.970343718931504, 10.521543898099175, 7.077126768673404, 7.328350200327797, 9.376527777702885, 14.256107248865042, 15.490863194725023, 9.465037371904625, 4.7603261210767664, 8.75401970974857, 7.451573866832063, 8.342226432965141, 8.552504187161155, 11.793580251351253, 13.21330028466684, 11.197698931121893, 9.340957643339717, 10.98943160790008, 12.326342440731947, 14.531859121547358, 7.660638507555893, 15.106756562988854, 4.080246488330468, 9.684129891531647, 4.384736915008507, 5.677351864713462, 14.254502928427534, 14.590622007252902, 10.241886346748155, 7.954876995591892, 2.8341209732617507, 9.686692586367878, 6.069644421723307, 11.667103214000806, 15.136248559941432, 5.571546748715166, 5.449795628735616, 12.868084262193095, 13.286992096260933, 7.792568545338366, 2.3164137120501582, 12.15821896268008, 8.101883225106127, 9.23169673183662, 15.74581865740244, 11.965243566941714, 12.808754954201811, 5.883898251258532, 12.274847772074308, 5.81494793764582, 17.502056863972438, 10.848593603600706, 10.733947636048065, 4.153877910505275, 13.388324053455623, 15.511649080147416, 11.498516144367143, 13.731917603884868, 9.641113438341891, 20.066439573642015, 15.88896041337999, 11.55364820970259, 5.36444009697397, 11.813941486810748, 9.978915783990354, 6.774759355364102, 9.997134878933387, 17.855548931511322, 5.401688291799993, 9.601806442276912, 8.21065795190526, 10.178769629128523, 11.153661356377444, 5.331200324861952, 10.08276419869078, 5.95272550878624, 16.226486207295377, 19.692890273566334, 7.372071887341443, 11.376911261736383, 16.587858757311427, 7.5260082283581, 8.291238256538318, 5.388269311446881, 13.188043900371541, 5.841173604829897, 17.736155825156402, 6.283814666006933, 10.493385250132462, 16.366565931553584, 15.29556397954648, 6.518673531963053, 5.841704755543534, 8.376191333391613, 8.731734860425126, 8.605932229788934, 10.052132578795108, 8.245451693784526, 10.67223004483302, 12.591008007223943, 9.094359877170938, 7.809320043732228, 6.708086701253276, 15.648658608082858, 4.122249705234951, 9.295211591038488, 11.47301360523479, 11.784098197878851, 12.783879353770168, 12.834670059681633, 6.276440782508315, 4.184325136496528, 9.30703145287304, 12.667805055727897, 9.23753463473545, 17.269896998374993, 7.720078120931798, 10.273206767794216, 18.408178628720485, 8.033083780861302, 5.0692938035331725, 11.082122101775838, 6.849176239022218, 6.427154648185775, 10.5718430116005, 18.030714352752405, 10.077341571462629, 12.782996921719288, 10.396398859870024, 12.162707691587544, 13.430602988043491, 9.148781876096624, 10.844170697107772, 4.380149005313948, 7.155285586730267, 12.510158580977013, 11.375141524563757, 9.385987881880688, 6.571528273996307, 13.88062788707401, 3.9117552610411, 16.367865643661514, 8.593502402107115, 13.552734092405476, 9.272764043007637, 9.107551035194625, 10.278071186748637, 10.694463750129453, 6.952395290261389, 13.86888835679367, 14.500892042297767, 19.756492840619615, 12.820954399196124, 5.443383382815353, 4.565133477800717, 11.257908150940406, 14.47865781341935, 9.087881231894674, 7.079232881742516, 15.945161634122584, 13.675089781181459, 7.1030088727000145, 13.128236466183447, 5.951551225605498, 4.469943224874908, 4.828925649244003, 6.669746338846082, 5.289384336031223, 11.546926109539461, 14.711000041807408, 14.274777394602168, 11.527750456632376, 7.026281440303518, 3.013019218185751, 21.395819189867254, 12.831255548293337, 26.45132703960669, 14.15107688367551, 11.690049485730183, 3.8677063452783083, 7.184991465551061, 8.084343959184274, 10.832931396443376, 6.3517457316949955, 14.794422632461796, 13.284596329296754, 5.70203966505184, 9.599110965499252, 10.193590392395304, 6.77870056268933, 9.028426263227137, 8.005272343035985, 14.993577269020095, 24.620439312236496, 2.9740923565759947, 17.0093793871049, 6.603343171209298, 8.259330520473965, 12.094754193372845, 17.917784222003924, 11.760504064938026, 9.774647447445904, 6.05057653740308, 11.42611375285001, 5.893052704257509, 6.829979573453869, 15.427663430292526, 9.23555281933082, 16.439594758983315, 3.649018889218834, 12.940923802740757, 8.472445816544775, 8.317305476395845, 7.391493000677634, 9.714346453929652, 10.489757682588158, 5.055269790148076, 16.36053945592526, 8.336461291630082, 19.670002629777667, 17.348740614406545, 2.9242172317437336, 7.477975879636952, 17.131940665862597, 6.197247584740518, 12.850972136179339, 6.753164565376044, 16.857866033232526, 12.310422085864282, 11.891160150026993, 9.138888295562655, 9.272954366758066, 14.855807353047402, 8.985386332129943, 11.308512070457512, 17.271891340283236, 11.712733161902204, 19.39923060975735, 4.426588834847305, 5.51450385386414, 11.556474997642992, 20.32594581447922, 9.85666853671123, 13.571896597474272, 6.59949511910242, 6.820895520449347, 12.19885634750208, 16.40714838679538, 20.206208344699466, 18.204085677515288, 3.7135095250421415, 8.730922992830694, 14.137522521305565, 17.72212680829181, 10.964002920532979, 4.780383621045464, 7.2309631339223035, 8.693437051580592, 16.674049630391686, 6.597665888629151, 4.782298018306445, 8.881141479102663, 11.62779569363216, 12.259740651999559, 14.641832928805037, 8.474678494197676, 10.994380556275352, 5.0132506897992135, 14.202769212782567, 5.34108748058573, 6.314880695894493, 11.410114557198138, 10.885108495506067, 11.246856601431325, 10.741567044949393, 11.24743189549929, 6.991282224561141, 4.297856120935386, 18.98744810207835, 13.20676679554182, 7.3753683494935, 12.255101763805772, 7.050815905083654, 9.91668607205141, 10.312330688034997, 8.444316579373822, 11.365320126881164, 13.16891226273156, 20.5133073079305, 6.015462451234884, 5.236106719269408, 10.152554142761176, 14.383113971076545, 3.9768140125684557, 8.880959199648329, 13.403630737479427, 12.846865081069948, 8.632469800340521, 9.415929355325838, 14.991923347592842, 6.494890789429394, 11.529892510702265, 10.109341309184632, 19.778291304955307, 7.182642289915863, 7.585336561899772, 7.78595100858818, 2.950180328919888, 6.0256761092055475, 16.10219327914509, 15.983191353549591, 11.481564121517897, 8.27732353330591, 12.863546438472563, 4.489323180665648, 5.824947912112808, 4.595082887439899, 4.687476242078056, 4.872505140778795, 6.192886805295204, 10.9335831533257, 20.63754583106495, 7.16254081289453, 6.228301617136827, 18.3366751642507, 1.9534827324932713, 10.996099837860154, 19.678169858350238, 5.008336057052926, 14.00478130994039, 15.969200982302624, 9.103889399990345, 8.424818425380295, 10.4621034860928, 7.553900138146031, 11.38678974006496, 13.748329149678181, 8.733518816241535, 2.366224310428413, 9.622020542928704, 3.999741123688402, 14.510686135348246, 16.05055414513059, 14.432208797931454, 7.199620579747142, 7.5081470354556, 8.327661845525766, 13.32468337745292, 16.09899762470438, 11.668611899534495, 6.778041885524673, 15.281302289011748, 22.363458759228497, 7.953892349600574, 6.115130621144567, 8.343137626900882, 18.93897217644898, 4.558720085649778, 9.475960685903383, 10.129485617951012, 8.887219966713657, 7.636443933374876, 6.882234803779371, 17.77971119578011, 16.440762690488494, 6.566090857461773, 2.323695075823567, 11.020701602370993, 9.453261819053614, 9.729674804618297, 9.960245182256076, 19.89407917959126, 4.205620821627362, 3.522375013053803, 7.036246271672903, 12.22139716323179, 5.896221835213144, 14.095914227657769, 4.374509447535476, 7.697335410848607, 11.567225170025557, 4.574591907829957, 5.146662898358964, 14.916668536706812, 9.410395638583672, 6.927540089598942, 9.160826931403493, 5.141261785702918, 5.351700816661422, 14.401539007017256, 7.370832636931907, 5.407551630924132, 10.470426339931276, 11.792161453417169, 7.690226407987264, 12.899751677487247, 10.995920204151288, 14.535896795431114, 10.697246943323421, 6.654990653379859, 5.998795479104028, 7.48547876397111, 15.407554432520913, 17.291859196367138, 9.747758559670974, 8.30765003736316, 7.888246008710089, 12.185501412116988, 9.217200557078533, 2.122276754799463, 8.507512753806322, 6.089564997620203, 8.92757846471637, 7.465214970095524, 7.894855297943155, 24.778789318155663, 5.887546061624603, 22.008513933402654, 7.134996184997685, 8.241050730763622, 7.1419035470188215, 7.1210676241285755, 11.815456401047705, 11.05014241292655, 3.3989028289921244, 6.108253087542073, 13.590730714308103, 13.723477405561047, 8.237402982865339, 11.058826738980345, 7.031660282897743, 15.61607734817837, 7.510171506813072, 4.711997379113048, 7.054024437477451, 17.855411526713098, 6.460723810328005, 14.10093947403104, 15.18266602396236, 30.618688132727975, 23.419029170138604, 19.76006186959709, 3.387604080189857, 10.891573890089196, 12.969526695700274, 9.730732794724073, 11.936732794110096, 15.712021553729208, 18.822713755834403, 14.783317579820222, 6.521158082185013, 16.868499588379507, 13.300003506478408, 9.594117272556893, 11.945253469076393, 16.111909789539194, 11.25377966037912, 13.943894172661153, 15.217633935334426, 13.714793725073148, 12.07117290755815, 6.447742542178539, 3.1128121614883453, 4.136927003030577, 8.68419514599606, 12.446099624529168, 13.185813516706132, 8.792795711441498, 15.259803120261752, 7.62908551484555, 12.842862863573565, 11.607919833237958, 3.9705410890051525, 8.353802480526888, 13.978566593090553, 12.973039452998103, 6.643780174083776, 6.015955572602234, 7.806812073428183, 5.177935230568717, 7.2382822340929796, 20.025659407805087, 11.987609879199853, 10.639701926607824, 7.496096137663546, 9.734802800169449, 6.368456012519627, 9.283406639765746, 9.322175049913568, 9.73714140406572, 7.802667957839665, 20.276463995263363, 7.287672833073955, 8.342419213204328, 13.401569860869802, 7.51198293708983, 17.421765682370445, 13.33385924968115, 5.295977344087759, 11.068180723097564, 9.199282104381398, 12.777367921639877, 4.708657350223651, 9.621287773540269, 7.25382593830763, 10.714430305924376, 10.435751925393399, 8.08208143825101, 5.6286685643580645, 14.286236181232098, 13.740542702086223, 10.337587900542564, 10.13874554347123, 8.463824699156367, 10.83872641002953, 14.195365161116422, 9.544601355940445, 5.53795242311993, 14.942376542360194, 15.95026700661818, 5.073420486954419, 12.343654293993485, 9.274715757753848, 7.034377797941113, 6.994242135697159, 4.876809182689292, 10.126925152585551, 13.657080827579257, 15.035410277631094, 9.277994808716945, 10.686109002550149, 12.000042419655438, 5.608909640249465, 10.21493200574554, 14.585682701837944, 7.716529906025409, 7.8194738566469955, 10.095631635954053, 5.204824330587895, 17.599523514985083, 10.30134873675378, 16.926726739927076, 16.831122399008166, 8.39160198772019, 18.01342074854891, 11.88225446601288, 6.2072374221738835, 7.503916639615984, 6.510266694281442, 14.357374124312463, 8.54841661591055, 12.345361097307215, 19.432922524543237, 7.103784725218452, 18.67940980728764, 5.605668370724571, 23.588769083507277, 22.003103791977875, 10.48158159154828, 9.78021127220989, 8.055383215569615, 8.974312047189736, 13.72748751016952, 11.782050938815852, 13.447131648559706, 8.66506729933333, 6.508338946106763, 6.997219672375226, 6.044754470316211, 11.972096264185295, 3.643755260998863, 7.451132924181134, 13.208286291652003, 10.832376185087547, 5.40043156571514, 5.4517929467934625, 6.89954989057511, 4.162235281920757, 10.470700887706199, 13.512183481914736, 12.608228653890682, 6.97993807801135, 14.870734308620637, 5.607717757928585, 5.564590212430555, 9.654373847559087, 3.224877160050586, 11.696237534397646, 14.459970380697776, 4.559256363131357, 12.699717282644054, 4.916144459731331, 12.278772902996835, 4.370293098434608, 15.686234017667077, 7.585686703555334, 18.209828187034503, 1.342411570235551, 9.311803007677604, 8.522390049883132, 10.809626259617456, 7.871823329572201, 13.667846856123642, 6.276498447515564, 10.249842503032415, 15.748674168498018, 6.146384068345378, 14.243954761857227, 5.651751364344654, 21.474577185943648, 14.12393582433461, 5.816020149639082, 16.466776780409305, 7.608837556200301, 8.406350822408163, 10.273406546017299, 9.218978524946086, 11.513359629680814, 16.929479011395607, 4.970165139683068, 8.60371700752009, 7.085284773896462, 8.575118218862317, 14.503056775717832, 8.683682985181996, 9.347022518032604, 5.551052509015265, 4.196733152228474, 20.029097751671426, 7.987206565822845, 14.474726919665951, 3.5189385424927204, 15.038988549476166, 5.7557994614382, 17.09324810664768, 17.88218369707816, 12.839466721660639, 12.175470278804871, 9.170495337204477, 6.7712629218337765, 5.616232111745284, 12.50620890621091, 8.32831140976832, 9.744789238469703, 7.125894173395546, 10.086102592144918, 4.796896719350141, 20.21906152901532, 14.713886250797083, 14.861727928288188, 5.514683201269663, 18.77226844769009, 5.983519627253989, 15.388466114910509, 15.973588852999946, 12.936013503763144, 6.592198142262313, 11.455548230268029, 12.013827981701091, 8.564073419175909, 3.703665610081076, 12.759491168551744, 6.425101104765755, 12.680905632311148, 5.846492821801268, 5.957424856147449, 14.178868347029402, 6.602251603395815, 12.078529638582523, 16.29799559273469, 11.697641207050903, 12.030287812749478, 7.394901045850532, 7.22453837438821, 14.502122148184466, 6.348049707773522, 4.635147172851856, 8.15664555072588, 8.679985396762293, 4.8971090518356934, 12.089539766875102, 16.10347860697239, 9.91695962598148, 9.696193396495687, 20.521545096187943, 12.340792791397966, 10.798186764745315, 1.4777401564103152, 14.932092835123292, 1.9588840959450577, 11.812567357367461, 12.18194916061313, 10.230137704500379, 18.327521796400355, 11.792722750606355, 13.858777174670621, 10.488955772590943, 11.471340061409744, 9.792205672037657, 15.124030673567589, 8.025950366993165, 12.24951207928016, 15.612258461972546, 9.771684970939498, 7.792954090215182, 3.0770848568715725, 11.236925648570434, 9.838886644267564, 17.068345497582133, 16.301413880289708, 10.254890042555225, 5.794036979271991, 11.438649546429527, 24.411252605096475, 10.489059234855278, 9.964360501754681, 10.230291053777645, 12.527411821325845, 4.634122804403023, 6.492546500377574, 16.061141055501782, 5.585564990304543, 11.89100700283434, 13.06819093607007, 11.123025165404714, 9.885935445284668, 14.059603867436326, 12.365686203257827, 16.546923560632933, 12.710652896789364, 9.91619975782969, 6.704835884336357, 12.624597060330736, 10.475964605292916, 7.518256076301593, 9.127486117838616, 21.12870403594939, 20.916567805121694, 14.930581996954132, 6.437024316795787, 7.054377721754882, 6.739588246998145, 7.436551060614055, 6.6303097829301185, 6.775138492370207, 8.495438874653464, 14.435743120719856, 7.35778629877429, 5.983305183849102, 1.726287726810471, 6.2254809557906, 17.784748019397654, 14.609773712133633, 11.636865170799037, 9.30165731137845, 26.156280751822145, 3.70898732498874, 15.595670009000727, 7.790384891851715, 13.787973436051123, 15.586176950521793, 7.926019991501391, 13.91220774549328, 11.775980370268424, 5.538296611812403, 7.890474293938208, 9.574793381429364, 6.262488340870832, 10.010243562658788, 12.001325776088779, 5.029489574401387, 14.566270430969162, 7.436116736342221, 3.5961252214756025, 9.689554083361163, 5.669659299773712, 4.899256925949986, 3.479504022991551, 9.969979139351116, 8.348863777991083, 8.918670474514792, 7.97789391698263, 9.791844875870014, 8.225695666176424, 11.126230254977477, 12.244778342476021, 12.495662307583125, 6.783362172816371, 2.415438590095444, 5.401149419307801, 10.99712483882599, 11.458520525171059, 2.349669434625756, 8.845995655339024, 10.240567887767268, 4.979865416470591, 6.100345737972369, 8.541382258663557, 15.234488834145557, 5.8190202826660915, 10.832140700995533, 6.390509029561135, 5.698851285196209, 14.490936095091985, 10.602444549030954, 7.833318126074519, 6.161176056475588, 7.367898126020859, 11.447513507635223, 14.900598396617635, 12.69885739268292, 12.04183730361164, 10.464548832267756, 2.1397688191359188, 9.384163071492841, 10.014357371519498, 14.4827719869667, 9.80757500857202, 17.64566678971584, 7.2094611035794625, 13.633267920672239, 5.319399587682781, 10.1790205136051, 20.281803373802312, 7.026581041168493, 10.665120127326238, 6.6404203469779155, 13.831108144113488, 5.3558504920018795, 6.120231116043597, 14.841070181095255, 12.015016788994545, 7.085062136569368, 8.215544699871494, 10.806693902989398, 3.417822951589528, 10.670914960529034, 10.727089375259737, 6.205683758593628, 13.155015167325551, 7.950361062232222, 14.127005569419559, 9.780058785345101, 10.162629745505386, 13.193014023011717, 8.600626757085104, 16.37219086019683, 2.7890782934856975, 5.566516863814784, 13.622474618298146, 10.008078012894185, 3.3535561088513592, 9.905202942000818, 8.417824165470979, 10.37032307134059, 10.48985495932943, 4.1219686771531086, 11.174916516261124, 8.00108060732557, 11.890284938221193, 9.14280713100616, 11.245494820548432, 7.299035808105913, 5.506171262977879, 20.582623461257285, 10.169488457136323, 6.336500408017726, 6.658336850335106, 7.7430714337028865, 3.9618376052957687, 6.277860174762076, 9.354888022932364, 6.061491778104475, 2.782230866022775, 9.796836624000873, 7.961801624496865, 5.1835582596650855, 4.484648525953949, 4.25282894397306, 4.083848222965312, 4.781726186941891, 16.411693903952326, 8.132308245911041, 9.794983979894178, 14.299644007539891, 12.805775979910164, 15.37064549076117, 9.230252833704077, 3.78494813163203, 15.355213711598715, 5.139390647108549, 5.82220000341552, 3.1628012482576158, 11.039616356101657, 16.871317679358178, 16.949230831904714, 2.604016419765466, 8.851479903063407, 14.259493350311335, 6.634714919904571, 7.074310578371724, 9.994138883359923, 3.4454873706018945, 5.505332507451275, 8.3726294233568, 10.261739925473226, 9.139265728120515, 4.916305802302007, 7.385032396145341, 7.541475791277975, 7.016232530642855, 2.741150928804776, 4.642555485834643, 7.061421928352599, 7.493189236227776, 2.4525079070959332, 12.34452865184368, 3.5316799303783766, 6.205743410986161, 5.019633078367359, 15.716063864369803, 15.171137615039804, 6.736038526230929, 11.723342053008935, 6.408507730671286, 4.855634150731359, 7.4384253383466605, 14.01966317604943, 17.156142882365828, 4.553202578173198, 9.978778618979193, 9.860030818158043, 5.493745651199865, 11.205689954252252, 5.129129067245521, 14.843346874696065, 6.472505149435054, 12.643497696091181, 4.863724107309493, 8.02668644585198, 7.488601559711566, 24.48075812577948, 16.855539946884797, 15.41311147863567, 6.778950135293621, 12.598201415704759, 15.02380586052186, 14.29921983204189, 5.002169809971579, 24.36790970931237, 2.7390174568445254, 6.876255732108191, 8.32135319605926, 6.240612485354034, 13.980371807758882, 9.700041087644257, 13.478389483367357, 18.042467779917637, 6.814205491314831, 8.328314152772087, 10.145534549470586, 15.44026243827327, 11.738460760851641, 5.569728206611096, 6.734914627748358, 6.243124731012565, 5.580016611108954, 11.594469824664632, 9.884769860639679, 4.27436050807244, 9.4196935458964, 5.032714684735063, 9.854140754610022, 8.34370491078356, 2.4437262194384806, 26.310264606596622, 14.629945017955809, 7.644103553712026, 18.035496765595724, 6.883084132499742, 16.229734344220986, 3.8566080585710796, 16.03028120678599, 8.151597780012176, 9.78813571777306, 5.532992495704199, 7.511526844943565, 7.268395206396025, 10.01531170213988, 9.464212482236029, 2.7228338589445564, 9.451319053253021, 8.50739744204702, 12.228541807450167, 5.98367677781882, 11.869899985352184, 8.027487575392648, 11.194353013504982, 9.161851476465364, 5.3540086942371135, 14.92681468133193, 4.636559276632879, 5.954185742263016, 13.771284832482346, 11.94466499353208, 7.778354132887903, 9.386657743369383, 20.961338140099908, 9.770197448603872, 16.147975706345626, 7.7589889902435685, 4.731600107964752, 10.136456046000221, 3.711006869142167, 10.909219208034191, 6.904189071527714, 10.410853773998491, 7.3620665605343145, 6.29494321961492, 11.738361311324093, 9.140907398985794, 12.388808566540876, 9.868705040570044, 12.737129999781468, 13.745835908367347, 13.936596242352715, 7.954080164203366, 11.68357275011267, 11.546319530395653, 7.295171161123121, 10.52383528547626, 10.392393099876363, 7.770834549581238, 4.783703790895377, 5.1027573261288035, 4.227359838310821, 5.384429280478362, 13.403283545129238, 14.861666620911842, 11.288921613826481, 8.761152041242342, 7.419093219364981, 10.741663484758956, 10.392997375554996, 13.14518767872759, 18.83567595681262, 11.806507376894832, 8.530501730284291, 8.742663868728759, 7.058873975450259, 9.296024441274241, 17.98283834349841, 15.50022926319735, 6.903095801631491, 4.686928313087427, 34.35165522630862, 11.905819138685526, 5.16734368900211, 18.307043662747855, 5.8212533794099794, 12.003896614248628, 5.484285570186055, 6.345162884313459, 9.032058677725653, 13.15789482630656, 13.371929496498735, 6.163875655103919, 6.82613866245498, 3.9997685406034593, 14.9039314153673, 7.2563916409261235, 10.54472719814715, 9.708466843882318, 11.772913631972406, 5.291204364859484, 12.413743165650185, 9.73002991382849, 9.351145608625131, 2.8726743075451964, 4.574906612518626, 4.5631021431362555, 9.625869544464772, 19.341503383766764, 19.253209292381506, 6.722516244680615, 4.947683314783737, 10.477558432358745, 12.004487370536605, 9.072101566277293, 12.302598148614916, 13.389296321197964, 16.924849717748742, 6.871913868952017, 9.77591993475335, 17.95409685986928, 11.355513622356328, 9.149949289499395, 9.359598176401603, 3.2181431861677843, 8.623021436619782, 12.589286032018858, 10.963374467785421, 8.153149698016335, 9.606355371302385, 7.72721669762568, 9.813909524938126, 9.079366869572507, 7.941254801117386, 9.792470415630714, 11.679482817475824, 5.559721869674714, 6.796546899540707, 10.357344112609757, 5.31253047867316, 5.532331032572196, 4.03933385469525, 8.388272359207699, 9.34654644565655, 13.529829067550612, 9.020657950263509, 6.003431225194351, 9.450531882976021, 8.040744683879119, 12.729599493030046, 7.2390144473487155, 4.790495395925643, 10.319347552654193, 9.251477493796532, 14.279711463212422, 7.496036733133107, 6.367991722987073, 6.793783653094002, 9.226016743683681, 8.1827461995947, 5.6951488229284175, 17.05681237926156, 9.906779928397098, 10.649079654370505, 13.446649475755505, 7.93273734469345, 16.15147668909708, 13.785715483472453, 11.240843061142375, 6.706853230267125, 13.883215905228028, 11.202053319121841, 10.06134747830641, 8.13763631902822, 10.606878231108693, 6.895472613166386, 6.989666021980913, 12.25879967223564, 10.14194903202881, 14.473965572009657, 5.185750298385919, 13.308176849714723, 18.99406291127597, 7.9625337201019555, 5.100015437595686, 9.059383576667054, 9.629345895574732, 5.177033645833641, 12.39035484518368, 6.402977068277718, 12.62280907842408, 15.72099965722857, 19.389546305463035, 12.509408632619575, 18.070585305870956, 20.66443468965065, 13.818480217425353, 6.0459934319081565, 11.643708193031983, 5.727319437432042, 13.453209012270698, 17.383115715492487, 9.706316959777244, 11.02253511487924, 19.128819920063805, 6.960943725222499, 19.954349170794544, 10.505278689424063, 5.560925820731645, 11.356285395957556, 8.531444800407245, 7.183230415707634, 5.675045763680711, 7.883334729274018, 5.94504404095434, 3.461401540866371, 6.209780184292636, 5.669757472735712, 8.57760314271844, 4.418257326217182, 4.265813709406424, 6.40668517933518, 21.856588390498413, 17.37762892627138, 14.319055189304354, 20.612004724302107, 5.820255031300801, 5.514545871067461, 6.127824200132526, 14.354291655402163, 10.083970708534395, 15.628014197725983, 10.23413518331538, 20.345639552327434, 8.62739077479464, 5.093056130923475, 8.627892915365253, 20.359638899347186, 10.286633610913675, 8.228328334622194, 8.846649636262649, 16.184933280158596, 12.482986001218519, 4.6061009337567365, 15.811303460293322, 13.402961017013999, 9.379678787598142, 8.016583449807158, 17.04401443020796, 15.521932297529355, 19.72989284541109, 6.683258314501058, 9.410382045591282, 6.992106138019775, 6.671213945068017, 13.400019440422323, 11.375888756677782, 7.979901125404946, 6.9418916126068915, 3.6350509075910438, 9.395820665807776, 7.783097863329856, 8.424265758443015, 6.475097041114208, 7.381242066715305, 16.676791365760295, 4.551106727214313, 17.54161464758283, 6.166480641088411, 8.426387169643156, 28.52791792312437, 4.6118397766978765, 8.783823495480092, 4.431009368534051, 15.612088012530448, 12.612351527177454, 12.004826749871741, 11.415766997637956, 10.020810920042083, 11.146535807704065, 13.076010068355103, 6.055219044867751, 4.309332223498427, 10.772000329650606, 5.470889763312012, 4.753254918946788, 13.729590490266098, 9.645302055265388, 13.241017137234186, 21.133827082739092, 11.442816437954665, 8.432692569817444, 8.664239038884611, 5.912649320190612, 8.06093657508511, 7.010408331731139, 4.442795088485443, 13.444907271446551, 1.9116140530862724, 5.014909206385364, 12.825448811882376, 11.417964317400681, 4.391293602554368, 8.769224608257364, 7.26108848936383, 8.749099008265029, 17.062082784981158, 5.27224982381688, 3.8700930481164635, 10.797295196437677, 10.122856575576309, 5.543824559794776, 7.949787090536247, 10.111687349483082, 13.640703483935468, 9.116963669740981, 6.71857395558548, 4.851878108532096, 8.575692635359927, 6.282169074854297, 12.118911796950332, 6.238385088450343, 10.973357880992605, 8.000448479369304, 7.430455664947655, 11.185960664877694, 16.90603725967813, 16.92258322282833, 15.45444675192982, 27.124750726359082, 12.78095339903871, 1.8396533474560717, 6.475391981146643, 7.9217082827643965, 7.320233039112413, 10.73206341732664, 16.931705322314688, 8.001980418608905, 5.786569041465159, 3.0287062054965483, 5.4403464954349685, 11.775263356521194, 3.536603622699133, 12.419144580225641, 10.622358109651586, 8.165361470000452, 14.631637894997798, 5.86326193436487, 3.845132143766534, 16.015952900977883, 7.984456510753975, 6.481836195052708, 8.781177824242832, 10.594910771610474, 10.222964069988647, 12.207530705024801, 4.207944645263241, 13.320481674661945, 11.532059335893573, 7.777387693135456, 10.222843014727239, 6.821119758944203, 6.612701041592605, 2.5683421751576425, 10.534297318178904, 14.608096141553517, 6.219609266734858, 6.137363460346255, 14.441553515397366, 14.484943147801605, 12.500333284213449, 25.646296677313323, 13.544999962141109, 9.567258198245652, 12.015914113416875, 14.56410342908331, 10.00164608169286, 9.076717313902797, 9.102385300114497, 14.262350131807445, 19.99927269203704, 7.142033425031801, 3.876123826210398, 4.593411662363818, 6.199081518704927, 5.088585077656794, 17.2355063826087, 12.607374395161807, 12.83627726644408, 10.239593075463482, 11.646479872370374, 14.126364642864157, 14.89158818684069, 7.512109893807018, 8.375684657292595, 10.313323552652113, 12.213062285456001, 8.724108586906166, 13.757818734849733, 1.4283931531812133, 2.918207350924554, 10.066460377274582, 3.86642402748024, 6.841888812448788, 8.452930595046308, 4.576524582287541, 5.895807105426859, 10.637772891849906, 5.370891326417321, 13.125759073776077, 14.90390323841867, 7.107524660081153, 6.315261261564423, 10.40346009124224, 9.278903726555008, 7.59347107833402, 12.011173455374571, 5.237516357080455, 9.819865824238462, 17.543780813030786, 9.597354593428616, 11.567585790338534, 20.13968366711913, 3.59953051355133, 13.309950642621276, 8.779677903755175, 12.133874507407137, 10.317134714793458, 7.654805932863278, 12.512709181351052, 5.651132614300215, 9.65152527055487, 9.797462799871784, 6.444294135915868, 23.309877696176876, 7.724809978470796, 14.537272815540748, 9.856821501629504, 9.286096368193796, 6.890903723173292, 12.477682641372676, 9.101346831167998, 7.560091307120157, 7.607636149647655, 8.400962891490858, 12.740022069166415, 9.023341520691103, 7.1090271924154775, 21.07971676027899, 9.373996006360343, 13.9166174138234, 7.442521685918553, 20.84656539765, 6.835020323759687, 13.437049134268062, 10.56567047955584, 14.859555242269398, 9.19794926561645, 8.998311997712797, 7.767176990203489, 4.647114907989259, 27.092713901777394, 8.340339403566277, 17.514435197470515, 7.45449723925266, 17.321109934478297, 8.56193414872799, 6.718625706561744, 11.652750225796204, 20.201795725847717, 9.000508051090243, 9.009819489650093, 11.132481078183563, 9.000800290800019, 9.591165610193888, 8.570086066449722, 16.488690394251147, 12.00591716831601, 11.134221294945986, 8.514352843105014, 14.804457383339738, 9.063572924244367, 8.923732194359395, 22.7851299421635, 11.840087512718194, 15.933117098333565, 2.1811107627438613, 13.177152284584581, 7.86140569945994, 7.386111320998833, 6.626031402501979, 11.75015150423826, 13.959551948517458, 4.447262575043456, 9.047762453874258, 6.6836654376473055, 11.778176633214022, 15.219108013132072, 7.522834543991861, 8.298902075770014, 15.971823603192597, 11.114839054798582, 15.136694209008668, 6.880155521693391, 20.22368018119154, 3.4914055795824637, 19.900885708396228, 6.353273214977351, 14.726974803337752, 14.126876569386017, 11.220094575012507, 13.265204938711843, 7.236362182292888, 3.267131604127074, 12.120246434798789, 6.228210837229386, 4.447267223492302, 11.085597820254707, 14.088054553738578, 12.24742103621986, 8.946107338531702, 13.22604606234437, 6.510539523113822, 11.700931328199273, 6.595930388595042, 14.238230694518613, 12.207435725385588, 11.849428885017993, 11.349554852702033, 13.818748658646355, 6.43328817703727, 9.227725569923, 21.5868183269068, 4.252772898627695, 5.983312147822239, 5.661965362040092, 8.376372336925103, 4.114966721485304, 9.048908815271421, 10.879609279983047, 10.781108617066971, 11.948460997369805, 9.271726642031417, 7.358423320625571, 15.44465510399299, 11.751518567986137, 6.58422246507368, 8.214558135762912, 12.036979833770324, 4.521367886397573, 11.36939884680093, 9.844454837173611, 14.655122826824037, 8.31906290973314, 5.465991321593472, 5.513138774683402, 14.221595079541148, 10.619791151887576, 6.623852645058071, 10.793062037593513, 6.079485272339888, 9.190329801757098, 5.4365578392119644, 3.6296225064249636, 11.520573879337032, 6.377133515904658, 13.42669623726776, 7.1797656850157825, 9.392949566502098, 12.342166945052455, 10.252546232591456, 13.99279322389586, 10.623395188101458, 3.7250906424423595, 7.473726415747254, 6.5922491485920185, 15.595897500417246, 21.80389427949887, 7.425992467858153, 4.760226685225265, 8.693638883464207, 14.411970685620206, 4.513168156762997, 25.122910660063955, 9.752911768353735, 14.06776595912756, 4.515073752719648, 5.910514280448867, 8.45689723792181, 19.774648831082466, 10.04367931593543, 5.5794461620074385, 15.513467183065435, 13.70650012414988, 14.239818254046245, 9.786293757107414, 6.460696154715039, 14.079421290740205, 10.736242575229095, 9.69060551443025, 10.611879674107595, 6.195370088322644, 5.9520755328458, 3.1385525875677054, 8.391643730277446, 10.546768187716417, 6.868613897020093, 9.616721121915024, 5.766981745154412, 6.597452885731649, 5.709252041417997, 13.426854406938594, 13.26305385680836, 5.981206338771315, 21.349746841221815, 6.44291021705145, 8.749415470729215, 16.021507991202398, 3.464802808451984, 11.926014027823797, 10.436114117243962, 11.509814298432609, 8.18167888370675, 12.165387984402923, 17.741354163061853, 30.911666520231957, 2.712801893628087, 9.421583030266978, 10.632336069511297, 6.818793792311878, 16.434768163889878, 17.594725317779705, 8.500977232168205, 11.212578434781857, 6.575462259628676, 5.536547975869776, 6.497936953573992, 14.927574506961626, 11.65041567330839, 4.890763506357292, 9.237352506059633, 18.701202686805296, 13.528825087204007, 3.2182581353694992, 8.007127583444023, 9.21153924941122, 11.028819590279626, 14.41004146621708, 13.980226581785846, 14.979074539498793, 9.341713074547988, 8.913764203632077, 5.557421834028913, 6.684896462396631, 11.47225348223842, 16.86351074135915, 9.77208811899378, 3.685654853476375, 3.5342738756660035, 8.383907740183696, 9.907684876555777, 9.094701230936625, 4.159837279836947, 5.1038337476045434, 2.433409800753141, 18.924081104211094, 3.5785633692277825, 5.862308378782691, 11.933309503952914, 10.436648096149206, 21.766909078278285, 16.563872619072857, 13.734183732382105, 9.772827026871372, 9.7844681299153, 7.53398468065413, 8.461293980919802, 9.681041793981068, 14.572757841818046, 18.96520104128689, 12.01060566529614, 6.9549428963562505, 11.005729493956192, 14.266182304335036, 8.034338014167687, 3.5330790624798323, 11.906598865812875, 10.485069036674643, 11.173372275792943, 9.689028620951987, 7.3677212433407195, 5.162552528190717, 10.464708352037151, 5.5905316071831965, 9.318411739364118, 5.68019349822275, 6.915475338842214, 9.420385172795104, 3.7419057941644747, 21.844504169675083, 7.059214237581257, 10.711002663934854, 8.470152793974274, 6.780609702067224, 16.652658200809327, 10.342444541439773, 10.822056686808256, 4.775850404339442, 9.001861314821685, 4.475228476256176, 12.403702365979704, 10.426060549505591, 6.008200423221898, 7.851696662654334, 5.635324411000433, 13.371359343182089, 7.548716831265915, 5.693517403901197, 14.975046707034037, 19.90971121506636, 9.025987844667382, 12.903141039323032, 12.036402049088506, 8.19382268395718, 12.345759427871458, 15.689875110283502, 9.208506059328782, 5.0227596224085325, 11.190419598340185, 10.63995007082153, 10.82396155078745, 7.13792614440082, 17.262249153041086, 11.564390296895269, 2.977278020506315, 9.7841034391662, 19.293560138637204, 8.425542719118932, 19.424076222032845, 13.818486354479822, 5.5311871326694115, 9.120741151196883, 13.730010353782477, 3.996188555914161, 17.728784114444448, 11.216511554503006, 5.631041236957368, 5.402241365452618, 5.325938468623144, 12.731885831404703, 15.788802640709797, 8.002281904293874, 15.12717186228259, 12.156951890515405, 11.21218839396533, 23.480005908920873, 12.337632959216398, 2.7335809437560346, 7.871524800557476, 14.951821671338447, 8.134897710208861, 3.386424191075589, 10.248169156524526, 7.414013937588885, 17.527601194282266, 14.819891146352125, 14.21432213226956, 8.025501834862746, 7.232280371589375, 14.673583415625991, 12.270739920095638, 6.421285633371734, 6.839443036507641, 8.142384170879712, 5.169983409710417, 9.706229298542956, 3.9164174465991777, 14.422166728330296, 10.48247752023029, 5.925829768253159, 5.3834258857831925, 17.80296477047586, 13.294810856105727, 9.106987726051692, 13.161847996147431, 12.03607910352288, 11.27472126506009, 5.708226165383958, 11.86731266169971, 4.676190761484483, 16.79026112097617, 16.524049884761403, 8.150318851274408, 9.316411336616529, 5.953395387413514, 8.96308750814372, 12.482299417362558, 8.515702888874088, 10.839781235793232, 20.45038802260609, 9.234556049982384, 7.4409068167326735, 11.217488148936638, 15.009024034846792, 18.51006328537236, 7.830551191391368, 6.508375055162259, 13.849585973098792, 3.4929152415451536, 10.359612558164645, 10.73244918120554, 15.637780278875624, 6.556202108809879, 20.276111383991328, 5.5267552167043155, 4.3752142286166436, 20.34312593930535, 14.32115869283481, 9.645482863251363, 8.372068039999387, 12.275461463205932, 9.851342963649094, 9.07728432888243, 13.4562665950262, 21.200177669234698, 10.522370033857817, 6.0719435412304765, 14.630292269509477, 16.086613148639646, 10.899663063977862, 3.710191767787421, 7.824960028112836, 10.775723287602991, 10.183242131765724, 10.59803913722573, 17.140671833742147, 12.157173660306636, 5.967043231868347, 8.229922153164551, 11.874208138780276, 6.207390599536839, 4.678028397978662, 15.903053650325258, 10.511110120204453, 5.743495043378016, 10.85658773330919, 7.365750882443541, 8.98561586429519, 4.2014330395911035, 11.489402962427844, 8.862500515392613, 9.158097411751706, 9.88282559708267, 14.103238593889529, 11.60669867550267, 19.473613536600332, 8.584217786146747, 8.894763552083134, 10.37588152314204, 9.395164249781056, 6.980778174602298, 19.136443917148988, 5.535314340308695, 7.968287494499896, 7.7019260730342065, 10.283297275396738, 13.672294364821958, 3.861550070127117, 11.950187776827986, 9.745852242286748, 9.27697777957839, 4.144165245574374, 13.7539557437431, 8.8523992178813, 19.08837433966565, 9.473054757263482, 7.868081084598552, 16.980578181426235, 4.042146833138892, 4.888995218429537, 10.835667547406619, 10.88584632399825, 8.413127676367921, 13.100125936862272, 3.709305077827232, 3.5359502031592154, 2.361194569420362, 5.469383272284468, 9.645937795559952, 20.102677777783736, 20.338602843805063, 12.598791191599243, 8.188170298214835, 3.358441859742847, 12.986138704523928, 10.205563997757691, 3.798827960943107, 9.838266641987035, 2.6755277217956053, 12.87276558127624, 8.968995386101746, 10.62140564519869, 15.145574911757375, 5.321981686670609, 12.600843828378565, 9.453060779206591, 5.242653165310907, 12.825240229420336, 3.6927436265667755, 9.142036408120088, 13.265370233967822, 11.946933830204292, 12.566561768302538, 4.7164697368499695, 10.189035295574431, 9.645933660114146, 8.334823621762165, 19.414252937425456, 5.989361338424884, 6.140253141186468, 9.510784171077415, 12.901786460811353, 16.05326656266108, 4.129705262169025, 6.916665870561009, 12.837019313651592, 12.28860525095822, 12.732143396125258, 11.363411422361942, 14.602890011496209, 14.907580385711087, 9.038622205006632, 9.946626486019618, 5.958733036978909, 12.88106678060779, 21.029878476312913, 11.321296224942513, 11.065846843500887, 7.8272314072823965, 6.755420518300335, 8.06114863451004, 12.278293207056851, 14.271135507253538, 7.54213765118335, 10.21133049645226, 5.380408250876911, 10.0737525119256, 4.8353212332657876, 8.26897496843376, 8.27947640070526, 4.269604543422398, 10.253505520576049, 9.34774215864582, 7.341715084096414, 8.365471907221796, 5.705962446623937, 7.617572202164462, 11.031594847529613, 8.690509728164576, 13.02572789517367, 6.419371190275491, 11.497648544993266, 3.8711236353901195, 5.483237483518622, 10.865333101535331, 14.440375101114672, 9.461531789077867, 15.17954873620373, 11.81110856188153, 7.113622187098774, 4.057838367169518, 21.385167443217988, 8.858650018942726, 12.502430277209562, 12.76097647123076, 14.35799190496595, 8.838328727133447, 6.389783997929283, 3.4023652260574897, 8.087285167450416, 11.724954950866843, 11.953474772017294, 9.369760061422054, 7.101982980976485, 4.6967950041528, 4.174863606709559, 6.754805926580241, 8.677077727584752, 9.237287331467035, 5.699248938841942, 9.664030120322224, 10.642072197118575, 12.023428844414791, 11.252158704082559, 7.061905491859082, 15.741462630230835, 16.514513545925325, 11.217330959836012, 19.254874576889996, 4.895475222053247, 26.52445329326997, 4.8656584076144975, 12.495730841913227, 7.769630326378065, 16.866653738908454, 4.587629877398027, 10.379120578579375, 7.575397718436487, 10.906421305389634, 11.517295575405953, 5.188911236691764, 6.3510384534520945, 7.1452370672609575, 14.194553040132696, 5.073542154202135, 7.218596641821686, 11.783407167493985, 16.86652287604347, 7.7840200338340555, 7.009686149982008, 5.856591801020125, 7.817244579621176, 7.995011760477402, 16.62589335447317, 10.196242555492375, 8.629453936384373, 8.339538896649248, 8.226200017797172, 5.890837682006302, 16.969701596271072, 14.533326142417804, 13.95624340207705, 3.562715875988959, 6.480611362700056, 12.527902767426841, 6.605189467147356, 7.056328296238098, 5.4858573387847835, 8.22940439727008, 9.05407641050548, 20.426399285671373, 21.84894379301804, 12.06508344433131, 12.382176844327228, 7.15359766407749, 6.58823315740571, 4.204704110048591, 9.603118541463738, 10.5877729786306, 11.08107398706396, 13.039110829835959, 8.600883395618958, 7.529892385834835, 9.272202746286467, 9.817122241797394, 4.635422340874434, 16.470852184266494, 13.732551836227787, 10.983753930838034, 8.684849966186269, 6.253312632490311, 9.846243936435618, 5.931965494395015, 6.869848185990791, 11.304881126154527, 9.236464609369087, 11.389330878722655, 11.101755784506352, 8.071045031332929, 18.46155583756675, 7.138836177911398, 8.309175642062614, 9.07136809812244, 12.311663477871189, 9.335464980543962, 19.983178808187, 12.860722541119586, 4.753187436664291, 7.012462898542923, 6.136300667557592, 10.4981052740435, 5.728385290538247, 7.7121497410169235, 12.200972032704776, 19.46774019595864, 10.853516829746418, 9.74312570768877, 12.694346535775168, 4.917916201306809, 8.042122778765616, 5.286174709817069, 9.918959509139347, 11.14247452437531, 9.358588036837755, 12.750477622032642, 10.928320392828688, 19.369376091666183, 16.369093405132226, 12.483766655200208, 13.952754452263367, 5.911705372076377, 5.5124546413786355, 18.56722468865785, 5.478853472473453, 21.225054033211162, 15.75339813547582, 8.27431190430704, 8.272018392081367, 23.061736869643276, 9.642634173756326, 7.33769516293016, 7.371978133653407, 11.047785499487999, 4.705786678811277, 9.443603073521855, 7.6495699312393075, 8.724021294319108, 8.113261743747875, 11.277615207570058, 5.157022945291538, 8.113290575229527, 8.391885817952383, 9.034810597865363, 14.950040947812173, 11.440157779442204, 7.69721053022581, 9.69323090530867, 6.484011690507907, 14.820641342771248, 7.563519165877179, 23.96077528638712, 9.22577061760794, 12.386177964451837, 3.7927126839296283, 9.97491477416251, 20.78065060423378, 4.232572727721607, 14.907335266090818, 7.989702145284622, 15.71235250342903, 5.760821406670385, 19.440453092154364, 36.63930177283734, 18.845700200037218, 3.0228529576391034, 6.770597087326695, 10.324229461726762, 17.199345442840745, 6.964400284079805, 14.533269934121787, 12.793572651355387, 15.924226792573215, 11.506433582014717, 10.240772516324846, 10.222081038396325, 3.929470433278651, 9.81321946302862, 7.753544429027717, 9.309019574174403, 12.73852419819178, 2.1416044524869515, 5.56869533078308, 9.722751863679331, 5.071748932932447, 13.445909063129328, 8.36601432611779, 6.737635068707492, 8.46809405829583, 5.107558345162079, 7.9893820697239555, 12.211892347752968, 13.893102579262424, 10.725122744308427, 12.953172627270504, 7.858361945301019, 9.938182746339653, 4.221771228218228, 17.584798410357248, 6.691423341937314, 17.40315554893875, 9.90586995247479, 9.12246445524614, 7.733478475225977, 18.13462316764352, 6.7767219180269285, 11.07351072615289, 18.371504165220802, 7.134096327682756, 8.292399714362787, 14.519505079580243, 10.813291626275639, 13.113905370776045, 8.573669150695507, 9.682488451556747, 14.240539293887343, 12.229423014388455, 17.248686783622837, 13.88040887241824, 13.0463711782463, 9.87989325431114, 8.978782802554951, 5.525420565330753, 10.470990679619021, 18.641635477465936, 5.738419339681908, 10.849353714037779, 10.552017017599798, 5.306858397754002, 5.572220051347564, 12.516488749278155, 10.648160820436875, 8.153262468375026, 6.548957692196583, 20.07746551154968, 8.77969481711176, 16.780938145363727, 13.864418934555808, 6.550087448954882, 17.236298445471988, 7.819128926460105, 24.34526885235962, 12.316837452867803, 7.457712485337735, 12.969995588341039, 11.889736526051626, 7.03692956797479, 6.705512133392859, 19.3503808374326, 8.084506502392019, 8.772055008557778, 14.843451315809487, 6.453172970891843, 13.507073618160646, 7.625865800352767, 11.28331898288478, 4.591971829221422, 13.232959126827627, 12.8684607761867, 11.785272919516608, 7.143758401587426, 7.535164091644023, 16.648561620464783, 5.910073701090929, 9.462442670072337, 16.126706330046602, 5.583439883562054, 12.126071001374857, 5.612805907511836, 11.19991829440928, 16.873244489687703, 6.8601264020330825, 7.949422188622912, 12.52952477841475, 5.813976258785191, 15.140124637026958, 9.501776925377039, 11.477502565353301, 14.524470756834713, 15.506215871488559, 11.862444202630698, 6.11760439445845, 13.89937868675327, 4.369671867587528, 7.462513458448455, 16.503652999424943, 6.1914260473907445, 14.575932684655594, 7.734167510700518, 13.815962577694885, 17.412650229364935, 3.817368419884004, 5.66132235409095, 20.77142740850944, 6.190849701138952, 14.551512019962265, 3.212000024302876, 8.689800742787847, 27.50874120965797, 1.4776996433771636, 6.160968181620077, 14.571560896134718, 6.71764282201009, 15.405753860354688, 10.455946006866393, 14.513320073649542, 18.246886034798017, 14.406821099143475, 13.485647993172941, 8.991097038250983, 19.907161283177523, 6.826738170644922, 8.639824685997858, 13.2129614220682, 12.14432367582267, 9.422277292749296, 37.2988203742747, 6.468702114269224, 4.771091352039278, 3.6207191279440067, 7.7837043256107155, 9.193878277315399, 5.173787098201911, 11.1329750039516, 6.242723839192767, 22.194701686197874, 4.295168959884351, 10.140980444040725, 5.767886380631958, 14.193645138960047, 7.647543265012436, 6.803257569478426, 15.045489022277577, 13.417698035553968, 5.935430184648862, 15.492168348950523, 3.7514462837955573, 9.110190040137992, 4.916155714974291, 12.336621722032882, 16.496085957260064, 7.344388234239989, 16.271857068367257, 12.908227441222767, 14.759644508931505, 11.666602844434777, 15.091081816573432, 11.080515457113032, 5.808081239437368, 2.7964816856100763, 5.609933941389651, 7.772742813710398, 9.063936188622794, 10.004134059384821, 5.651422884635957, 6.476698376275488, 9.814733417463065, 6.349349948750906, 8.792267505386404, 14.59076258245762, 6.600958496535458, 3.9283535030696037, 14.664606936950648, 13.648205056458442, 10.05859947593195, 6.631105835119546, 11.92185900552909, 9.78154688152188, 4.618032501399613, 2.757020829736508, 9.355038873078282, 13.02797659653493, 5.654699216946874, 8.391680027193702, 7.606768124102011, 9.26234341062517, 5.461172255117088, 7.802144605713741, 14.769997601868326, 12.629208370973283, 14.208333388492578, 4.74531476168064, 10.500855029669342, 19.358739682622318, 14.413995353436333, 7.01816954279784, 14.685919911616624, 10.629170005018697, 9.055374953350134, 3.624798873440107, 10.085131366657349, 4.579457248324308, 6.055644063568643, 6.631537372224103, 8.82421116946247, 14.621041418910771, 7.099901483846836, 6.530482219669868, 6.9485986315622945, 6.093621334070378, 9.376647423491308, 10.802758811461484, 4.612984135013214, 11.219275040904765, 13.342237468320501, 11.463278307203968, 10.564602472751844, 3.2438945724386827, 7.028355897261282, 23.832122023570637, 10.155261311256735, 6.661935789797059, 5.085168893671773, 11.192891709883042, 10.722700159051902, 9.452596012760091, 10.899659539234868, 6.990422227993569, 13.913662549283004, 10.371848098668941, 7.817897344980115, 11.443339820985122, 9.21333617852592, 6.163618201848084, 12.50487192404164, 4.02060209181267, 18.642448954520226, 8.657331088246377, 10.97439345993568, 10.504603215335589, 7.430437235140837, 9.928090282674287, 5.993330948973405, 6.432703545308224, 10.245444681992458, 5.95706060359883, 7.366043386450243, 17.161376684167195, 10.812700306401585, 8.265702057377718, 10.64756304733234, 7.709724083817731, 10.009795538637908, 6.299880530408583, 4.248895210471492, 4.40536488644799, 5.28522665394389, 7.657312644377501, 13.252133249269967, 11.453459352009675, 13.51657945093694, 4.130620101814407, 11.174603657346506, 10.107741271814042, 8.259746480174947, 9.974565029714217, 7.5445962847584145, 12.839229549100244, 7.169945454435236, 13.76276487718355, 6.1144572400102275, 5.991660061824682, 9.05159781080416, 10.181351220930882, 8.4632212768477, 9.520288601228984, 18.286835931049655, 19.92053921985124, 10.658885405125694, 4.07291089471909, 1.543204421352568, 14.900377145445432, 6.914603810575798, 6.755151778173795, 9.71892403364969, 5.018515139804477, 10.062457476557606, 15.356185793863347, 11.076192734180097, 5.559143295968357, 5.017461862510267, 6.618175502899734, 3.216263300298709, 6.743006379130357, 3.713859885232826, 14.214493438895378, 9.127767441608468, 3.9573610194137467, 12.006998644588412, 6.6948662016882965, 8.069874607462818, 14.066249876344406, 8.874385234872127, 8.331308622462112, 8.331564528947686, 5.009018078222954, 15.51956959872253, 4.8536387054985495, 16.868490944640495, 6.404988797940519, 12.183584192189029, 8.771367279395829, 5.9306874009378525, 6.408668231865572, 15.505700593026914, 13.005874919929525, 12.972126653112879, 11.489099269395608, 6.938492875454053, 12.93679492894507, 11.556618998341238, 7.510165806703936, 4.096020074042796, 7.582682525623156, 9.533601241675973, 6.841177875081492, 17.051800664595863, 12.576460960454702, 15.008511245245634, 17.970114475572498, 21.284483688797792, 10.297598585542127, 5.943190987549884, 17.790669135338685, 9.108923717003602, 10.704712423401574, 7.736883393234171, 16.354271217157617, 9.901628151920791, 16.77187817607085, 12.32701519252505, 13.93364886563796, 14.304473251717724, 9.479890644214644, 23.49088747939513, 7.500270229820228, 6.974918051091196, 12.463744333228606, 9.469765248858874, 9.725793847547987, 6.484726889719782, 10.123563541124883, 7.983355493827689, 13.096209281279766, 11.669213172040962, 6.904493924855342, 16.297107157909366, 8.24892808940197, 5.932209930043149, 13.291483382813055, 12.810330731562889, 15.13948136731733, 3.611666695401256, 8.986463066525719, 4.805360413467207, 12.31490900079934, 3.7566134744425397, 15.211807291026263, 11.525649000809944, 8.499297169498899, 6.116180811228833, 10.269904075009968, 8.317837348893715, 3.334581338636833, 6.598364680114735, 6.554113648664283, 16.89851720378704, 7.245895447108714, 10.273127824889674, 10.491174701207571, 7.962205769794015, 14.101929811512372, 5.478388410717541, 13.752602482431671, 5.194140572284901, 10.090439571191508, 6.3296286023379, 4.5586750939037035, 9.11742370711027, 10.290726472597074, 13.118160682375173, 7.781646859250055, 9.335483915340514, 3.6706833279004334, 12.788193149103005, 11.862321905543721, 6.55350102450733, 9.40046867986027, 5.627836951171642, 3.0050902492068117, 7.889577034616007, 15.090463993189736, 14.308825448445987, 9.395492034608429, 24.967061102511472, 14.336590246259178, 10.920594615726028, 7.974266755139175, 1.465958776818866, 5.605561070254373, 7.397256302433324, 22.26913079194726, 6.913374739134765, 18.038032128259523, 12.362551261513987, 17.201561797992962, 10.57262299316917, 2.8952397196166424, 12.776697810233252, 7.103832246323355, 4.88169682664912, 5.47293161036763, 7.418738919023747, 6.4075927086945255, 7.386322914478372, 5.028803335296451, 12.117322384041875, 8.748461814453085, 5.69448914396381, 10.895533913146867, 13.940623137672977, 11.326577738322573, 13.954964360695602, 18.474732765877164, 8.824869307140833, 4.16554084889032, 9.136035973259132, 8.496417048854944, 9.772250099221184, 6.185785730600391, 2.4362541944713794, 9.050967866509277, 5.45614484693537, 12.749497450679845, 3.1115573886205783, 6.332832292497222, 7.847595226234554, 13.130885367487469, 12.078449035840848, 11.015452029941686, 14.011393971980722, 6.783554928021992, 11.90525139583184, 12.376418238093507, 13.054625606992577, 10.64347991098596, 13.326524492917358, 4.764835841913421, 10.89125337012148, 9.032988653712604, 8.488357613407635, 3.214413116452304, 14.045438236907785, 8.68972530599742, 8.000796047388288, 9.071009696855727, 12.92824107132107, 16.009506322241112, 10.231989666495776, 7.426634020367896, 7.7714316280180284, 7.507754605042433, 6.179052495879341, 13.893646094907593, 4.979241078904687, 9.019966989066576, 25.930322573848866, 7.406226380974083, 15.097490114534681, 5.790833849064884, 14.134339313912855, 11.71722015093401, 8.94874559314414, 2.9339486447253096, 9.534892543688072, 14.790168848144594, 14.037496184655888, 4.689287691683728, 12.322210908204974, 10.366035695656997, 15.565654158329277, 10.166734179809456, 9.247628985332966, 8.24963699405498, 8.372087083703407, 6.003382389290312, 3.0324899722516765, 7.902938149181961, 8.24136098843679, 8.0454140850922, 5.931249630075311, 11.973771968932994, 8.360282060297976, 8.050347435624484, 5.2427368496227125, 19.92883783445035, 7.621840261613198, 7.716756437338422, 11.577689945580135, 9.356432589405523, 16.08990255793064, 12.018170501539323, 8.494633267289604, 8.197937457022649, 11.363238481128008, 13.289366079684745, 2.5835116386638486, 16.205018000557896, 5.989314704339216, 11.624928221931341, 10.953455163016327, 6.448226780104875, 9.035510728272214, 13.46040286075488, 12.608991467152544, 16.768992890651845, 9.735288327776816, 10.05201388821892, 11.922921867064229, 10.121377521288931, 18.821882199155098, 6.11416840154769, 7.3032317354583665, 7.67575404367054, 12.692075964169366, 8.857863700471341, 13.534896173286556, 12.334832130813696, 8.619903070473702, 9.999980415960597, 8.710560675790566, 16.199079218004172, 13.211010345847622, 7.844633617256838, 5.620278422237193, 3.2095675729633037, 9.722892240401237, 5.786023657903487, 13.357589055521814, 5.399286474591682, 9.125895151097051, 8.113124370926487, 14.540301932243823, 6.508993179684891, 19.225671107654442, 2.999861303121598, 9.050388733956233, 13.453668771951648, 7.981725687568161, 11.235702318420966, 3.23049823657084, 1.0277906163833348, 8.243942642764784, 2.376027405042498, 12.05320621258803, 13.155075313366218, 9.81744488451856, 7.070667462298741, 9.132790192495964, 8.962311911449145, 10.457031331093068, 8.852579291879342, 2.5243607681910265, 4.3141577861373115, 7.190423936272909, 7.662448238978909, 9.475575368106902, 14.109377500282724, 9.064625440276373, 3.0542784692299794, 8.35374762833931, 8.04965895973871, 16.667882882574883, 6.259739432465929, 10.421662714222196, 6.30825432183156, 4.698121950594996, 11.71877237735049, 15.516397420483013, 5.5995981108581905, 10.591870708392786, 6.504397121133545, 6.815376100200334, 11.23916880854867, 12.49538886851115, 8.952620073028797, 4.782110409295094, 9.80291135377207, 7.128264129112059, 10.02667850548321, 6.535893837847542, 10.025200529109844, 8.928266535215018, 16.133593468372126, 6.0843239113099035, 11.500659691350139, 5.550717752359773, 9.506732260665336, 4.763919224518023, 6.346489736354244, 8.884057854930566, 12.56669260675323, 21.346408333607943, 4.900678677221269, 10.112333909542475, 6.523117450418917, 7.934459110703936, 7.154809161089289, 17.963834832260005, 8.226643429191387, 10.814380716486578, 4.642418406945147, 3.5947332128609952, 9.839189500664178, 8.864215438223779, 12.39688796405083, 6.004285391578329, 22.974784601983817, 12.488439741165497, 3.620187299005701, 8.079258336505386, 20.05338994764657, 9.593148963989709, 5.073357405276638, 11.588193308775649, 8.8754286257149, 12.074575267721716, 6.921562562896494, 16.25009360341846, 12.277861412970884, 8.440278638505587, 10.490414082925868, 18.629115560930774, 8.072575172583324, 8.956724317775645, 16.67925732596234, 3.0665373983626116, 5.211480776668907, 6.8486220716469575, 7.6049987739016, 4.183830851818212, 2.9336366550064317, 9.594998141931502, 10.52272519504978, 7.07579441949264, 16.118208851325377, 5.446769337861052, 6.794646226729764, 9.423688925555451, 6.482070405667184, 17.183174562433024, 10.65796386896346, 14.422514583150477, 15.701465844265533, 5.408586527842264, 3.518798591561995, 17.767446521362423, 9.731587243171118, 7.8283021274804865, 13.053005588481417, 4.405841720157347, 8.721989844612834, 17.751943390166293, 9.59205123232481, 12.519266159702587, 12.635236742449049, 6.246675833632719, 10.065178674183201, 11.95360486696794, 3.5251980721874454, 7.899597200695524, 13.841311342314661, 4.930567134575873, 8.939971870097674, 8.82194737250313, 12.87356649976017, 16.040342393486302, 12.25182581710263, 3.783502205319839, 9.249585348992753, 9.482602424653201, 18.622732530769273, 15.061007769235076, 12.707601345860159, 3.051236118657954, 8.499070428053564, 12.368197520506554, 11.208407909590633, 2.920286525619604, 8.254686743477894, 12.276964554705607, 17.830939638671296, 10.485523439552882, 6.001971581575758, 15.255904133423442, 4.173172558186401, 11.143033276649353, 14.010451576253482, 11.975835935060415, 10.394022958944786, 12.707972301441607, 13.535874669516545, 12.974872686774852, 8.496413621566791, 3.6964961719653795, 9.552467554626753, 11.812299212393965, 10.522154333392935, 7.750281777831322, 4.3219494554367826, 8.812889546290986, 5.428099052239437, 9.060808181479091, 17.387459773394728, 4.0749889442398635, 7.3443680699759, 10.370604796038808, 7.893234701883509, 5.784253932233232, 8.788625645381515, 16.221942282053625, 6.789805051028364, 5.574354541725455, 5.8922089196027745, 14.057468002087363, 6.626654527292491, 10.003946112174706, 8.83136142210955, 15.22745639183608, 3.696054727445016, 2.838471913812898, 6.238006127614516, 8.300814523628194, 4.792924216990164, 3.8801885938908107, 12.35481319531749, 8.02538706727931, 14.150493923166747, 10.833025800273546, 6.693514057110843, 11.606617206330425, 10.171568760971635, 6.045869674789328, 9.384986423963761, 16.909635923050118, 10.14430278809903, 5.155288323802128, 7.1780667718881945, 12.454811531359345, 12.643773472661637, 10.545730755221284, 3.1516171617787405, 16.764038398122235, 9.71238387027598, 9.102853413127182, 4.360881539718045, 3.190331172931897, 22.009145989858027, 4.331412852974609, 10.959983465163534, 7.347292080135464, 8.685507973113323, 7.7717345477555915, 6.332220127644748, 11.965144682709072, 4.918188842455847, 14.498557267602957, 11.855632719196027, 13.47773411658585, 6.711943595246668, 8.013157751597845, 4.887943955960496, 10.675681723051573, 7.826183540284512, 14.755839036902367, 5.088878674272199, 13.997195001332662, 16.119193030980387, 10.831998698668711, 15.485363970370635, 18.560535781253662, 13.714006110049889, 6.375542757796247, 12.887193882990498, 9.386942337633407, 6.753617632280043, 19.454029200873155, 5.311916272401138, 11.445749023126067, 14.825271221954829, 13.584483827663727, 6.799501463891355, 17.466544929743392, 10.360252550585386, 4.577753480624572, 6.846995577336272, 8.413776357897934, 16.432905731185063, 13.666100695222825, 5.532278574719266, 8.390651797658998, 8.749601540958128, 5.521993500800546, 5.006909817378965, 10.234574407492055, 10.522242899732847, 8.949410747113518, 11.690233174766789, 2.730276354363222, 11.091425298492114, 11.348578669889452, 4.732033714775794, 14.264441687724776, 10.193182949023239, 13.461804605599319, 2.9562886010694065, 10.762763104577877, 24.674210019436853, 6.487913549700762, 11.68492523435648, 10.88325020104184, 9.892705041013231, 8.140303306390164, 14.237835708688197, 9.744388905174432, 10.700852559618905, 3.7869648241782183, 3.9489644042500145, 2.007240040787844, 8.906228177990009, 9.457858368925798, 11.813502754984528, 7.081384291321172, 10.754771929736231, 5.339641332901802, 18.177022678196803, 30.475722636945445, 13.299227058740026, 11.199289771789806, 5.520535158649756, 10.28574470532799, 7.300518610335752, 10.429711030762606, 6.889217679444686, 6.155484381049531, 12.540704728612958, 2.9019211470562487, 6.259011270041071, 6.6102358387660525, 25.274880153736518, 6.331167257132706, 20.487038717288648, 6.884052464807012, 4.7401894824263895, 18.21116626389114, 5.412236775944356, 12.347240686795486, 7.252595006711741, 14.495560133624874, 6.283704929590568, 15.415494269201101, 5.229003981884011, 12.775920811255883, 15.03215462759508, 14.124951723375988, 8.605551415824467, 18.355032498375152, 12.476778184653009]\n"
     ]
    }
   ],
   "source": [
    "X = np.random.randn(10000, 10)\n",
    "o=X**2\n",
    "o=o.sum(axis=1)\n",
    "print(o)\n",
    "out = np.sum(X**2, axis=1)\n",
    "print(out)\n",
    "out1=[np.sum(X[i]**2) for i in range(X.shape[0])]\n",
    "print(out1)"
   ]
  },
  {
   "cell_type": "markdown",
   "id": "3b4fd025",
   "metadata": {},
   "source": [
    "BAD"
   ]
  },
  {
   "cell_type": "code",
   "execution_count": 49,
   "id": "2c25ccc9",
   "metadata": {},
   "outputs": [
    {
     "name": "stdout",
     "output_type": "stream",
     "text": [
      "[14.68734222  8.27468188  5.86142162 ... 12.46447048 11.17007607\n",
      "  8.13879416]\n"
     ]
    }
   ],
   "source": [
    "X = np.random.randn(10000, 10)\n",
    "out = []\n",
    "for i in range(X.shape[0]):\n",
    "    out.append(np.sum(X[i] ** 2))\n",
    "out = np.array(out)\n",
    "print(out)\n",
    "# This code computes the sum of squares of each row in X.\n",
    "# For each row i in X, it calculates np.sum(X[i] ** 2) (i.e., the squared L2 norm of the row).\n",
    "# The result is a 1D array 'out' of shape (10000,), where each element is the sum of squares of the corresponding row in X.\n",
    "\n",
    "# Your code:\n",
    "# out = X**2\n",
    "# out = X.sum(axis=0)\n",
    "# does NOT do the same thing.\n",
    "# - X**2 computes the element-wise square, but does not sum.\n",
    "# - X.sum(axis=0) sums each column, not the sum of squares per row.\n",
    "# The correct vectorized version is:\n",
    "\n",
    "\n",
    "# np.random.randn generates samples from the standard normal distribution,\n",
    "# which has a mean of 0 and standard deviation of 1.\n",
    "# The range is theoretically (-inf, +inf), but ~99.7% of values fall between -3 and +3."
   ]
  },
  {
   "cell_type": "markdown",
   "id": "601739dd",
   "metadata": {},
   "source": [
    "# 🚀 MODULE 10: FINAL PROJECT & PRO CHALLENGES\n",
    "\n",
    "🎯 The Goal:\n",
    "👉 You are working in an EPFL ML Lab.\n",
    "👉 You need to process big datasets FAST using NumPy.\n",
    "👉 You want code that beats 95% of other students in speed, clarity, and memory use.\n",
    "\n",
    "🔥 Final Concepts You Will Practice:\n",
    "✅ Full batch image processing\n",
    "✅ Vectorization tricks\n",
    "✅ Broadcasting\n",
    "✅ Transposing\n",
    "✅ Flattening\n",
    "✅ Memory efficiency\n",
    "✅ Kaggle-style problems\n",
    "\n",
    "---"
   ]
  },
  {
   "cell_type": "markdown",
   "id": "358c87d4",
   "metadata": {},
   "source": []
  },
  {
   "cell_type": "markdown",
   "id": "da2a5d9d",
   "metadata": {},
   "source": [
    "⚡ CHALLENGE 1: Image Preprocessing Pipeline\n",
    "You are given:\n",
    "\n",
    "`batch = np.random.randint(0, 256, size=(128, 32, 32, 3), dtype=np.uint8)`\n",
    "\n",
    "👉 Shape = (batch, height, width, channels)\n",
    "\n",
    "👉 This is like a CIFAR-10 mini-batch.\n",
    "\n",
    "TASK:\n",
    "\n",
    "✅ Normalize pixels to [0,1]\n",
    "\n",
    "✅ Transpose to (batch, channels, height, width)\n",
    "\n",
    "✅ Flatten each image → final shape (128, 3072)"
   ]
  },
  {
   "cell_type": "code",
   "execution_count": null,
   "id": "ef1792af",
   "metadata": {},
   "outputs": [],
   "source": [
    "batch = np.random.randint(0, 256, size=(128, 32, 32, 3), dtype=np.uint8)\n",
    "normalize_batch=batch/255.0\n",
    "transpose_batch=batch.transpose(0,3,1,2)\n",
    "flatten_batch=batch.reshape(batch.shape[0],-1)\n",
    "\n",
    "print(normalize_batch,\"\\n\",transpose_batch,\"\\n\",flatten_batch)"
   ]
  },
  {
   "cell_type": "markdown",
   "id": "a4fbf92d",
   "metadata": {},
   "source": [
    "⚡ CHALLENGE 2: Feature Engineering\n",
    "You are given:\n",
    "\n",
    "`X = np.random.randn(5000, 100)   # 5000 samples, 100 features`\n",
    "\n",
    "TASK:\n",
    "\n",
    "✅ For each row, compute:\n",
    "\n",
    "`f(x) = sum( (x_i + 1) ** 2 ) for i = 1 to 100`\n",
    "\n",
    "\n",
    "👉 Implement in pure NumPy → NO loops 🚀\n",
    "\n"
   ]
  },
  {
   "cell_type": "code",
   "execution_count": null,
   "id": "9ea811b4",
   "metadata": {},
   "outputs": [],
   "source": [
    "X = np.random.randn(5000, 100)   # 5000 samples, 100 features\n",
    "fx_sum=np.sum((X+1)**2, axis=1)\n",
    "print(fx_sum)"
   ]
  },
  {
   "cell_type": "markdown",
   "id": "306ace25",
   "metadata": {},
   "source": [
    "⚡ CHALLENGE 3: Kaggle-Style Feature Scaling\n",
    "\n",
    "You are given:`X = np.random.randn(10000, 50)`\n",
    "\n",
    "TASK:\n",
    "\n",
    "✅ For each column:\n",
    "\n",
    "👉 Subtract the mean\n",
    "\n",
    "👉 Divide by standard deviation\n",
    "\n",
    "👉 Result: zero-mean, unit-variance features\n"
   ]
  },
  {
   "cell_type": "code",
   "execution_count": 31,
   "id": "afbeb310",
   "metadata": {},
   "outputs": [],
   "source": [
    "X = np.random.randn(10000, 50)\n",
    "X_norm=(X-X.mean(axis=0))/X.std(axis=0)\n",
    "\n"
   ]
  },
  {
   "cell_type": "markdown",
   "id": "6f167b62",
   "metadata": {},
   "source": [
    "⚡ FINAL BOSS: EPFL Project Pipeline\n",
    "\n",
    "You are given:\n",
    "\n",
    "\n",
    "`batch = np.random.randint(0, 256, size=(512, 64, 64, 3), dtype=np.uint8)`\n",
    "\n",
    "TASK:\n",
    "\n",
    "✅ Normalize to [0,1]\n",
    "\n",
    "✅ Transpose to (batch, channels, height, width)\n",
    "\n",
    "✅ Compute L2 norm of each image (flattened)\n",
    "\n",
    "👉 Output shape = (512,) → 1 norm per image\n",
    "\n",
    "(Hint: L2 norm = sqrt(sum of squares))"
   ]
  },
  {
   "cell_type": "code",
   "execution_count": 36,
   "id": "e1be85c0",
   "metadata": {},
   "outputs": [
    {
     "name": "stdout",
     "output_type": "stream",
     "text": [
      "(512,)\n",
      "[63.86681187 64.30012685 64.10854729 63.44457674 64.39724085]\n"
     ]
    }
   ],
   "source": [
    "batch = np.random.randint(0, 256, size=(512, 64, 64, 3), dtype=np.uint8)\n",
    "normalize_batch=batch/255.0\n",
    "transpose_batch=batch.transpose(0,3,1,2)\n",
    "\n",
    "batch_flat = normalize_batch.reshape(normalize_batch.shape[0], -1)\n",
    "\n",
    "# L2 norm:\n",
    "l2_norms = np.sqrt(np.sum(batch_flat ** 2, axis=1))\n",
    "\n",
    "print(l2_norms.shape)  # should be (512,)\n",
    "print(l2_norms[:5])    # show first 5 norms\n"
   ]
  },
  {
   "cell_type": "markdown",
   "id": "1da1b9ed",
   "metadata": {},
   "source": [
    "\n",
    "# 🚀 NUMPY PRO PRACTICE PACK"
   ]
  },
  {
   "cell_type": "markdown",
   "id": "68917c97",
   "metadata": {},
   "source": [
    "### 🎯 SECTION 1: Concept Combo Questions"
   ]
  },
  {
   "cell_type": "markdown",
   "id": "07318577",
   "metadata": {},
   "source": [
    "Q1: Create a 3D array (10, 4, 5) →\n",
    "\n",
    "✅ Swap axes to (10, 5, 4) →\n",
    "\n",
    "✅ Flatten last two dimensions → shape (10, 20)"
   ]
  },
  {
   "cell_type": "code",
   "execution_count": 56,
   "id": "5dfdee88",
   "metadata": {},
   "outputs": [
    {
     "name": "stdout",
     "output_type": "stream",
     "text": [
      "(10, 5, 4)\n",
      "(10, 20)\n"
     ]
    }
   ],
   "source": [
    "thrd_arr=np.random.randint(1,100,size=(10,4,5))\n",
    "thrd_arr=np.swapaxes(thrd_arr,2,1)\n",
    "print(thrd_arr.shape)\n",
    "thrd_arr=thrd_arr.reshape(thrd_arr.shape[0],-1)\n",
    "print(thrd_arr.shape)"
   ]
  },
  {
   "cell_type": "markdown",
   "id": "c39c5116",
   "metadata": {},
   "source": [
    "Q2: Given:\n",
    "\n",
    "\n",
    "`X = np.random.randn(1000, 5)`\n",
    "✅ For each row, compute:\n",
    "\n",
    "f(x) = sqrt( sum( (x_i + 2)^2 ) )\n",
    "\n",
    "✅ Use full vectorization (NO loops)"
   ]
  },
  {
   "cell_type": "code",
   "execution_count": 65,
   "id": "a2812efa",
   "metadata": {},
   "outputs": [
    {
     "name": "stdout",
     "output_type": "stream",
     "text": [
      "[70.55030832 72.09220316 71.41624694 69.93795    70.59521462]\n"
     ]
    }
   ],
   "source": [
    "X = np.random.randn(1000, 5)\n",
    "F_X=np.sqrt(np.sum((X+2)**2,axis=0))\n",
    "print(F_X)"
   ]
  },
  {
   "cell_type": "markdown",
   "id": "b423fb63",
   "metadata": {},
   "source": []
  },
  {
   "cell_type": "markdown",
   "id": "7730365e",
   "metadata": {},
   "source": [
    "Q3: Create 100x100 matrix of random ints (0, 255)\n",
    "\n",
    "✅ Normalize to [0,1]\n",
    "\n",
    "✅ Replace all values < 0.3 with 0\n",
    "\n",
    "✅ Replace all values > 0.7 with 1\n",
    "\n"
   ]
  },
  {
   "cell_type": "code",
   "execution_count": null,
   "id": "32f2b733",
   "metadata": {},
   "outputs": [],
   "source": [
    "hun_by_hun=np.random.randint(0,255,size=(100,100))\n",
    "hun_by_hun=hun_by_hun/255.0\n",
    "hun_by_hun[hun_by_hun<0.3]=0\n",
    "hun_by_hun[hun_by_hun>0.7]=1\n",
    "print(hun_by_hun)"
   ]
  },
  {
   "cell_type": "markdown",
   "id": "1bc565e4",
   "metadata": {},
   "source": [
    "### 🎯 SECTION 2: Real-World Projects (LinkedIn + GitHub ready)"
   ]
  },
  {
   "cell_type": "markdown",
   "id": "8b473141",
   "metadata": {},
   "source": [
    "PROJECT 1: Image Dataset Preprocessing\n",
    "\n",
    "`batch = np.random.randint(0, 256, size=(256, 128, 128, 3), dtype=np.uint8)`\n",
    "\n",
    "✅ Normalize to [0,1]\n",
    "\n",
    "✅ Transpose to (batch, channels, height, width)\n",
    "\n",
    "✅ Compute mean pixel value PER channel\n",
    "\n",
    "✅ Compute L2 norm of each image\n",
    "\n",
    "✅ Save 5 images to disk using matplotlib"
   ]
  },
  {
   "cell_type": "code",
   "execution_count": 69,
   "id": "858a1c82",
   "metadata": {},
   "outputs": [],
   "source": [
    "batch = np.random.randint(0, 256, size=(256, 128, 128, 3), dtype=np.uint8)\n",
    "batch=batch/255.0\n",
    "batch=np.transpose(batch,(0,3,1,2))\n",
    "batch_mean=batch.mean(axis=1)\n",
    "l2_norms = np.sqrt(np.sum(batch ** 2, axis=1))\n",
    "import matplotlib.pyplot as plt\n",
    "\n",
    "# Save the first 5 images (convert from (C, H, W) to (H, W, C))\n",
    "for i in range(5):\n",
    "    img = batch[i].transpose(1, 2, 0)  # (C, H, W) -> (H, W, C)\n",
    "    plt.imsave(f'image_{i}.png', img)\n",
    "\n"
   ]
  },
  {
   "cell_type": "markdown",
   "id": "094b4c35",
   "metadata": {},
   "source": [
    "PROJECT 2: Feature Engineering for ML\n",
    "\n",
    "\n",
    "`X = np.random.randn(5000, 50)`\n",
    "✅ Normalize (zero mean, unit variance)\n",
    "\n",
    "✅ Compute new features:\n",
    "\n",
    "\n",
    "f1 = sum( abs(x_i) )\n",
    "\n",
    "f2 = max(x_i)\n",
    "\n",
    "f3 = min(x_i)\n",
    "\n",
    "✅ Stack features into final array → shape (5000, 3)\n",
    "\n",
    "✅ Save as CSV (use Pandas here)"
   ]
  },
  {
   "cell_type": "code",
   "execution_count": 71,
   "id": "0410527c",
   "metadata": {
    "vscode": {
     "languageId": "markdown"
    }
   },
   "outputs": [
    {
     "data": {
      "text/plain": [
       "'The `abs` function (or `np.abs` for NumPy arrays) returns the absolute value of a number or each element in an array.  \\n- For a number: `abs(-5)` returns `5`.\\n- For an array: `np.abs([-2, 0, 3])` returns `[2, 0, 3]`.\\n\\nIt calculates the distance from zero, ignoring the sign. For complex numbers, it returns the magnitude (i.e., `sqrt(real^2 + imag^2)`).'"
      ]
     },
     "execution_count": 71,
     "metadata": {},
     "output_type": "execute_result"
    }
   ],
   "source": [
    "\"\"\"The `abs` function (or `np.abs` for NumPy arrays) returns the absolute value of a number or each element in an array.  \n",
    "- For a number: `abs(-5)` returns `5`.\n",
    "- For an array: `np.abs([-2, 0, 3])` returns `[2, 0, 3]`.\n",
    "\n",
    "It calculates the distance from zero, ignoring the sign. For complex numbers, it returns the magnitude (i.e., `sqrt(real^2 + imag^2)`).\"\"\"\n"
   ]
  },
  {
   "cell_type": "code",
   "execution_count": 90,
   "id": "e1826758",
   "metadata": {
    "vscode": {
     "languageId": "markdown"
    }
   },
   "outputs": [
    {
     "name": "stdout",
     "output_type": "stream",
     "text": [
      "(5000, 3)\n"
     ]
    }
   ],
   "source": [
    "X = np.random.randn(5000, 50)\n",
    "X=X/255.0\n",
    "f1=np.sum(abs(X),axis=1)\n",
    "f2=np.max(X,axis=1)\n",
    "f3=np.min(X,axis=1)\n",
    "\n",
    "stac_k=np.vstack([f1, f2, f3])\n",
    "stac_k=np.transpose(stac_k)\n",
    "print(stac_k.shape)\n",
    "\n"
   ]
  },
  {
   "cell_type": "markdown",
   "id": "8ee5e41f",
   "metadata": {},
   "source": [
    "# ⭐️ BONUS EXPLANATION: What is ReLU?\n",
    "→ ReLU = Rectified Linear Unit\n",
    "\n",
    "→ It is a simple activation function used in Deep Learning:\n",
    "\n",
    "\n",
    "`ReLU(x) = max(0, x)`\n",
    "\n",
    "→ It replaces all negative values with 0 — keeps positive values as they are.\n",
    "\n",
    "Why?\n",
    "\n",
    "👉 Without ReLU, neural nets become linear — can’t learn complex patterns.\n",
    "\n",
    "👉 ReLU makes network non-linear → can model real-world data better.\n",
    "\n",
    "👉 It’s very fast and works well — default in almost all modern neural nets (CNNs, Transformers, etc)."
   ]
  },
  {
   "cell_type": "markdown",
   "id": "c458565f",
   "metadata": {},
   "source": []
  },
  {
   "cell_type": "markdown",
   "id": "c24e5ea4",
   "metadata": {},
   "source": []
  },
  {
   "cell_type": "markdown",
   "id": "add59ba6",
   "metadata": {},
   "source": [
    "PROJECT 4: Simulate Neural Network Layer\n",
    "\n",
    "Simulate a dense layer:\n",
    "\n",
    "\n",
    "`X = np.random.randn(100, 128)    # batch of 100 inputs, 128 features`\n",
    "\n",
    "`W = np.random.randn(128, 64)     # weights`\n",
    "\n",
    "`b = np.random.randn(64)          # bias`\n",
    "\n",
    "✅ Compute output:\n",
    "\n",
    "`out = X @ W + b`\n",
    "\n",
    "✅ Apply ReLU activation:\n",
    "\n",
    "relu_out = np.maximum(0, out)\n"
   ]
  },
  {
   "cell_type": "code",
   "execution_count": 93,
   "id": "6e4da541",
   "metadata": {
    "vscode": {
     "languageId": "markdown"
    }
   },
   "outputs": [
    {
     "name": "stdout",
     "output_type": "stream",
     "text": [
      "[[ -1.87424249  12.21397882  26.60231822 ...   5.54046049  17.5221712\n",
      "    2.35868452]\n",
      " [ -3.58774411  19.09219601  16.01501492 ...  -1.76043255  -9.83020611\n",
      "   16.5521907 ]\n",
      " [ -1.40645556   9.34801866   6.49442393 ...   6.77636689  -6.19885966\n",
      "    0.56693603]\n",
      " ...\n",
      " [ -4.37099944 -14.12008371   7.04744439 ...  10.19876926 -18.3958282\n",
      "   15.88452583]\n",
      " [ -8.37528241  -2.89735092   4.37804887 ...  -9.87497791  -1.6087005\n",
      "   -6.11107044]\n",
      " [ 23.26856113 -10.54648259   1.39079392 ... -11.62362527  -1.66826825\n",
      "   -7.62988937]]\n",
      "[[ 0.         12.21397882 26.60231822 ...  5.54046049 17.5221712\n",
      "   2.35868452]\n",
      " [ 0.         19.09219601 16.01501492 ...  0.          0.\n",
      "  16.5521907 ]\n",
      " [ 0.          9.34801866  6.49442393 ...  6.77636689  0.\n",
      "   0.56693603]\n",
      " ...\n",
      " [ 0.          0.          7.04744439 ... 10.19876926  0.\n",
      "  15.88452583]\n",
      " [ 0.          0.          4.37804887 ...  0.          0.\n",
      "   0.        ]\n",
      " [23.26856113  0.          1.39079392 ...  0.          0.\n",
      "   0.        ]]\n"
     ]
    }
   ],
   "source": [
    "X = np.random.randn(100, 128)    # batch of 100 inputs, 128 features\n",
    "W = np.random.randn(128, 64)     # weights\n",
    "b = np.random.randn(64)          # bias\n",
    "out = X @ W + b\n",
    "print(out)\n",
    "relu_out=np.maximum(0,out)\n",
    "print(relu_out)"
   ]
  },
  {
   "cell_type": "markdown",
   "id": "6d6bab7f",
   "metadata": {},
   "source": []
  }
 ],
 "metadata": {
  "kernelspec": {
   "display_name": "base",
   "language": "python",
   "name": "python3"
  },
  "language_info": {
   "codemirror_mode": {
    "name": "ipython",
    "version": 3
   },
   "file_extension": ".py",
   "mimetype": "text/x-python",
   "name": "python",
   "nbconvert_exporter": "python",
   "pygments_lexer": "ipython3",
   "version": "3.12.7"
  }
 },
 "nbformat": 4,
 "nbformat_minor": 5
}
